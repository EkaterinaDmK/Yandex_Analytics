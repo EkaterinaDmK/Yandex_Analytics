{
 "cells": [
  {
   "cell_type": "markdown",
   "metadata": {},
   "source": [
    "<font color='4682B4'>\n",
    "    \n",
    "    \n",
    "\n",
    "# Исследование объявлений о продаже квартир\n",
    "\n",
    "В моем распоряжении данные сервиса Яндекс. Недвижимость - архив объявлений о продаже квартир в Санкт-Петербурге и соседних населённых пунктах за несколько лет. В рамках данного исследования нужно определить рыночную стоимость объектов недвижимости. Моя задача - установить параметры. Это позволит построить автоматизированную систему: она отследит аномалии и мошенническую деятельность.\n",
    "По каждой квартире на продажу доступны два вида данных. Первые вписаны пользователем, вторые получены автоматически на основе картографических данных. Например, расстояние до центра, аэропорта, ближайшего парка и водоёма.\n",
    "\n",
    "## Цель исследования:\n",
    "1. Определить рыночную стоимость объектов недвижимости.\n",
    "2. Построить автоматизированную систему, которая отследит аномалии и мошенническую деятельность\n",
    "3. Установить, какие факторы влияют на ценообразование стоимости квартир\n",
    "## Ход исследования:\n",
    "Данные о недвижимости я получу из файла \" /datasets/real_estate_data.csv' . О качестве данных ничего не известно. Поэтому перед тем, как приступать к целям исследования, понадобится обзор данных.\n",
    "Я проверю данные на ошибки и оценю их влияние на исследование. Затем, на этапе предобработки я поищу возможность исправить все ошибки данных, которые не приведут к искажению конечного результата. Далее, создам необходимые столбцы, и приступлю к проведению исследовательского анализа.\n",
    "Таким образом, моё исследование пройдёт в семь этапов:\n",
    "\n",
    "- Обзор данных.\n",
    "- Предобработка данных.\n",
    "- Расчеты и добавление результатов в таблицу.\n",
    "- Проведение анализа для Ленинградской области.\n",
    "- Проведение анализа для Санкт-Петербурга.\n",
    "- Различаются ли факторы, которые влияют на ценообразование стоимости квартир.\n",
    "- Написание общего вывода\n",
    "\n",
    "\n",
    "Приступим\n",
    "<font>"
   ]
  },
  {
   "cell_type": "markdown",
   "metadata": {},
   "source": [
    "### Откроем файл с данными и изучим общую информацию. "
   ]
  },
  {
   "cell_type": "code",
   "execution_count": 1,
   "metadata": {},
   "outputs": [],
   "source": [
    "import pandas as pd\n",
    "import string\n",
    "import matplotlib.pyplot as plt\n",
    "import numpy as np\n",
    "import seaborn as sns\n",
    "\n",
    "try:\n",
    "    data=pd.read_csv('/datasets/real_estate_data.csv', sep='\\t')\n",
    "except:\n",
    "    data=pd.read_csv(r'C:\\Users\\kater\\Downloads\\real_estate_data.csv', sep='\\t')\n"
   ]
  },
  {
   "cell_type": "code",
   "execution_count": 2,
   "metadata": {},
   "outputs": [
    {
     "name": "stdout",
     "output_type": "stream",
     "text": [
      "   total_images  last_price  total_area first_day_exposition  rooms  \\\n",
      "0            20  13000000.0       108.0  2019-03-07T00:00:00      3   \n",
      "1             7   3350000.0        40.4  2018-12-04T00:00:00      1   \n",
      "2            10   5196000.0        56.0  2015-08-20T00:00:00      2   \n",
      "3             0  64900000.0       159.0  2015-07-24T00:00:00      3   \n",
      "4             2  10000000.0       100.0  2018-06-19T00:00:00      2   \n",
      "\n",
      "   ceiling_height  floors_total  living_area  floor is_apartment  ...  \\\n",
      "0            2.70          16.0         51.0      8          NaN  ...   \n",
      "1             NaN          11.0         18.6      1          NaN  ...   \n",
      "2             NaN           5.0         34.3      4          NaN  ...   \n",
      "3             NaN          14.0          NaN      9          NaN  ...   \n",
      "4            3.03          14.0         32.0     13          NaN  ...   \n",
      "\n",
      "   kitchen_area  balcony    locality_name  airports_nearest  \\\n",
      "0          25.0      NaN  Санкт-Петербург           18863.0   \n",
      "1          11.0      2.0   посёлок Шушары           12817.0   \n",
      "2           8.3      0.0  Санкт-Петербург           21741.0   \n",
      "3           NaN      0.0  Санкт-Петербург           28098.0   \n",
      "4          41.0      NaN  Санкт-Петербург           31856.0   \n",
      "\n",
      "  cityCenters_nearest  parks_around3000  parks_nearest  ponds_around3000  \\\n",
      "0             16028.0               1.0          482.0               2.0   \n",
      "1             18603.0               0.0            NaN               0.0   \n",
      "2             13933.0               1.0           90.0               2.0   \n",
      "3              6800.0               2.0           84.0               3.0   \n",
      "4              8098.0               2.0          112.0               1.0   \n",
      "\n",
      "   ponds_nearest  days_exposition  \n",
      "0          755.0              NaN  \n",
      "1            NaN             81.0  \n",
      "2          574.0            558.0  \n",
      "3          234.0            424.0  \n",
      "4           48.0            121.0  \n",
      "\n",
      "[5 rows x 22 columns]\n"
     ]
    }
   ],
   "source": [
    "print(data.head())"
   ]
  },
  {
   "cell_type": "code",
   "execution_count": 3,
   "metadata": {
    "scrolled": false
   },
   "outputs": [
    {
     "name": "stdout",
     "output_type": "stream",
     "text": [
      "<class 'pandas.core.frame.DataFrame'>\n",
      "RangeIndex: 23699 entries, 0 to 23698\n",
      "Data columns (total 22 columns):\n",
      " #   Column                Non-Null Count  Dtype  \n",
      "---  ------                --------------  -----  \n",
      " 0   total_images          23699 non-null  int64  \n",
      " 1   last_price            23699 non-null  float64\n",
      " 2   total_area            23699 non-null  float64\n",
      " 3   first_day_exposition  23699 non-null  object \n",
      " 4   rooms                 23699 non-null  int64  \n",
      " 5   ceiling_height        14504 non-null  float64\n",
      " 6   floors_total          23613 non-null  float64\n",
      " 7   living_area           21796 non-null  float64\n",
      " 8   floor                 23699 non-null  int64  \n",
      " 9   is_apartment          2775 non-null   object \n",
      " 10  studio                23699 non-null  bool   \n",
      " 11  open_plan             23699 non-null  bool   \n",
      " 12  kitchen_area          21421 non-null  float64\n",
      " 13  balcony               12180 non-null  float64\n",
      " 14  locality_name         23650 non-null  object \n",
      " 15  airports_nearest      18157 non-null  float64\n",
      " 16  cityCenters_nearest   18180 non-null  float64\n",
      " 17  parks_around3000      18181 non-null  float64\n",
      " 18  parks_nearest         8079 non-null   float64\n",
      " 19  ponds_around3000      18181 non-null  float64\n",
      " 20  ponds_nearest         9110 non-null   float64\n",
      " 21  days_exposition       20518 non-null  float64\n",
      "dtypes: bool(2), float64(14), int64(3), object(3)\n",
      "memory usage: 3.7+ MB\n"
     ]
    }
   ],
   "source": [
    "data.info()"
   ]
  },
  {
   "cell_type": "code",
   "execution_count": 4,
   "metadata": {},
   "outputs": [
    {
     "data": {
      "image/png": "[encoded data removed]",
      "text/plain": [
       "<Figure size 1500x2000 with 20 Axes>"
      ]
     },
     "metadata": {},
     "output_type": "display_data"
    }
   ],
   "source": [
    "data.hist(figsize=(15,20));"
   ]
  },
  {
   "cell_type": "code",
   "execution_count": 5,
   "metadata": {},
   "outputs": [
    {
     "data": {
      "text/plain": [
       "total_images                0\n",
       "last_price                  0\n",
       "total_area                  0\n",
       "first_day_exposition        0\n",
       "rooms                       0\n",
       "ceiling_height           9195\n",
       "floors_total               86\n",
       "living_area              1903\n",
       "floor                       0\n",
       "is_apartment            20924\n",
       "studio                      0\n",
       "open_plan                   0\n",
       "kitchen_area             2278\n",
       "balcony                 11519\n",
       "locality_name              49\n",
       "airports_nearest         5542\n",
       "cityCenters_nearest      5519\n",
       "parks_around3000         5518\n",
       "parks_nearest           15620\n",
       "ponds_around3000         5518\n",
       "ponds_nearest           14589\n",
       "days_exposition          3181\n",
       "dtype: int64"
      ]
     },
     "execution_count": 5,
     "metadata": {},
     "output_type": "execute_result"
    }
   ],
   "source": [
    "data.isna().sum()"
   ]
  },
  {
   "cell_type": "code",
   "execution_count": 7,
   "metadata": {},
   "outputs": [
    {
     "data": {
      "text/html": [
       "<style type=\"text/css\">\n",
       "#T_b1327_row0_col0, #T_b1327_row1_col0, #T_b1327_row2_col0, #T_b1327_row3_col0, #T_b1327_row4_col0, #T_b1327_row6_col0, #T_b1327_row8_col0, #T_b1327_row10_col0, #T_b1327_row11_col0, #T_b1327_row14_col0 {\n",
       "  background-color: #3b4cc0;\n",
       "  color: #f1f1f1;\n",
       "}\n",
       "#T_b1327_row5_col0 {\n",
       "  background-color: #cdd9ec;\n",
       "  color: #000000;\n",
       "}\n",
       "#T_b1327_row7_col0 {\n",
       "  background-color: #5673e0;\n",
       "  color: #f1f1f1;\n",
       "}\n",
       "#T_b1327_row9_col0 {\n",
       "  background-color: #b40426;\n",
       "  color: #f1f1f1;\n",
       "}\n",
       "#T_b1327_row12_col0 {\n",
       "  background-color: #5e7de7;\n",
       "  color: #f1f1f1;\n",
       "}\n",
       "#T_b1327_row13_col0 {\n",
       "  background-color: #ead4c8;\n",
       "  color: #000000;\n",
       "}\n",
       "#T_b1327_row15_col0, #T_b1327_row16_col0, #T_b1327_row17_col0, #T_b1327_row19_col0 {\n",
       "  background-color: #90b2fe;\n",
       "  color: #000000;\n",
       "}\n",
       "#T_b1327_row18_col0 {\n",
       "  background-color: #f4987a;\n",
       "  color: #000000;\n",
       "}\n",
       "#T_b1327_row20_col0 {\n",
       "  background-color: #f7aa8c;\n",
       "  color: #000000;\n",
       "}\n",
       "#T_b1327_row21_col0 {\n",
       "  background-color: #688aef;\n",
       "  color: #f1f1f1;\n",
       "}\n",
       "</style>\n",
       "<table id=\"T_b1327\">\n",
       "  <thead>\n",
       "    <tr>\n",
       "      <th class=\"blank level0\" >&nbsp;</th>\n",
       "      <th id=\"T_b1327_level0_col0\" class=\"col_heading level0 col0\" >0</th>\n",
       "    </tr>\n",
       "  </thead>\n",
       "  <tbody>\n",
       "    <tr>\n",
       "      <th id=\"T_b1327_level0_row0\" class=\"row_heading level0 row0\" >total_images</th>\n",
       "      <td id=\"T_b1327_row0_col0\" class=\"data row0 col0\" >0.000000</td>\n",
       "    </tr>\n",
       "    <tr>\n",
       "      <th id=\"T_b1327_level0_row1\" class=\"row_heading level0 row1\" >last_price</th>\n",
       "      <td id=\"T_b1327_row1_col0\" class=\"data row1 col0\" >0.000000</td>\n",
       "    </tr>\n",
       "    <tr>\n",
       "      <th id=\"T_b1327_level0_row2\" class=\"row_heading level0 row2\" >total_area</th>\n",
       "      <td id=\"T_b1327_row2_col0\" class=\"data row2 col0\" >0.000000</td>\n",
       "    </tr>\n",
       "    <tr>\n",
       "      <th id=\"T_b1327_level0_row3\" class=\"row_heading level0 row3\" >first_day_exposition</th>\n",
       "      <td id=\"T_b1327_row3_col0\" class=\"data row3 col0\" >0.000000</td>\n",
       "    </tr>\n",
       "    <tr>\n",
       "      <th id=\"T_b1327_level0_row4\" class=\"row_heading level0 row4\" >rooms</th>\n",
       "      <td id=\"T_b1327_row4_col0\" class=\"data row4 col0\" >0.000000</td>\n",
       "    </tr>\n",
       "    <tr>\n",
       "      <th id=\"T_b1327_level0_row5\" class=\"row_heading level0 row5\" >ceiling_height</th>\n",
       "      <td id=\"T_b1327_row5_col0\" class=\"data row5 col0\" >39.000000</td>\n",
       "    </tr>\n",
       "    <tr>\n",
       "      <th id=\"T_b1327_level0_row6\" class=\"row_heading level0 row6\" >floors_total</th>\n",
       "      <td id=\"T_b1327_row6_col0\" class=\"data row6 col0\" >0.000000</td>\n",
       "    </tr>\n",
       "    <tr>\n",
       "      <th id=\"T_b1327_level0_row7\" class=\"row_heading level0 row7\" >living_area</th>\n",
       "      <td id=\"T_b1327_row7_col0\" class=\"data row7 col0\" >8.000000</td>\n",
       "    </tr>\n",
       "    <tr>\n",
       "      <th id=\"T_b1327_level0_row8\" class=\"row_heading level0 row8\" >floor</th>\n",
       "      <td id=\"T_b1327_row8_col0\" class=\"data row8 col0\" >0.000000</td>\n",
       "    </tr>\n",
       "    <tr>\n",
       "      <th id=\"T_b1327_level0_row9\" class=\"row_heading level0 row9\" >is_apartment</th>\n",
       "      <td id=\"T_b1327_row9_col0\" class=\"data row9 col0\" >88.000000</td>\n",
       "    </tr>\n",
       "    <tr>\n",
       "      <th id=\"T_b1327_level0_row10\" class=\"row_heading level0 row10\" >studio</th>\n",
       "      <td id=\"T_b1327_row10_col0\" class=\"data row10 col0\" >0.000000</td>\n",
       "    </tr>\n",
       "    <tr>\n",
       "      <th id=\"T_b1327_level0_row11\" class=\"row_heading level0 row11\" >open_plan</th>\n",
       "      <td id=\"T_b1327_row11_col0\" class=\"data row11 col0\" >0.000000</td>\n",
       "    </tr>\n",
       "    <tr>\n",
       "      <th id=\"T_b1327_level0_row12\" class=\"row_heading level0 row12\" >kitchen_area</th>\n",
       "      <td id=\"T_b1327_row12_col0\" class=\"data row12 col0\" >10.000000</td>\n",
       "    </tr>\n",
       "    <tr>\n",
       "      <th id=\"T_b1327_level0_row13\" class=\"row_heading level0 row13\" >balcony</th>\n",
       "      <td id=\"T_b1327_row13_col0\" class=\"data row13 col0\" >49.000000</td>\n",
       "    </tr>\n",
       "    <tr>\n",
       "      <th id=\"T_b1327_level0_row14\" class=\"row_heading level0 row14\" >locality_name</th>\n",
       "      <td id=\"T_b1327_row14_col0\" class=\"data row14 col0\" >0.000000</td>\n",
       "    </tr>\n",
       "    <tr>\n",
       "      <th id=\"T_b1327_level0_row15\" class=\"row_heading level0 row15\" >airports_nearest</th>\n",
       "      <td id=\"T_b1327_row15_col0\" class=\"data row15 col0\" >23.000000</td>\n",
       "    </tr>\n",
       "    <tr>\n",
       "      <th id=\"T_b1327_level0_row16\" class=\"row_heading level0 row16\" >cityCenters_nearest</th>\n",
       "      <td id=\"T_b1327_row16_col0\" class=\"data row16 col0\" >23.000000</td>\n",
       "    </tr>\n",
       "    <tr>\n",
       "      <th id=\"T_b1327_level0_row17\" class=\"row_heading level0 row17\" >parks_around3000</th>\n",
       "      <td id=\"T_b1327_row17_col0\" class=\"data row17 col0\" >23.000000</td>\n",
       "    </tr>\n",
       "    <tr>\n",
       "      <th id=\"T_b1327_level0_row18\" class=\"row_heading level0 row18\" >parks_nearest</th>\n",
       "      <td id=\"T_b1327_row18_col0\" class=\"data row18 col0\" >66.000000</td>\n",
       "    </tr>\n",
       "    <tr>\n",
       "      <th id=\"T_b1327_level0_row19\" class=\"row_heading level0 row19\" >ponds_around3000</th>\n",
       "      <td id=\"T_b1327_row19_col0\" class=\"data row19 col0\" >23.000000</td>\n",
       "    </tr>\n",
       "    <tr>\n",
       "      <th id=\"T_b1327_level0_row20\" class=\"row_heading level0 row20\" >ponds_nearest</th>\n",
       "      <td id=\"T_b1327_row20_col0\" class=\"data row20 col0\" >62.000000</td>\n",
       "    </tr>\n",
       "    <tr>\n",
       "      <th id=\"T_b1327_level0_row21\" class=\"row_heading level0 row21\" >days_exposition</th>\n",
       "      <td id=\"T_b1327_row21_col0\" class=\"data row21 col0\" >13.000000</td>\n",
       "    </tr>\n",
       "  </tbody>\n",
       "</table>\n"
      ],
      "text/plain": [
       "<pandas.io.formats.style.Styler at 0x1bf5cd31850>"
      ]
     },
     "execution_count": 7,
     "metadata": {},
     "output_type": "execute_result"
    }
   ],
   "source": [
    "pd.DataFrame(round(data.isna().mean()*100,)).style.background_gradient('coolwarm')"
   ]
  },
  {
   "cell_type": "markdown",
   "metadata": {},
   "source": [
    "<font color='4682B4'>\n",
    "    \n",
    "## Данный проект основан на анализе архива объявлений за несколько лет о продаже квартир в Санкт-Петербурге и соседних населённых пунктах.\n",
    "    \n",
    "### Описание данных:\n",
    "    \n",
    "    \n",
    "* airports_nearest — расстояние до ближайшего аэропорта в метрах (м)\n",
    "* balcony — число балконов\n",
    "* ceiling_height — высота потолков (м)\n",
    "* cityCenters_nearest — расстояние до центра города (м)\n",
    "* days_exposition — сколько дней было размещено объявление (от публикации до снятия)\n",
    "* first_day_exposition — дата публикации\n",
    "* floor — этаж\n",
    "* floors_total — всего этажей в доме\n",
    "* is_apartment — апартаменты (булев тип) \n",
    "* kitchen_area — площадь кухни в квадратных метрах (м²)\n",
    "* last_price — цена на момент снятия с публикации\n",
    "* living_area — жилая площадь в квадратных метрах (м²)\n",
    "* locality_name — название населённого пункта \n",
    "* open_plan — свободная планировка (булев тип)  \n",
    "* parks_around3000 — число парков в радиусе 3 км \n",
    "* parks_nearest — расстояние до ближайшего парка (м)  \n",
    "* ponds_around3000 — число водоёмов в радиусе 3 км  \n",
    "* ponds_nearest — расстояние до ближайшего водоёма (м)\n",
    "* rooms — число комнат\n",
    "* studio — квартира-студия (булев тип)\n",
    "* total_area — общая площадь квартиры в квадратных метрах (м²)\n",
    "* total_images — число фотографий квартиры в объявлении\n",
    "    \n",
    "    При изучении общей информации я заметила следующее:\n",
    "* В данных есть пропуски, в столбце is_apartment наибольшее их количества. Много пропусков в данных, связанных с парками и водоемами рядом.\n",
    "* Изучив гистограммы, также выявила аномальные значения.Например, в столбце \"ceiling_height\", в котором описана высота потолка.\n",
    "* Есть ошибки в типе данных. Например, first_day_exposition-данные типа object, для удобства нужно будет перевести их в тип datetime. \n",
    "    \n",
    "    Приступим к предобработке данных.\n",
    "   \n",
    "    "
   ]
  },
  {
   "cell_type": "markdown",
   "metadata": {},
   "source": [
    "### Предобработка данных"
   ]
  },
  {
   "cell_type": "code",
   "execution_count": 6,
   "metadata": {
    "scrolled": false
   },
   "outputs": [
    {
     "data": {
      "text/plain": [
       "array([  2.7 ,    nan,   3.03,   2.5 ,   2.67,   2.56,   3.05,   2.75,\n",
       "         2.6 ,   2.9 ,   2.8 ,   2.55,   3.  ,   2.65,   3.2 ,   2.61,\n",
       "         3.25,   3.45,   2.77,   2.85,   2.64,   2.57,   4.15,   3.5 ,\n",
       "         3.3 ,   2.71,   4.  ,   2.47,   2.73,   2.84,   3.1 ,   2.34,\n",
       "         3.4 ,   3.06,   2.72,   2.54,   2.51,   2.78,   2.76,  25.  ,\n",
       "         2.58,   3.7 ,   2.52,   5.2 ,   2.87,   2.66,   2.59,   2.  ,\n",
       "         2.45,   3.6 ,   2.92,   3.11,   3.13,   3.8 ,   3.15,   3.55,\n",
       "         3.16,   3.62,   3.12,   2.53,   2.74,   2.96,   2.46,   5.3 ,\n",
       "         5.  ,   2.79,   2.95,   4.06,   2.94,   3.82,   3.54,   3.53,\n",
       "         2.83,   4.7 ,   2.4 ,   3.38,   3.01,   5.6 ,   3.65,   3.9 ,\n",
       "         3.18,   3.35,   2.3 ,   3.57,   2.48,   2.62,   2.82,   3.98,\n",
       "         2.63,   3.83,   3.52,   3.95,   3.75,   2.88,   3.67,   3.87,\n",
       "         3.66,   3.85,   3.86,   4.19,   3.24,   4.8 ,   4.5 ,   4.2 ,\n",
       "         3.36,  32.  ,   3.08,   3.68,   3.07,   3.37,   3.09,   8.  ,\n",
       "         3.26,   3.34,   2.81,   3.44,   2.97,   3.14,   4.37,   2.68,\n",
       "         3.22,   3.27,  27.  ,   4.1 ,   2.93,   3.46,  24.  ,   3.47,\n",
       "         3.33,   3.63,   3.32,  26.  ,   1.2 ,   8.3 ,   2.98,   2.86,\n",
       "         3.17,   4.4 ,   3.28,   3.04,   4.45,   5.5 ,   3.84,   3.23,\n",
       "         3.02,   3.21,   3.43,   3.78,   4.3 ,   3.39,   2.69,   3.31,\n",
       "         4.65,   3.56,   2.2 ,   3.51,   3.93,   3.42,   2.99,   3.49,\n",
       "        14.  ,   4.14,   2.91,   3.88,   1.75,   4.25,   3.29,  20.  ,\n",
       "         2.25,   3.76,   3.69,   6.  ,  22.6 ,   2.89,   3.58,   5.8 ,\n",
       "        27.5 ,   2.49,   4.9 ,   3.48,  10.3 ,   1.  , 100.  ,   3.59])"
      ]
     },
     "execution_count": 6,
     "metadata": {},
     "output_type": "execute_result"
    }
   ],
   "source": [
    "data['ceiling_height'].unique()"
   ]
  },
  {
   "cell_type": "markdown",
   "metadata": {},
   "source": [
    "<font color='4682B4'>Для начала удалим аномальные значения: </font>"
   ]
  },
  {
   "cell_type": "code",
   "execution_count": 7,
   "metadata": {},
   "outputs": [],
   "source": [
    "data=data.loc[(data['ceiling_height'].isna()) | ((data['ceiling_height'] <= 10) & (data['ceiling_height'] >= 2.5))]"
   ]
  },
  {
   "cell_type": "code",
   "execution_count": 8,
   "metadata": {},
   "outputs": [
    {
     "data": {
      "text/plain": [
       "array([2.7 ,  nan, 3.03, 2.5 , 2.67, 2.56, 3.05, 2.75, 2.6 , 2.9 , 2.8 ,\n",
       "       2.55, 3.  , 2.65, 3.2 , 2.61, 3.25, 3.45, 2.77, 2.85, 2.64, 2.57,\n",
       "       4.15, 3.5 , 3.3 , 2.71, 4.  , 2.73, 2.84, 3.1 , 3.4 , 3.06, 2.72,\n",
       "       2.54, 2.51, 2.78, 2.76, 2.58, 3.7 , 2.52, 5.2 , 2.87, 2.66, 2.59,\n",
       "       3.6 , 2.92, 3.11, 3.13, 3.8 , 3.15, 3.55, 3.16, 3.62, 3.12, 2.53,\n",
       "       2.74, 2.96, 5.3 , 5.  , 2.79, 2.95, 4.06, 2.94, 3.82, 3.54, 3.53,\n",
       "       2.83, 4.7 , 3.38, 3.01, 5.6 , 3.65, 3.9 , 3.18, 3.35, 3.57, 2.62,\n",
       "       2.82, 3.98, 2.63, 3.83, 3.52, 3.95, 3.75, 2.88, 3.67, 3.87, 3.66,\n",
       "       3.85, 3.86, 4.19, 3.24, 4.8 , 4.5 , 4.2 , 3.36, 3.08, 3.68, 3.07,\n",
       "       3.37, 3.09, 8.  , 3.26, 3.34, 2.81, 3.44, 2.97, 3.14, 4.37, 2.68,\n",
       "       3.22, 3.27, 4.1 , 2.93, 3.46, 3.47, 3.33, 3.63, 3.32, 8.3 , 2.98,\n",
       "       2.86, 3.17, 4.4 , 3.28, 3.04, 4.45, 5.5 , 3.84, 3.23, 3.02, 3.21,\n",
       "       3.43, 3.78, 4.3 , 3.39, 2.69, 3.31, 4.65, 3.56, 3.51, 3.93, 3.42,\n",
       "       2.99, 3.49, 4.14, 2.91, 3.88, 4.25, 3.29, 3.76, 3.69, 6.  , 2.89,\n",
       "       3.58, 5.8 , 4.9 , 3.48, 3.59])"
      ]
     },
     "execution_count": 8,
     "metadata": {},
     "output_type": "execute_result"
    }
   ],
   "source": [
    "data['ceiling_height'].unique()"
   ]
  },
  {
   "cell_type": "markdown",
   "metadata": {},
   "source": [
    "<font color='4682B4'>Теперь заполним пропуски медианным значением, так как высота потолком, в среднем, примерно одинаковая.</font>"
   ]
  },
  {
   "cell_type": "code",
   "execution_count": 9,
   "metadata": {},
   "outputs": [],
   "source": [
    "data['ceiling_height']=data['ceiling_height'].fillna(data['ceiling_height'].median())"
   ]
  },
  {
   "cell_type": "code",
   "execution_count": 10,
   "metadata": {},
   "outputs": [
    {
     "data": {
      "text/plain": [
       "total_images                0\n",
       "last_price                  0\n",
       "total_area                  0\n",
       "first_day_exposition        0\n",
       "rooms                       0\n",
       "ceiling_height              0\n",
       "floors_total               86\n",
       "living_area              1897\n",
       "floor                       0\n",
       "is_apartment            20850\n",
       "studio                      0\n",
       "open_plan                   0\n",
       "kitchen_area             2266\n",
       "balcony                 11482\n",
       "locality_name              49\n",
       "airports_nearest         5502\n",
       "cityCenters_nearest      5479\n",
       "parks_around3000         5478\n",
       "parks_nearest           15556\n",
       "ponds_around3000         5478\n",
       "ponds_nearest           14521\n",
       "days_exposition          3165\n",
       "dtype: int64"
      ]
     },
     "execution_count": 10,
     "metadata": {},
     "output_type": "execute_result"
    }
   ],
   "source": [
    "data.isna().sum()"
   ]
  },
  {
   "cell_type": "markdown",
   "metadata": {},
   "source": [
    "<font color='4682B4'>Я думаю, что пропуски в данной категории могли появиться из-за отсутствия точной информации и, следовательно, пропуска этой ячейки при заполнении.</font>"
   ]
  },
  {
   "cell_type": "code",
   "execution_count": 11,
   "metadata": {},
   "outputs": [
    {
     "data": {
      "text/plain": [
       "5.0     5745\n",
       "9.0     3749\n",
       "16.0    1374\n",
       "12.0    1355\n",
       "4.0     1197\n",
       "10.0    1172\n",
       "25.0    1074\n",
       "6.0      910\n",
       "17.0     831\n",
       "3.0      667\n",
       "7.0      591\n",
       "14.0     549\n",
       "18.0     504\n",
       "24.0     468\n",
       "8.0      388\n",
       "2.0      377\n",
       "15.0     364\n",
       "23.0     352\n",
       "19.0     339\n",
       "22.0     286\n",
       "20.0     271\n",
       "13.0     229\n",
       "11.0     202\n",
       "27.0     164\n",
       "21.0     158\n",
       "26.0     124\n",
       "35.0      24\n",
       "1.0       23\n",
       "28.0      21\n",
       "36.0       2\n",
       "29.0       1\n",
       "60.0       1\n",
       "52.0       1\n",
       "34.0       1\n",
       "33.0       1\n",
       "Name: floors_total, dtype: int64"
      ]
     },
     "execution_count": 11,
     "metadata": {},
     "output_type": "execute_result"
    }
   ],
   "source": [
    "data['floors_total'].value_counts()"
   ]
  },
  {
   "cell_type": "markdown",
   "metadata": {},
   "source": [
    "<font color='4682B4'>Аномальные значения появляются после 28 этажа, так как, во-первых, таких высоких жилых зданий в СПБ не существует, во-вторых, такие значения встречаются крайне редко. Поэтому мы от них избавимся. </font>"
   ]
  },
  {
   "cell_type": "code",
   "execution_count": 12,
   "metadata": {},
   "outputs": [],
   "source": [
    "data=data.loc[(data['floors_total'].isna())|(data['floors_total']>=1) & (data['floors_total']<=28)]"
   ]
  },
  {
   "cell_type": "code",
   "execution_count": 13,
   "metadata": {
    "scrolled": true
   },
   "outputs": [
    {
     "data": {
      "text/plain": [
       "5.0     5745\n",
       "9.0     3749\n",
       "16.0    1374\n",
       "12.0    1355\n",
       "4.0     1197\n",
       "10.0    1172\n",
       "25.0    1074\n",
       "6.0      910\n",
       "17.0     831\n",
       "3.0      667\n",
       "7.0      591\n",
       "14.0     549\n",
       "18.0     504\n",
       "24.0     468\n",
       "8.0      388\n",
       "2.0      377\n",
       "15.0     364\n",
       "23.0     352\n",
       "19.0     339\n",
       "22.0     286\n",
       "20.0     271\n",
       "13.0     229\n",
       "11.0     202\n",
       "27.0     164\n",
       "21.0     158\n",
       "26.0     124\n",
       "1.0       23\n",
       "28.0      21\n",
       "Name: floors_total, dtype: int64"
      ]
     },
     "execution_count": 13,
     "metadata": {},
     "output_type": "execute_result"
    }
   ],
   "source": [
    "data['floors_total'].value_counts()"
   ]
  },
  {
   "cell_type": "code",
   "execution_count": 14,
   "metadata": {},
   "outputs": [
    {
     "data": {
      "text/plain": [
       "array([51.  , 18.6 , 34.3 , ..., 31.65, 13.59, 42.55])"
      ]
     },
     "execution_count": 14,
     "metadata": {},
     "output_type": "execute_result"
    }
   ],
   "source": [
    "data['living_area'].unique()"
   ]
  },
  {
   "cell_type": "markdown",
   "metadata": {},
   "source": [
    "<font color='4682B4'>Здесь также заполним данные медианным значением, сгруппировав данные по количеству комнат, в целях улучшения качества данных. </font>"
   ]
  },
  {
   "cell_type": "code",
   "execution_count": 15,
   "metadata": {},
   "outputs": [],
   "source": [
    "data['living_area']=data['living_area'].fillna(data.groupby('rooms')['living_area'].transform('median'))"
   ]
  },
  {
   "cell_type": "markdown",
   "metadata": {},
   "source": [
    "<font color='4682B4'> Пропуски в данной категории, думаю, также являются технической ошибкой. Обычно такие данные заполняются в первую очередь, здесь они, скорее всего, были утеряны.</font>"
   ]
  },
  {
   "cell_type": "code",
   "execution_count": 16,
   "metadata": {},
   "outputs": [
    {
     "data": {
      "text/plain": [
       "total_images                0\n",
       "last_price                  0\n",
       "total_area                  0\n",
       "first_day_exposition        0\n",
       "rooms                       0\n",
       "ceiling_height              0\n",
       "floors_total               86\n",
       "living_area                 0\n",
       "floor                       0\n",
       "is_apartment            20823\n",
       "studio                      0\n",
       "open_plan                   0\n",
       "kitchen_area             2263\n",
       "balcony                 11467\n",
       "locality_name              49\n",
       "airports_nearest         5502\n",
       "cityCenters_nearest      5479\n",
       "parks_around3000         5478\n",
       "parks_nearest           15529\n",
       "ponds_around3000         5478\n",
       "ponds_nearest           14519\n",
       "days_exposition          3158\n",
       "dtype: int64"
      ]
     },
     "execution_count": 16,
     "metadata": {},
     "output_type": "execute_result"
    }
   ],
   "source": [
    "data.isna().sum()"
   ]
  },
  {
   "cell_type": "markdown",
   "metadata": {},
   "source": [
    "<font color='4682B4'> Для заполнения пропуска данных в \"is_apartment\", я решила воспользоваться столбцом \"studio\", заполнив пропуски аналогичными значениями</font>"
   ]
  },
  {
   "cell_type": "code",
   "execution_count": 17,
   "metadata": {},
   "outputs": [],
   "source": [
    "data['is_apartment']=data['is_apartment'].fillna(data['is_apartment'].where(data['studio']==True,True))\n",
    "data['is_apartment']=data['is_apartment'].fillna(data['is_apartment'].where(data['studio']==False,False))"
   ]
  },
  {
   "cell_type": "markdown",
   "metadata": {},
   "source": [
    "<font color='4682B4'> Пропуски в данной категории, думаю, также являются технической ошибкой. Обычно такие данные заполняются в первую очередь, здесь они, скорее всего, были утеряны.</font>"
   ]
  },
  {
   "cell_type": "code",
   "execution_count": 18,
   "metadata": {},
   "outputs": [
    {
     "data": {
      "text/plain": [
       "total_images                0\n",
       "last_price                  0\n",
       "total_area                  0\n",
       "first_day_exposition        0\n",
       "rooms                       0\n",
       "ceiling_height              0\n",
       "floors_total               86\n",
       "living_area                 0\n",
       "floor                       0\n",
       "is_apartment                0\n",
       "studio                      0\n",
       "open_plan                   0\n",
       "kitchen_area             2263\n",
       "balcony                 11467\n",
       "locality_name              49\n",
       "airports_nearest         5502\n",
       "cityCenters_nearest      5479\n",
       "parks_around3000         5478\n",
       "parks_nearest           15529\n",
       "ponds_around3000         5478\n",
       "ponds_nearest           14519\n",
       "days_exposition          3158\n",
       "dtype: int64"
      ]
     },
     "execution_count": 18,
     "metadata": {},
     "output_type": "execute_result"
    }
   ],
   "source": [
    "data.isna().sum()"
   ]
  },
  {
   "cell_type": "markdown",
   "metadata": {},
   "source": [
    "<font color='4682B4'>Kitchen area также заполняю, сгруппировав данные по rooms.\n",
    "</font>\n"
   ]
  },
  {
   "cell_type": "code",
   "execution_count": 19,
   "metadata": {},
   "outputs": [],
   "source": [
    "data['kitchen_area']=data['kitchen_area'].fillna(data.groupby('rooms')['kitchen_area'].transform('median'))"
   ]
  },
  {
   "cell_type": "code",
   "execution_count": 20,
   "metadata": {},
   "outputs": [
    {
     "data": {
      "text/plain": [
       "total_images                0\n",
       "last_price                  0\n",
       "total_area                  0\n",
       "first_day_exposition        0\n",
       "rooms                       0\n",
       "ceiling_height              0\n",
       "floors_total               86\n",
       "living_area                 0\n",
       "floor                       0\n",
       "is_apartment                0\n",
       "studio                      0\n",
       "open_plan                   0\n",
       "kitchen_area              194\n",
       "balcony                 11467\n",
       "locality_name              49\n",
       "airports_nearest         5502\n",
       "cityCenters_nearest      5479\n",
       "parks_around3000         5478\n",
       "parks_nearest           15529\n",
       "ponds_around3000         5478\n",
       "ponds_nearest           14519\n",
       "days_exposition          3158\n",
       "dtype: int64"
      ]
     },
     "execution_count": 20,
     "metadata": {},
     "output_type": "execute_result"
    }
   ],
   "source": [
    "data.isna().sum()"
   ]
  },
  {
   "cell_type": "markdown",
   "metadata": {},
   "source": [
    "<font color='4682B4'> Пропуски в данной категории, думаю, могли появиться из-за отсутствия точных данных. Не исключаю также техническую ошибку, так как этот параметр довольно значимый при продаже недвижимости.</font>"
   ]
  },
  {
   "cell_type": "markdown",
   "metadata": {},
   "source": [
    "<font color='4682B4'> Пропуски данных в столбце \"Balcony\", думаю, связаны с отсутствием балкона. Поэтому мы их заполним значением \"0\".</font>"
   ]
  },
  {
   "cell_type": "code",
   "execution_count": 21,
   "metadata": {},
   "outputs": [],
   "source": [
    "data['balcony']=data['balcony'].fillna(0)"
   ]
  },
  {
   "cell_type": "code",
   "execution_count": 22,
   "metadata": {},
   "outputs": [
    {
     "data": {
      "text/plain": [
       "total_images                0\n",
       "last_price                  0\n",
       "total_area                  0\n",
       "first_day_exposition        0\n",
       "rooms                       0\n",
       "ceiling_height              0\n",
       "floors_total               86\n",
       "living_area                 0\n",
       "floor                       0\n",
       "is_apartment                0\n",
       "studio                      0\n",
       "open_plan                   0\n",
       "kitchen_area              194\n",
       "balcony                     0\n",
       "locality_name              49\n",
       "airports_nearest         5502\n",
       "cityCenters_nearest      5479\n",
       "parks_around3000         5478\n",
       "parks_nearest           15529\n",
       "ponds_around3000         5478\n",
       "ponds_nearest           14519\n",
       "days_exposition          3158\n",
       "dtype: int64"
      ]
     },
     "execution_count": 22,
     "metadata": {},
     "output_type": "execute_result"
    }
   ],
   "source": [
    "data.isna().sum()"
   ]
  },
  {
   "cell_type": "markdown",
   "metadata": {},
   "source": [
    "<font color='4682B4'> Пропуски в locality_name заполнить какими-то значениями не получится, поэтому оставлю там значение \"город неизвестен\". Во избежание дубликатов также заменим ё на е в названиях городов.</font> "
   ]
  },
  {
   "cell_type": "code",
   "execution_count": 23,
   "metadata": {},
   "outputs": [],
   "source": [
    "data['locality_name'] = data['locality_name'].str.replace('ё', 'е')\n",
    "data['locality_name']=data['locality_name'].fillna('Город неизвестен')"
   ]
  },
  {
   "cell_type": "code",
   "execution_count": 24,
   "metadata": {
    "scrolled": true
   },
   "outputs": [
    {
     "data": {
      "text/plain": [
       "total_images                0\n",
       "last_price                  0\n",
       "total_area                  0\n",
       "first_day_exposition        0\n",
       "rooms                       0\n",
       "ceiling_height              0\n",
       "floors_total               86\n",
       "living_area                 0\n",
       "floor                       0\n",
       "is_apartment                0\n",
       "studio                      0\n",
       "open_plan                   0\n",
       "kitchen_area              194\n",
       "balcony                     0\n",
       "locality_name               0\n",
       "airports_nearest         5502\n",
       "cityCenters_nearest      5479\n",
       "parks_around3000         5478\n",
       "parks_nearest           15529\n",
       "ponds_around3000         5478\n",
       "ponds_nearest           14519\n",
       "days_exposition          3158\n",
       "dtype: int64"
      ]
     },
     "execution_count": 24,
     "metadata": {},
     "output_type": "execute_result"
    }
   ],
   "source": [
    "data.isna().sum()"
   ]
  },
  {
   "cell_type": "markdown",
   "metadata": {},
   "source": [
    "<font color='4682B4'> Что касается категорий \"airports_nearest\", \"cityCenters_nearest\", \"parks_around3000\", \"parks_nearest \", \"ponds_around3000\", \"ponds_nearest\", я заполняю их значением \"0\", что означает, что данные места отсутствуют в месте продаж недвижимости (в основном это села, деревни и т.д.)</font> "
   ]
  },
  {
   "cell_type": "code",
   "execution_count": 25,
   "metadata": {},
   "outputs": [],
   "source": [
    "data['airports_nearest']=data['airports_nearest'].fillna('0')\n",
    "data['cityCenters_nearest']=data['cityCenters_nearest'].fillna('0')\n",
    "data['parks_around3000']=data['parks_around3000'].fillna('0')\n",
    "data['parks_nearest']=data['parks_nearest'].fillna('0')\n",
    "data['ponds_around3000']=data['ponds_around3000'].fillna('0')\n",
    "data['ponds_nearest']=data['ponds_nearest'].fillna('0')"
   ]
  },
  {
   "cell_type": "code",
   "execution_count": 26,
   "metadata": {},
   "outputs": [
    {
     "data": {
      "text/plain": [
       "total_images               0\n",
       "last_price                 0\n",
       "total_area                 0\n",
       "first_day_exposition       0\n",
       "rooms                      0\n",
       "ceiling_height             0\n",
       "floors_total              86\n",
       "living_area                0\n",
       "floor                      0\n",
       "is_apartment               0\n",
       "studio                     0\n",
       "open_plan                  0\n",
       "kitchen_area             194\n",
       "balcony                    0\n",
       "locality_name              0\n",
       "airports_nearest           0\n",
       "cityCenters_nearest        0\n",
       "parks_around3000           0\n",
       "parks_nearest              0\n",
       "ponds_around3000           0\n",
       "ponds_nearest              0\n",
       "days_exposition         3158\n",
       "dtype: int64"
      ]
     },
     "execution_count": 26,
     "metadata": {},
     "output_type": "execute_result"
    }
   ],
   "source": [
    "data.isna().sum()"
   ]
  },
  {
   "cell_type": "code",
   "execution_count": 28,
   "metadata": {},
   "outputs": [
    {
     "data": {
      "text/plain": [
       "total_images              0\n",
       "last_price                0\n",
       "total_area                0\n",
       "first_day_exposition      0\n",
       "rooms                     0\n",
       "ceiling_height            0\n",
       "floors_total             86\n",
       "living_area               0\n",
       "floor                     0\n",
       "is_apartment              0\n",
       "studio                    0\n",
       "open_plan                 0\n",
       "kitchen_area            194\n",
       "balcony                   0\n",
       "locality_name             0\n",
       "airports_nearest          0\n",
       "cityCenters_nearest       0\n",
       "parks_around3000          0\n",
       "parks_nearest             0\n",
       "ponds_around3000          0\n",
       "ponds_nearest             0\n",
       "days_exposition           0\n",
       "dtype: int64"
      ]
     },
     "execution_count": 28,
     "metadata": {},
     "output_type": "execute_result"
    }
   ],
   "source": [
    "data.isna().sum()"
   ]
  },
  {
   "cell_type": "markdown",
   "metadata": {},
   "source": [
    "<font color='4682B4'> Избавимся от оставшихся пропусков."
   ]
  },
  {
   "cell_type": "code",
   "execution_count": 29,
   "metadata": {},
   "outputs": [],
   "source": [
    "data=data.dropna().reset_index(drop=True)"
   ]
  },
  {
   "cell_type": "code",
   "execution_count": 30,
   "metadata": {
    "scrolled": true
   },
   "outputs": [
    {
     "data": {
      "text/plain": [
       "total_images            0\n",
       "last_price              0\n",
       "total_area              0\n",
       "first_day_exposition    0\n",
       "rooms                   0\n",
       "ceiling_height          0\n",
       "floors_total            0\n",
       "living_area             0\n",
       "floor                   0\n",
       "is_apartment            0\n",
       "studio                  0\n",
       "open_plan               0\n",
       "kitchen_area            0\n",
       "balcony                 0\n",
       "locality_name           0\n",
       "airports_nearest        0\n",
       "cityCenters_nearest     0\n",
       "parks_around3000        0\n",
       "parks_nearest           0\n",
       "ponds_around3000        0\n",
       "ponds_nearest           0\n",
       "days_exposition         0\n",
       "dtype: int64"
      ]
     },
     "execution_count": 30,
     "metadata": {},
     "output_type": "execute_result"
    }
   ],
   "source": [
    "data.isna().sum()"
   ]
  },
  {
   "cell_type": "markdown",
   "metadata": {},
   "source": [
    "<font color='4682B4'> Далее мы изменим типы данных на нужные. \"first_day_exposition\" на datetime, \"floors_total\", \"balcony\", \"days_exposition\" на int, так как они хранят в себе целые числа."
   ]
  },
  {
   "cell_type": "code",
   "execution_count": 31,
   "metadata": {},
   "outputs": [
    {
     "name": "stdout",
     "output_type": "stream",
     "text": [
      "<class 'pandas.core.frame.DataFrame'>\n",
      "RangeIndex: 23293 entries, 0 to 23292\n",
      "Data columns (total 22 columns):\n",
      " #   Column                Non-Null Count  Dtype  \n",
      "---  ------                --------------  -----  \n",
      " 0   total_images          23293 non-null  int64  \n",
      " 1   last_price            23293 non-null  float64\n",
      " 2   total_area            23293 non-null  float64\n",
      " 3   first_day_exposition  23293 non-null  object \n",
      " 4   rooms                 23293 non-null  int64  \n",
      " 5   ceiling_height        23293 non-null  float64\n",
      " 6   floors_total          23293 non-null  float64\n",
      " 7   living_area           23293 non-null  float64\n",
      " 8   floor                 23293 non-null  int64  \n",
      " 9   is_apartment          23293 non-null  bool   \n",
      " 10  studio                23293 non-null  bool   \n",
      " 11  open_plan             23293 non-null  bool   \n",
      " 12  kitchen_area          23293 non-null  float64\n",
      " 13  balcony               23293 non-null  float64\n",
      " 14  locality_name         23293 non-null  object \n",
      " 15  airports_nearest      23293 non-null  object \n",
      " 16  cityCenters_nearest   23293 non-null  object \n",
      " 17  parks_around3000      23293 non-null  object \n",
      " 18  parks_nearest         23293 non-null  object \n",
      " 19  ponds_around3000      23293 non-null  object \n",
      " 20  ponds_nearest         23293 non-null  object \n",
      " 21  days_exposition       23293 non-null  float64\n",
      "dtypes: bool(3), float64(8), int64(3), object(8)\n",
      "memory usage: 3.4+ MB\n"
     ]
    }
   ],
   "source": [
    "data.info()"
   ]
  },
  {
   "cell_type": "code",
   "execution_count": 32,
   "metadata": {},
   "outputs": [],
   "source": [
    "data['floors_total']=data['floors_total']. astype('int')\n",
    "data['balcony']=data['balcony']. astype('int')\n",
    "data['days_exposition']=data['days_exposition']. astype('int')\n",
    "data['first_day_exposition']=pd.to_datetime(data['first_day_exposition'], format='%Y.%m.%dT%H:%M:%S')\n",
    "data['last_price']=data['last_price']. astype('int')"
   ]
  },
  {
   "cell_type": "code",
   "execution_count": 33,
   "metadata": {
    "scrolled": true
   },
   "outputs": [
    {
     "data": {
      "text/plain": [
       "0                Санкт-Петербург\n",
       "1                 поселок Шушары\n",
       "2      городской поселок Янино-1\n",
       "3              поселок Парголово\n",
       "4                 поселок Мурино\n",
       "                 ...            \n",
       "322          поселок Володарское\n",
       "323    коттеджный поселок Лесное\n",
       "324            деревня Тихковицы\n",
       "325       деревня Борисова Грива\n",
       "326         поселок Дзержинского\n",
       "Name: locality_name, Length: 327, dtype: object"
      ]
     },
     "execution_count": 33,
     "metadata": {},
     "output_type": "execute_result"
    }
   ],
   "source": [
    "data['locality_name'].drop_duplicates(keep='first').reset_index(drop=True)"
   ]
  },
  {
   "cell_type": "code",
   "execution_count": 34,
   "metadata": {},
   "outputs": [
    {
     "data": {
      "text/plain": [
       "0"
      ]
     },
     "execution_count": 34,
     "metadata": {},
     "output_type": "execute_result"
    }
   ],
   "source": [
    "data.duplicated().sum()"
   ]
  },
  {
   "cell_type": "code",
   "execution_count": 35,
   "metadata": {},
   "outputs": [],
   "source": [
    "data['locality_name']=data['locality_name'].str.replace('деревня','')\n",
    "data['locality_name']=data['locality_name'].str.replace('поселок','')\n",
    "data['locality_name']=data['locality_name'].str.replace('коттеджный','')\n",
    "data['locality_name']=data['locality_name'].str.replace('городской','')\n",
    "data['locality_name']=data['locality_name'].str.replace('городского типа','')\n",
    "data['locality_name']=data['locality_name'].str.replace('садовое товарищество','')\n",
    "data['locality_name']=data['locality_name'].str.replace('село','')\n",
    "data['locality_name']=data['locality_name'].str.replace('садоводческое некоммерческое товарищество','')\n",
    "data['locality_name']=data['locality_name'].str.replace('при железнодорожной станции','')\n",
    "data['locality_name']=data['locality_name'].str.strip()"
   ]
  },
  {
   "cell_type": "code",
   "execution_count": 36,
   "metadata": {},
   "outputs": [
    {
     "data": {
      "text/plain": [
       "array(['Санкт-Петербург', 'Шушары', 'Янино-1', 'Парголово', 'Мурино',\n",
       "       'Ломоносов', 'Сертолово', 'Петергоф', 'Пушкин', 'Кудрово',\n",
       "       'Коммунар', 'Колпино', 'Красный Бор', 'Гатчина', 'Федоровское',\n",
       "       'Выборг', 'Кронштадт', 'Кировск', 'Новое Девяткино',\n",
       "       'Металлострой', 'Лебяжье', 'Сиверский', 'Молодцово',\n",
       "       'Кузьмоловский', 'Новая Ропша', 'Павловск', 'Пикколово',\n",
       "       'Всеволожск', 'Волхов', 'Кингисепп', 'Приозерск', 'Сестрорецк',\n",
       "       'Куттузи', 'Аннино', 'Ефимовский', 'Плодовое', 'Заклинье',\n",
       "       'Торковичи', 'Первомайское', 'Красное Село', 'Понтонный',\n",
       "       'Сясьстрой', 'Старая', 'Лесколово', 'Сланцы', 'Путилово',\n",
       "       'Ивангород', 'Шлиссельбург', 'Никольское', 'Зеленогорск',\n",
       "       'Сосновый Бор', 'Новый Свет', 'Оржицы', 'Кальтино', 'Романовка',\n",
       "       'Бугры', 'Рощино', 'Кириши', 'Луга', 'Волосово', 'Отрадное',\n",
       "       'Павлово', 'Оредеж', 'Копорье', 'Молодежное', 'Тихвин', 'Победа',\n",
       "       'Нурма', 'Синявино', 'Тосно', 'Стрельна', 'Бокситогорск',\n",
       "       'Александровская', 'Лопухинка', 'Пикалево', 'Терволово',\n",
       "       'Советский', 'Подпорожье', 'Петровское', 'Токсово', 'Сельцо',\n",
       "       'Вырица', 'Кипень', 'Келози', 'Вартемяги', 'Тельмана',\n",
       "       'Севастьяново', 'Большая Ижора', 'Город неизвестен', 'Агалатово',\n",
       "       'Новогорелово', 'Лесогорский', 'Лаголово', 'Цвелодубово', 'Рахья',\n",
       "       'Белогорка', 'Заводской', 'Новоселье', 'Большие Колпаны',\n",
       "       'Горбунки', 'Батово', 'Заневка', 'Иссад', 'Приморск', 'Мистолово',\n",
       "       'Новая Ладога', 'Зимитицы', 'Барышево', 'Разметелево',\n",
       "       'имени Свердлова', 'Пеники', 'Рябово', 'Пудомяги', 'Низино',\n",
       "       'Бегуницы', 'Поляны', 'Мга', 'Елизаветино', 'Кузнечное', 'Колтуши',\n",
       "       'Запорожское', 'Гостилицы', 'Малое Карлино', 'Мичуринское',\n",
       "       'имени Морозова', 'Песочный', 'Сосново', 'Аро', 'Ильичево',\n",
       "       'Тайцы', 'Малое Верево', 'Извара', 'станции Вещево', 'Паша',\n",
       "       'Калитино', 'Ульяновка', 'Чудской Бор', 'Дубровка', 'Мины',\n",
       "       'Войсковицы', 'Коркино', 'Ропша', 'Приладожский', 'Щеглово',\n",
       "       'Гаврилово', 'Лодейное Поле', 'Рабитицы', 'Никольский',\n",
       "       'Кузьмолово', 'Малые Колпаны', 'Назия', 'Репино', 'Углово',\n",
       "       'Старая Малукса', 'Меньково', 'Старые Бегуницы', 'Саперный',\n",
       "       'Семрино', 'Глажево', 'Кобринское', 'Гарболово', 'Юкки',\n",
       "       'станции Приветнинское', 'Мануйлово', 'Пчева', 'Цвылево',\n",
       "       'Мельниково', 'Пудость', 'Усть-Луга', 'Светогорск', 'Любань',\n",
       "       'Селезнево', 'Каменногорск', 'Кривко', 'Глебычево', 'Парицы',\n",
       "       'Жил', 'Войскорово', 'Стеклянный', 'Важины', 'Мыза-Ивановка',\n",
       "       'Русско-Высоцкое', 'Форносово', 'Старая Ладога', 'Житково',\n",
       "       'Виллози', 'Лампово', 'Шпаньково', 'Лаврики', 'Сумино',\n",
       "       'Возрождение', 'Старосиверская', 'Кикерино', 'Старое Хинколово',\n",
       "       'Пригородный', 'Торфяное', 'Будогощь', 'Суходолье',\n",
       "       'Красная Долина', 'Хапо-Ое', 'Дружная Горка', 'Лисий Нос',\n",
       "       'Яльгелево', 'Рождествено', 'Старополье', 'Левашово', 'Сяськелево',\n",
       "       'Камышовка', 'Лесная Поляна', 'Хязельки', 'Жилгородок', 'Ялгино',\n",
       "       'Новый Учхоз', 'Гончарово', 'Почап', 'Платформа 69-й километр',\n",
       "       'Каложицы', 'Фалилеево', 'Пельгора', 'Торошковичи', 'Белоостров',\n",
       "       'Алексеевка', 'Серебрянский', 'Лукаши', 'Тарасово',\n",
       "       'Кингисеппский', 'Вещево', 'Ушаки', 'Котлы', 'Сижно', 'Торосово',\n",
       "       'Форт Красная Горка', 'Новолисино', 'станции Громово', 'Глинка',\n",
       "       'Старая Пустошь', 'Коммунары', 'Починок', 'Вознесенье',\n",
       "       'Разбегаево', 'Гладкое', 'Приветнинское', 'Тесово-4', 'Бор',\n",
       "       'Коробицыно', 'Большая Вруда', 'Курковицы', 'Кобралово',\n",
       "       'Суоранда', 'Кондратьево', 'Счастье', 'Реброво', 'Тойворово',\n",
       "       'Семиозерье', 'Лесное', 'Совхозный', 'Саперное', 'Ленинское',\n",
       "       'Суйда', 'Нижние Осельки', 'станции Свирь', 'Перово', 'Высоцк',\n",
       "       'Шум', 'Котельский', 'станции Лужайка', 'Большая Пустомержа',\n",
       "       'Красносельское', 'Вахнова Кара', 'Пижма', 'Кивеннапа Север',\n",
       "       'Ромашки', 'Каськово', 'Куровицы', 'Плоское', 'Кирпичное',\n",
       "       'Ям-Тесово', 'Раздолье', 'Терпилицы', 'Шугозеро', 'Ваганово',\n",
       "       'Пушное', 'Садко', 'Усть-Ижора', 'Выскатка', 'Громово', 'Кисельня',\n",
       "       'Трубников Бор', 'Высокоключевой', 'Пансионат Зеленый Бор',\n",
       "       'Ненимяки', 'Снегиревка', 'Рапполово', 'Пустынка', 'Большой Сабск',\n",
       "       'Русско', 'Лупполово', 'Большое Рейзино', 'Малая Романовка',\n",
       "       'Дружноселье', 'Пчевжа', 'Володарское', 'Тихковицы',\n",
       "       'Борисова Грива', 'Дзержинского'], dtype=object)"
      ]
     },
     "execution_count": 36,
     "metadata": {},
     "output_type": "execute_result"
    }
   ],
   "source": [
    "data['locality_name'].unique()"
   ]
  },
  {
   "cell_type": "markdown",
   "metadata": {},
   "source": [
    "<font color='4682B4'>\n",
    "    На этапе предобработки данных, я проделала следующую работу:\n",
    "    \n",
    "* заполнила пропуски в значениях\n",
    "* избавилась от пропусков там, где заполнить их какими-либо значениями было невозможно\n",
    "* сменила тип данных на нужный для облегчения работы с данными\n",
    "* удалила все явные и неявные дубликаты в данных\n",
    "    \n",
    "    ## Вывод\n",
    "    \n",
    "    Причины появления пропусков в различных столбцах могут быть следующими:\n",
    "    \n",
    "* неправильное заполнение данных (пропуск нужных ячеек, несохранение данных)\n",
    "* повреждение, потеря данных при выгрузке \n",
    "* человеческий фактор (например, в столбце \"balcony\" вместо заполнения значением \"0\", люди могли пропускать эту ячейку, \"оставляя\" значение NaN) </font> "
   ]
  },
  {
   "cell_type": "markdown",
   "metadata": {},
   "source": [
    "### Посчитаем и добавим в таблицу новые столбцы"
   ]
  },
  {
   "cell_type": "markdown",
   "metadata": {},
   "source": [
    "<font color='4682B4'> Добавим в таблицу новые столбцы. Первым добавим столбец one_m_cost, в котором будут храниться данные цены за один квадратный метр для каждой квартиры.</font> "
   ]
  },
  {
   "cell_type": "code",
   "execution_count": 37,
   "metadata": {},
   "outputs": [],
   "source": [
    "data['one_m_cost']=data['last_price']/data['total_area']"
   ]
  },
  {
   "cell_type": "code",
   "execution_count": 38,
   "metadata": {},
   "outputs": [
    {
     "data": {
      "text/html": [
       "<div>\n",
       "<style scoped>\n",
       "    .dataframe tbody tr th:only-of-type {\n",
       "        vertical-align: middle;\n",
       "    }\n",
       "\n",
       "    .dataframe tbody tr th {\n",
       "        vertical-align: top;\n",
       "    }\n",
       "\n",
       "    .dataframe thead th {\n",
       "        text-align: right;\n",
       "    }\n",
       "</style>\n",
       "<table border=\"1\" class=\"dataframe\">\n",
       "  <thead>\n",
       "    <tr style=\"text-align: right;\">\n",
       "      <th></th>\n",
       "      <th>total_images</th>\n",
       "      <th>last_price</th>\n",
       "      <th>total_area</th>\n",
       "      <th>first_day_exposition</th>\n",
       "      <th>rooms</th>\n",
       "      <th>ceiling_height</th>\n",
       "      <th>floors_total</th>\n",
       "      <th>living_area</th>\n",
       "      <th>floor</th>\n",
       "      <th>is_apartment</th>\n",
       "      <th>...</th>\n",
       "      <th>balcony</th>\n",
       "      <th>locality_name</th>\n",
       "      <th>airports_nearest</th>\n",
       "      <th>cityCenters_nearest</th>\n",
       "      <th>parks_around3000</th>\n",
       "      <th>parks_nearest</th>\n",
       "      <th>ponds_around3000</th>\n",
       "      <th>ponds_nearest</th>\n",
       "      <th>days_exposition</th>\n",
       "      <th>one_m_cost</th>\n",
       "    </tr>\n",
       "  </thead>\n",
       "  <tbody>\n",
       "    <tr>\n",
       "      <th>0</th>\n",
       "      <td>20</td>\n",
       "      <td>13000000</td>\n",
       "      <td>108.0</td>\n",
       "      <td>2019-03-07</td>\n",
       "      <td>3</td>\n",
       "      <td>2.70</td>\n",
       "      <td>16</td>\n",
       "      <td>51.0</td>\n",
       "      <td>8</td>\n",
       "      <td>True</td>\n",
       "      <td>...</td>\n",
       "      <td>0</td>\n",
       "      <td>Санкт-Петербург</td>\n",
       "      <td>18863.0</td>\n",
       "      <td>16028.0</td>\n",
       "      <td>1.0</td>\n",
       "      <td>482.0</td>\n",
       "      <td>2.0</td>\n",
       "      <td>755.0</td>\n",
       "      <td>114</td>\n",
       "      <td>120370.370370</td>\n",
       "    </tr>\n",
       "    <tr>\n",
       "      <th>1</th>\n",
       "      <td>7</td>\n",
       "      <td>3350000</td>\n",
       "      <td>40.4</td>\n",
       "      <td>2018-12-04</td>\n",
       "      <td>1</td>\n",
       "      <td>2.65</td>\n",
       "      <td>11</td>\n",
       "      <td>18.6</td>\n",
       "      <td>1</td>\n",
       "      <td>True</td>\n",
       "      <td>...</td>\n",
       "      <td>2</td>\n",
       "      <td>Шушары</td>\n",
       "      <td>12817.0</td>\n",
       "      <td>18603.0</td>\n",
       "      <td>0.0</td>\n",
       "      <td>0</td>\n",
       "      <td>0.0</td>\n",
       "      <td>0</td>\n",
       "      <td>81</td>\n",
       "      <td>82920.792079</td>\n",
       "    </tr>\n",
       "    <tr>\n",
       "      <th>2</th>\n",
       "      <td>10</td>\n",
       "      <td>5196000</td>\n",
       "      <td>56.0</td>\n",
       "      <td>2015-08-20</td>\n",
       "      <td>2</td>\n",
       "      <td>2.65</td>\n",
       "      <td>5</td>\n",
       "      <td>34.3</td>\n",
       "      <td>4</td>\n",
       "      <td>True</td>\n",
       "      <td>...</td>\n",
       "      <td>0</td>\n",
       "      <td>Санкт-Петербург</td>\n",
       "      <td>21741.0</td>\n",
       "      <td>13933.0</td>\n",
       "      <td>1.0</td>\n",
       "      <td>90.0</td>\n",
       "      <td>2.0</td>\n",
       "      <td>574.0</td>\n",
       "      <td>558</td>\n",
       "      <td>92785.714286</td>\n",
       "    </tr>\n",
       "    <tr>\n",
       "      <th>3</th>\n",
       "      <td>0</td>\n",
       "      <td>64900000</td>\n",
       "      <td>159.0</td>\n",
       "      <td>2015-07-24</td>\n",
       "      <td>3</td>\n",
       "      <td>2.65</td>\n",
       "      <td>14</td>\n",
       "      <td>45.0</td>\n",
       "      <td>9</td>\n",
       "      <td>True</td>\n",
       "      <td>...</td>\n",
       "      <td>0</td>\n",
       "      <td>Санкт-Петербург</td>\n",
       "      <td>28098.0</td>\n",
       "      <td>6800.0</td>\n",
       "      <td>2.0</td>\n",
       "      <td>84.0</td>\n",
       "      <td>3.0</td>\n",
       "      <td>234.0</td>\n",
       "      <td>424</td>\n",
       "      <td>408176.100629</td>\n",
       "    </tr>\n",
       "    <tr>\n",
       "      <th>4</th>\n",
       "      <td>2</td>\n",
       "      <td>10000000</td>\n",
       "      <td>100.0</td>\n",
       "      <td>2018-06-19</td>\n",
       "      <td>2</td>\n",
       "      <td>3.03</td>\n",
       "      <td>14</td>\n",
       "      <td>32.0</td>\n",
       "      <td>13</td>\n",
       "      <td>True</td>\n",
       "      <td>...</td>\n",
       "      <td>0</td>\n",
       "      <td>Санкт-Петербург</td>\n",
       "      <td>31856.0</td>\n",
       "      <td>8098.0</td>\n",
       "      <td>2.0</td>\n",
       "      <td>112.0</td>\n",
       "      <td>1.0</td>\n",
       "      <td>48.0</td>\n",
       "      <td>121</td>\n",
       "      <td>100000.000000</td>\n",
       "    </tr>\n",
       "  </tbody>\n",
       "</table>\n",
       "<p>5 rows × 23 columns</p>\n",
       "</div>"
      ],
      "text/plain": [
       "   total_images  last_price  total_area first_day_exposition  rooms  \\\n",
       "0            20    13000000       108.0           2019-03-07      3   \n",
       "1             7     3350000        40.4           2018-12-04      1   \n",
       "2            10     5196000        56.0           2015-08-20      2   \n",
       "3             0    64900000       159.0           2015-07-24      3   \n",
       "4             2    10000000       100.0           2018-06-19      2   \n",
       "\n",
       "   ceiling_height  floors_total  living_area  floor  is_apartment  ...  \\\n",
       "0            2.70            16         51.0      8          True  ...   \n",
       "1            2.65            11         18.6      1          True  ...   \n",
       "2            2.65             5         34.3      4          True  ...   \n",
       "3            2.65            14         45.0      9          True  ...   \n",
       "4            3.03            14         32.0     13          True  ...   \n",
       "\n",
       "   balcony    locality_name  airports_nearest  cityCenters_nearest  \\\n",
       "0        0  Санкт-Петербург           18863.0              16028.0   \n",
       "1        2           Шушары           12817.0              18603.0   \n",
       "2        0  Санкт-Петербург           21741.0              13933.0   \n",
       "3        0  Санкт-Петербург           28098.0               6800.0   \n",
       "4        0  Санкт-Петербург           31856.0               8098.0   \n",
       "\n",
       "  parks_around3000 parks_nearest ponds_around3000 ponds_nearest  \\\n",
       "0              1.0         482.0              2.0         755.0   \n",
       "1              0.0             0              0.0             0   \n",
       "2              1.0          90.0              2.0         574.0   \n",
       "3              2.0          84.0              3.0         234.0   \n",
       "4              2.0         112.0              1.0          48.0   \n",
       "\n",
       "  days_exposition     one_m_cost  \n",
       "0             114  120370.370370  \n",
       "1              81   82920.792079  \n",
       "2             558   92785.714286  \n",
       "3             424  408176.100629  \n",
       "4             121  100000.000000  \n",
       "\n",
       "[5 rows x 23 columns]"
      ]
     },
     "execution_count": 38,
     "metadata": {},
     "output_type": "execute_result"
    }
   ],
   "source": [
    "data.head()"
   ]
  },
  {
   "cell_type": "markdown",
   "metadata": {},
   "source": [
    "<font color='4682B4'>Далее добавим столбец с днем недели, 0 в нем будет означать \"понедельник\", 1- вторник и так далее. Также добавим столбец с месяцем и годом публикации объявления.</font>"
   ]
  },
  {
   "cell_type": "code",
   "execution_count": 39,
   "metadata": {},
   "outputs": [],
   "source": [
    "data['week_day']= data['first_day_exposition'].dt.weekday\n",
    "data['month']=data['first_day_exposition'].dt.month\n",
    "data['year']=data['first_day_exposition'].dt.year"
   ]
  },
  {
   "cell_type": "markdown",
   "metadata": {},
   "source": [
    "<font color='4682B4'>Далее добавим столбец с номером этажа квартиры. Значения- \"первый\", \"последний\" или \"другой\" </font>"
   ]
  },
  {
   "cell_type": "code",
   "execution_count": 40,
   "metadata": {},
   "outputs": [],
   "source": [
    "data['floor_type'] = 'другой'\n",
    "data['floor_type'] = data['floor_type'].where(data['floor']!=1, 'первый')\n",
    "data['floor_type'] = data['floor_type'].where(data['floor']!=data['floors_total'], 'последний')"
   ]
  },
  {
   "cell_type": "markdown",
   "metadata": {},
   "source": [
    "<font color='4682B4'> Далее добавим столбец с расстоянием до центра города в километрах (для этого переведем данные в километры и округлим до целых значений) : </font>"
   ]
  },
  {
   "cell_type": "code",
   "execution_count": 41,
   "metadata": {
    "scrolled": true
   },
   "outputs": [],
   "source": [
    "data['cityCenters_nearest']=data['cityCenters_nearest'].astype(int)\n",
    "data['city_center_km']= round(data['cityCenters_nearest']/1000)"
   ]
  },
  {
   "cell_type": "code",
   "execution_count": 42,
   "metadata": {},
   "outputs": [
    {
     "data": {
      "text/html": [
       "<div>\n",
       "<style scoped>\n",
       "    .dataframe tbody tr th:only-of-type {\n",
       "        vertical-align: middle;\n",
       "    }\n",
       "\n",
       "    .dataframe tbody tr th {\n",
       "        vertical-align: top;\n",
       "    }\n",
       "\n",
       "    .dataframe thead th {\n",
       "        text-align: right;\n",
       "    }\n",
       "</style>\n",
       "<table border=\"1\" class=\"dataframe\">\n",
       "  <thead>\n",
       "    <tr style=\"text-align: right;\">\n",
       "      <th></th>\n",
       "      <th>total_images</th>\n",
       "      <th>last_price</th>\n",
       "      <th>total_area</th>\n",
       "      <th>first_day_exposition</th>\n",
       "      <th>rooms</th>\n",
       "      <th>ceiling_height</th>\n",
       "      <th>floors_total</th>\n",
       "      <th>living_area</th>\n",
       "      <th>floor</th>\n",
       "      <th>is_apartment</th>\n",
       "      <th>...</th>\n",
       "      <th>parks_nearest</th>\n",
       "      <th>ponds_around3000</th>\n",
       "      <th>ponds_nearest</th>\n",
       "      <th>days_exposition</th>\n",
       "      <th>one_m_cost</th>\n",
       "      <th>week_day</th>\n",
       "      <th>month</th>\n",
       "      <th>year</th>\n",
       "      <th>floor_type</th>\n",
       "      <th>city_center_km</th>\n",
       "    </tr>\n",
       "  </thead>\n",
       "  <tbody>\n",
       "    <tr>\n",
       "      <th>0</th>\n",
       "      <td>20</td>\n",
       "      <td>13000000</td>\n",
       "      <td>108.0</td>\n",
       "      <td>2019-03-07</td>\n",
       "      <td>3</td>\n",
       "      <td>2.70</td>\n",
       "      <td>16</td>\n",
       "      <td>51.0</td>\n",
       "      <td>8</td>\n",
       "      <td>True</td>\n",
       "      <td>...</td>\n",
       "      <td>482.0</td>\n",
       "      <td>2.0</td>\n",
       "      <td>755.0</td>\n",
       "      <td>114</td>\n",
       "      <td>120370.370370</td>\n",
       "      <td>3</td>\n",
       "      <td>3</td>\n",
       "      <td>2019</td>\n",
       "      <td>другой</td>\n",
       "      <td>16.0</td>\n",
       "    </tr>\n",
       "    <tr>\n",
       "      <th>1</th>\n",
       "      <td>7</td>\n",
       "      <td>3350000</td>\n",
       "      <td>40.4</td>\n",
       "      <td>2018-12-04</td>\n",
       "      <td>1</td>\n",
       "      <td>2.65</td>\n",
       "      <td>11</td>\n",
       "      <td>18.6</td>\n",
       "      <td>1</td>\n",
       "      <td>True</td>\n",
       "      <td>...</td>\n",
       "      <td>0</td>\n",
       "      <td>0.0</td>\n",
       "      <td>0</td>\n",
       "      <td>81</td>\n",
       "      <td>82920.792079</td>\n",
       "      <td>1</td>\n",
       "      <td>12</td>\n",
       "      <td>2018</td>\n",
       "      <td>первый</td>\n",
       "      <td>19.0</td>\n",
       "    </tr>\n",
       "    <tr>\n",
       "      <th>2</th>\n",
       "      <td>10</td>\n",
       "      <td>5196000</td>\n",
       "      <td>56.0</td>\n",
       "      <td>2015-08-20</td>\n",
       "      <td>2</td>\n",
       "      <td>2.65</td>\n",
       "      <td>5</td>\n",
       "      <td>34.3</td>\n",
       "      <td>4</td>\n",
       "      <td>True</td>\n",
       "      <td>...</td>\n",
       "      <td>90.0</td>\n",
       "      <td>2.0</td>\n",
       "      <td>574.0</td>\n",
       "      <td>558</td>\n",
       "      <td>92785.714286</td>\n",
       "      <td>3</td>\n",
       "      <td>8</td>\n",
       "      <td>2015</td>\n",
       "      <td>другой</td>\n",
       "      <td>14.0</td>\n",
       "    </tr>\n",
       "    <tr>\n",
       "      <th>3</th>\n",
       "      <td>0</td>\n",
       "      <td>64900000</td>\n",
       "      <td>159.0</td>\n",
       "      <td>2015-07-24</td>\n",
       "      <td>3</td>\n",
       "      <td>2.65</td>\n",
       "      <td>14</td>\n",
       "      <td>45.0</td>\n",
       "      <td>9</td>\n",
       "      <td>True</td>\n",
       "      <td>...</td>\n",
       "      <td>84.0</td>\n",
       "      <td>3.0</td>\n",
       "      <td>234.0</td>\n",
       "      <td>424</td>\n",
       "      <td>408176.100629</td>\n",
       "      <td>4</td>\n",
       "      <td>7</td>\n",
       "      <td>2015</td>\n",
       "      <td>другой</td>\n",
       "      <td>7.0</td>\n",
       "    </tr>\n",
       "    <tr>\n",
       "      <th>4</th>\n",
       "      <td>2</td>\n",
       "      <td>10000000</td>\n",
       "      <td>100.0</td>\n",
       "      <td>2018-06-19</td>\n",
       "      <td>2</td>\n",
       "      <td>3.03</td>\n",
       "      <td>14</td>\n",
       "      <td>32.0</td>\n",
       "      <td>13</td>\n",
       "      <td>True</td>\n",
       "      <td>...</td>\n",
       "      <td>112.0</td>\n",
       "      <td>1.0</td>\n",
       "      <td>48.0</td>\n",
       "      <td>121</td>\n",
       "      <td>100000.000000</td>\n",
       "      <td>1</td>\n",
       "      <td>6</td>\n",
       "      <td>2018</td>\n",
       "      <td>другой</td>\n",
       "      <td>8.0</td>\n",
       "    </tr>\n",
       "  </tbody>\n",
       "</table>\n",
       "<p>5 rows × 28 columns</p>\n",
       "</div>"
      ],
      "text/plain": [
       "   total_images  last_price  total_area first_day_exposition  rooms  \\\n",
       "0            20    13000000       108.0           2019-03-07      3   \n",
       "1             7     3350000        40.4           2018-12-04      1   \n",
       "2            10     5196000        56.0           2015-08-20      2   \n",
       "3             0    64900000       159.0           2015-07-24      3   \n",
       "4             2    10000000       100.0           2018-06-19      2   \n",
       "\n",
       "   ceiling_height  floors_total  living_area  floor  is_apartment  ...  \\\n",
       "0            2.70            16         51.0      8          True  ...   \n",
       "1            2.65            11         18.6      1          True  ...   \n",
       "2            2.65             5         34.3      4          True  ...   \n",
       "3            2.65            14         45.0      9          True  ...   \n",
       "4            3.03            14         32.0     13          True  ...   \n",
       "\n",
       "   parks_nearest  ponds_around3000  ponds_nearest  days_exposition  \\\n",
       "0          482.0               2.0          755.0              114   \n",
       "1              0               0.0              0               81   \n",
       "2           90.0               2.0          574.0              558   \n",
       "3           84.0               3.0          234.0              424   \n",
       "4          112.0               1.0           48.0              121   \n",
       "\n",
       "      one_m_cost week_day  month  year floor_type city_center_km  \n",
       "0  120370.370370        3      3  2019     другой           16.0  \n",
       "1   82920.792079        1     12  2018     первый           19.0  \n",
       "2   92785.714286        3      8  2015     другой           14.0  \n",
       "3  408176.100629        4      7  2015     другой            7.0  \n",
       "4  100000.000000        1      6  2018     другой            8.0  \n",
       "\n",
       "[5 rows x 28 columns]"
      ]
     },
     "execution_count": 42,
     "metadata": {},
     "output_type": "execute_result"
    }
   ],
   "source": [
    "data.head()"
   ]
  },
  {
   "cell_type": "markdown",
   "metadata": {},
   "source": [
    "<font color='4682B4'>Теперь, когда есть все необходимые данные, мы можем приступить к исследовательскому анализу данных.</font>"
   ]
  },
  {
   "cell_type": "markdown",
   "metadata": {},
   "source": [
    "### Проведем исследовательский анализ данных"
   ]
  },
  {
   "cell_type": "markdown",
   "metadata": {},
   "source": [
    "<font color='4682B4'>Начать данный анализ я бы хотела с площади квартиры.\n",
    "Для этого я построю гистограмму значений столбца \"total_area\"</font>"
   ]
  },
  {
   "cell_type": "code",
   "execution_count": 9,
   "metadata": {},
   "outputs": [
    {
     "data": {
      "image/png": "[encoded data removed]",
      "text/plain": [
       "<Figure size 640x480 with 1 Axes>"
      ]
     },
     "metadata": {},
     "output_type": "display_data"
    }
   ],
   "source": [
    "data.hist('total_area', bins=300)\n",
    "plt.xlim(0,350);"
   ]
  },
  {
   "cell_type": "markdown",
   "metadata": {},
   "source": [
    "<font color='4682B4'>Наиболее популярны среди покупателей квартиры площадью 50-70 кв.м. Квартиры более 120 кв.м. покупаются крайне редко. Думаю, помимо очевидного (стоимости данных квартир, которая является слишком высокой для среднестатистического покупателя), это также обусловлено малым количеством подобных квартир в России. Средняя площадь квартир, согласно статистике,- 50-60 кв.м.\n",
    "</font>"
   ]
  },
  {
   "cell_type": "markdown",
   "metadata": {},
   "source": [
    "<font color='4682B4'>Также проанализируем жилую площадь.</font>"
   ]
  },
  {
   "cell_type": "code",
   "execution_count": 44,
   "metadata": {},
   "outputs": [
    {
     "data": {
      "image/png": "[encoded data removed]",
      "text/plain": [
       "<Figure size 432x288 with 1 Axes>"
      ]
     },
     "metadata": {
      "needs_background": "light"
     },
     "output_type": "display_data"
    }
   ],
   "source": [
    "data.hist('living_area', bins=200)\n",
    "plt.xlim(0,200);"
   ]
  },
  {
   "cell_type": "markdown",
   "metadata": {},
   "source": [
    "<font color='4682B4'> Наиболее популярная жилая площадь 15-20 кв.м. Квартиры с жилой площадью более 75 кв.м. являются наименее популярными. Причины для этого те же 1) стоимость, 2)наличие (скорее, отсутствие) квартир подобного размера. Интересно также резкое снижение в диапозоне 20-25 кв.м.  </font>"
   ]
  },
  {
   "cell_type": "code",
   "execution_count": 45,
   "metadata": {},
   "outputs": [
    {
     "data": {
      "image/png": "[encoded data removed]",
      "text/plain": [
       "<Figure size 432x288 with 1 Axes>"
      ]
     },
     "metadata": {
      "needs_background": "light"
     },
     "output_type": "display_data"
    }
   ],
   "source": [
    "data.hist('kitchen_area', bins=70)\n",
    "plt.xlim(0,70);"
   ]
  },
  {
   "cell_type": "markdown",
   "metadata": {},
   "source": [
    "<font color='4682B4'>Здесь наиболее популярными являются квартиры с площадью кухни 5-12 кв.м., при том самый пик приходится на ~7. </font>"
   ]
  },
  {
   "cell_type": "markdown",
   "metadata": {},
   "source": [
    "<font color='4682B4'> Проанализируем также цену, по которой квартиру удалось продать.</font> "
   ]
  },
  {
   "cell_type": "code",
   "execution_count": 46,
   "metadata": {},
   "outputs": [
    {
     "data": {
      "text/html": [
       "<div>\n",
       "<style scoped>\n",
       "    .dataframe tbody tr th:only-of-type {\n",
       "        vertical-align: middle;\n",
       "    }\n",
       "\n",
       "    .dataframe tbody tr th {\n",
       "        vertical-align: top;\n",
       "    }\n",
       "\n",
       "    .dataframe thead th {\n",
       "        text-align: right;\n",
       "    }\n",
       "</style>\n",
       "<table border=\"1\" class=\"dataframe\">\n",
       "  <thead>\n",
       "    <tr style=\"text-align: right;\">\n",
       "      <th></th>\n",
       "      <th>count</th>\n",
       "      <th>mean</th>\n",
       "      <th>std</th>\n",
       "      <th>min</th>\n",
       "      <th>25%</th>\n",
       "      <th>50%</th>\n",
       "      <th>75%</th>\n",
       "      <th>max</th>\n",
       "    </tr>\n",
       "    <tr>\n",
       "      <th>rooms</th>\n",
       "      <th></th>\n",
       "      <th></th>\n",
       "      <th></th>\n",
       "      <th></th>\n",
       "      <th></th>\n",
       "      <th></th>\n",
       "      <th></th>\n",
       "      <th></th>\n",
       "    </tr>\n",
       "  </thead>\n",
       "  <tbody>\n",
       "    <tr>\n",
       "      <th>1</th>\n",
       "      <td>7978.0</td>\n",
       "      <td>3.835016e+06</td>\n",
       "      <td>1.898547e+06</td>\n",
       "      <td>430000.0</td>\n",
       "      <td>2900000.0</td>\n",
       "      <td>3600000.0</td>\n",
       "      <td>4450000.0</td>\n",
       "      <td>43511000.0</td>\n",
       "    </tr>\n",
       "    <tr>\n",
       "      <th>2</th>\n",
       "      <td>7853.0</td>\n",
       "      <td>5.595244e+06</td>\n",
       "      <td>4.953295e+06</td>\n",
       "      <td>12190.0</td>\n",
       "      <td>3690000.0</td>\n",
       "      <td>4775000.0</td>\n",
       "      <td>6550000.0</td>\n",
       "      <td>289238400.0</td>\n",
       "    </tr>\n",
       "    <tr>\n",
       "      <th>3</th>\n",
       "      <td>5770.0</td>\n",
       "      <td>8.183358e+06</td>\n",
       "      <td>8.892512e+06</td>\n",
       "      <td>550000.0</td>\n",
       "      <td>4782500.0</td>\n",
       "      <td>6200000.0</td>\n",
       "      <td>9000000.0</td>\n",
       "      <td>330000000.0</td>\n",
       "    </tr>\n",
       "    <tr>\n",
       "      <th>4</th>\n",
       "      <td>1173.0</td>\n",
       "      <td>1.343707e+07</td>\n",
       "      <td>1.571744e+07</td>\n",
       "      <td>999000.0</td>\n",
       "      <td>6200000.0</td>\n",
       "      <td>9000000.0</td>\n",
       "      <td>14900000.0</td>\n",
       "      <td>159984000.0</td>\n",
       "    </tr>\n",
       "    <tr>\n",
       "      <th>5</th>\n",
       "      <td>325.0</td>\n",
       "      <td>2.379830e+07</td>\n",
       "      <td>3.297585e+07</td>\n",
       "      <td>1650000.0</td>\n",
       "      <td>10000000.0</td>\n",
       "      <td>14000000.0</td>\n",
       "      <td>25800000.0</td>\n",
       "      <td>401300000.0</td>\n",
       "    </tr>\n",
       "    <tr>\n",
       "      <th>6</th>\n",
       "      <td>104.0</td>\n",
       "      <td>3.188004e+07</td>\n",
       "      <td>4.168788e+07</td>\n",
       "      <td>4390000.0</td>\n",
       "      <td>13022500.0</td>\n",
       "      <td>19000000.0</td>\n",
       "      <td>30787250.0</td>\n",
       "      <td>245000000.0</td>\n",
       "    </tr>\n",
       "    <tr>\n",
       "      <th>7</th>\n",
       "      <td>59.0</td>\n",
       "      <td>5.147007e+07</td>\n",
       "      <td>1.045505e+08</td>\n",
       "      <td>7900000.0</td>\n",
       "      <td>16700000.0</td>\n",
       "      <td>24900000.0</td>\n",
       "      <td>43500000.0</td>\n",
       "      <td>763000000.0</td>\n",
       "    </tr>\n",
       "    <tr>\n",
       "      <th>8</th>\n",
       "      <td>12.0</td>\n",
       "      <td>5.022417e+07</td>\n",
       "      <td>5.594771e+07</td>\n",
       "      <td>15800000.0</td>\n",
       "      <td>17625000.0</td>\n",
       "      <td>23095000.0</td>\n",
       "      <td>44675000.0</td>\n",
       "      <td>180000000.0</td>\n",
       "    </tr>\n",
       "    <tr>\n",
       "      <th>9</th>\n",
       "      <td>8.0</td>\n",
       "      <td>3.415236e+07</td>\n",
       "      <td>2.403385e+07</td>\n",
       "      <td>17000000.0</td>\n",
       "      <td>21562500.0</td>\n",
       "      <td>23750000.0</td>\n",
       "      <td>34242225.0</td>\n",
       "      <td>88000000.0</td>\n",
       "    </tr>\n",
       "    <tr>\n",
       "      <th>10</th>\n",
       "      <td>3.0</td>\n",
       "      <td>2.616667e+07</td>\n",
       "      <td>1.255322e+07</td>\n",
       "      <td>15500000.0</td>\n",
       "      <td>19250000.0</td>\n",
       "      <td>23000000.0</td>\n",
       "      <td>31500000.0</td>\n",
       "      <td>40000000.0</td>\n",
       "    </tr>\n",
       "    <tr>\n",
       "      <th>11</th>\n",
       "      <td>2.0</td>\n",
       "      <td>2.525000e+07</td>\n",
       "      <td>1.096016e+07</td>\n",
       "      <td>17500000.0</td>\n",
       "      <td>21375000.0</td>\n",
       "      <td>25250000.0</td>\n",
       "      <td>29125000.0</td>\n",
       "      <td>33000000.0</td>\n",
       "    </tr>\n",
       "    <tr>\n",
       "      <th>12</th>\n",
       "      <td>1.0</td>\n",
       "      <td>4.200000e+08</td>\n",
       "      <td>NaN</td>\n",
       "      <td>420000000.0</td>\n",
       "      <td>420000000.0</td>\n",
       "      <td>420000000.0</td>\n",
       "      <td>420000000.0</td>\n",
       "      <td>420000000.0</td>\n",
       "    </tr>\n",
       "    <tr>\n",
       "      <th>14</th>\n",
       "      <td>2.0</td>\n",
       "      <td>2.682950e+07</td>\n",
       "      <td>2.587304e+06</td>\n",
       "      <td>25000000.0</td>\n",
       "      <td>25914750.0</td>\n",
       "      <td>26829500.0</td>\n",
       "      <td>27744250.0</td>\n",
       "      <td>28659000.0</td>\n",
       "    </tr>\n",
       "    <tr>\n",
       "      <th>15</th>\n",
       "      <td>1.0</td>\n",
       "      <td>6.500000e+07</td>\n",
       "      <td>NaN</td>\n",
       "      <td>65000000.0</td>\n",
       "      <td>65000000.0</td>\n",
       "      <td>65000000.0</td>\n",
       "      <td>65000000.0</td>\n",
       "      <td>65000000.0</td>\n",
       "    </tr>\n",
       "    <tr>\n",
       "      <th>16</th>\n",
       "      <td>1.0</td>\n",
       "      <td>2.850000e+07</td>\n",
       "      <td>NaN</td>\n",
       "      <td>28500000.0</td>\n",
       "      <td>28500000.0</td>\n",
       "      <td>28500000.0</td>\n",
       "      <td>28500000.0</td>\n",
       "      <td>28500000.0</td>\n",
       "    </tr>\n",
       "    <tr>\n",
       "      <th>19</th>\n",
       "      <td>1.0</td>\n",
       "      <td>3.225000e+07</td>\n",
       "      <td>NaN</td>\n",
       "      <td>32250000.0</td>\n",
       "      <td>32250000.0</td>\n",
       "      <td>32250000.0</td>\n",
       "      <td>32250000.0</td>\n",
       "      <td>32250000.0</td>\n",
       "    </tr>\n",
       "  </tbody>\n",
       "</table>\n",
       "</div>"
      ],
      "text/plain": [
       "        count          mean           std          min          25%  \\\n",
       "rooms                                                                 \n",
       "1      7978.0  3.835016e+06  1.898547e+06     430000.0    2900000.0   \n",
       "2      7853.0  5.595244e+06  4.953295e+06      12190.0    3690000.0   \n",
       "3      5770.0  8.183358e+06  8.892512e+06     550000.0    4782500.0   \n",
       "4      1173.0  1.343707e+07  1.571744e+07     999000.0    6200000.0   \n",
       "5       325.0  2.379830e+07  3.297585e+07    1650000.0   10000000.0   \n",
       "6       104.0  3.188004e+07  4.168788e+07    4390000.0   13022500.0   \n",
       "7        59.0  5.147007e+07  1.045505e+08    7900000.0   16700000.0   \n",
       "8        12.0  5.022417e+07  5.594771e+07   15800000.0   17625000.0   \n",
       "9         8.0  3.415236e+07  2.403385e+07   17000000.0   21562500.0   \n",
       "10        3.0  2.616667e+07  1.255322e+07   15500000.0   19250000.0   \n",
       "11        2.0  2.525000e+07  1.096016e+07   17500000.0   21375000.0   \n",
       "12        1.0  4.200000e+08           NaN  420000000.0  420000000.0   \n",
       "14        2.0  2.682950e+07  2.587304e+06   25000000.0   25914750.0   \n",
       "15        1.0  6.500000e+07           NaN   65000000.0   65000000.0   \n",
       "16        1.0  2.850000e+07           NaN   28500000.0   28500000.0   \n",
       "19        1.0  3.225000e+07           NaN   32250000.0   32250000.0   \n",
       "\n",
       "               50%          75%          max  \n",
       "rooms                                         \n",
       "1        3600000.0    4450000.0   43511000.0  \n",
       "2        4775000.0    6550000.0  289238400.0  \n",
       "3        6200000.0    9000000.0  330000000.0  \n",
       "4        9000000.0   14900000.0  159984000.0  \n",
       "5       14000000.0   25800000.0  401300000.0  \n",
       "6       19000000.0   30787250.0  245000000.0  \n",
       "7       24900000.0   43500000.0  763000000.0  \n",
       "8       23095000.0   44675000.0  180000000.0  \n",
       "9       23750000.0   34242225.0   88000000.0  \n",
       "10      23000000.0   31500000.0   40000000.0  \n",
       "11      25250000.0   29125000.0   33000000.0  \n",
       "12     420000000.0  420000000.0  420000000.0  \n",
       "14      26829500.0   27744250.0   28659000.0  \n",
       "15      65000000.0   65000000.0   65000000.0  \n",
       "16      28500000.0   28500000.0   28500000.0  \n",
       "19      32250000.0   32250000.0   32250000.0  "
      ]
     },
     "execution_count": 46,
     "metadata": {},
     "output_type": "execute_result"
    },
    {
     "data": {
      "image/png": "[encoded data removed]",
      "text/plain": [
       "<Figure size 432x288 with 1 Axes>"
      ]
     },
     "metadata": {
      "needs_background": "light"
     },
     "output_type": "display_data"
    }
   ],
   "source": [
    "data_prices = data.groupby(['rooms'])['last_price']. sum ()\n",
    "data_prices.plot(kind='bar')\n",
    "\n",
    "data.groupby(['rooms'])['last_price'].describe()"
   ]
  },
  {
   "cell_type": "markdown",
   "metadata": {},
   "source": [
    "<font color='4682B4'> В данной категории я решила сгруппировать цену по комнатам, как мне кажется, так анализ будет точнее. Здесь мы можем увидеть минимальную и максимальную цену в зависимости от количества квартир. Заметила некоторые аномалии, потому умножу все значения ниже 30000 на 10, так как квартира не может стоить 12-30 тыс.руб., я думаю, что это ошибка при занесении данных</font>"
   ]
  },
  {
   "cell_type": "code",
   "execution_count": 47,
   "metadata": {},
   "outputs": [],
   "source": [
    "def price (price):\n",
    "    if price<30000:\n",
    "        return price*10\n",
    "    return price\n",
    "data['last_price']=data['last_price'].apply(price)"
   ]
  },
  {
   "cell_type": "code",
   "execution_count": 48,
   "metadata": {},
   "outputs": [
    {
     "data": {
      "text/plain": [
       "count    2.329300e+04\n",
       "mean     6.577341e+06\n",
       "std      1.096016e+07\n",
       "min      1.219000e+05\n",
       "25%      3.450000e+06\n",
       "50%      4.650000e+06\n",
       "75%      6.800000e+06\n",
       "max      7.630000e+08\n",
       "Name: last_price, dtype: float64"
      ]
     },
     "execution_count": 48,
     "metadata": {},
     "output_type": "execute_result"
    },
    {
     "data": {
      "image/png": "[encoded data removed]",
      "text/plain": [
       "<Figure size 432x288 with 1 Axes>"
      ]
     },
     "metadata": {
      "needs_background": "light"
     },
     "output_type": "display_data"
    },
    {
     "data": {
      "image/png": "[encoded data removed]",
      "text/plain": [
       "<Figure size 432x288 with 1 Axes>"
      ]
     },
     "metadata": {
      "needs_background": "light"
     },
     "output_type": "display_data"
    }
   ],
   "source": [
    "data_prices = data.groupby(['rooms'])['last_price']. sum ()\n",
    "data_prices.plot(kind='bar')\n",
    "data.hist('last_price', bins=500)\n",
    "plt.xlim(0,100000000)\n",
    "\n",
    "data.groupby(['rooms'])['last_price'].describe()\n",
    "data['last_price'].describe()"
   ]
  },
  {
   "cell_type": "markdown",
   "metadata": {},
   "source": [
    "<font color='4682B4'>Пик цены в районе 5 млн. Ближе к 18 млн график снижается и практически сходит на нет в районе 27 млн. </font>"
   ]
  },
  {
   "cell_type": "markdown",
   "metadata": {},
   "source": [
    "<font color='4682B4'> Далее изучим параметр rooms, отвечающий за количество комнат в проданных квартирах</font>"
   ]
  },
  {
   "cell_type": "code",
   "execution_count": 49,
   "metadata": {},
   "outputs": [
    {
     "data": {
      "image/png": "[encoded data removed]",
      "text/plain": [
       "<Figure size 432x288 with 1 Axes>"
      ]
     },
     "metadata": {
      "needs_background": "light"
     },
     "output_type": "display_data"
    }
   ],
   "source": [
    "data.hist('rooms',bins=10)\n",
    "plt.xlim(0,10);"
   ]
  },
  {
   "cell_type": "markdown",
   "metadata": {},
   "source": [
    "<font color='4682B4'>Наибольшей популярностью пользуются квартиры 1-3хкомнатные. Реже покупают 4хкомнатные квартиры, совсем редко 5-6, 7-8комнатные квартиры покупают единицы.</font>"
   ]
  },
  {
   "cell_type": "markdown",
   "metadata": {},
   "source": [
    "<font color='4682B4'>Следующим параметром проанализируем высоту потолков.</font>"
   ]
  },
  {
   "cell_type": "code",
   "execution_count": 50,
   "metadata": {},
   "outputs": [
    {
     "data": {
      "image/png": "[encoded data removed]",
      "text/plain": [
       "<Figure size 432x288 with 1 Axes>"
      ]
     },
     "metadata": {
      "needs_background": "light"
     },
     "output_type": "display_data"
    }
   ],
   "source": [
    "data.hist('ceiling_height', bins=5)\n",
    "plt.xlim (0, 5);"
   ]
  },
  {
   "cell_type": "markdown",
   "metadata": {},
   "source": [
    "<font color='4682B4'> 2,5-3,5 метров- наиболее популярная высота потолков в данном перечне квартир. Совсем редко встречаются потолки выше 3,5, выше 5 не встречаются вовсе.</font>"
   ]
  },
  {
   "cell_type": "code",
   "execution_count": 51,
   "metadata": {},
   "outputs": [
    {
     "data": {
      "image/png": "[encoded data removed]",
      "text/plain": [
       "<Figure size 432x288 with 1 Axes>"
      ]
     },
     "metadata": {
      "needs_background": "light"
     },
     "output_type": "display_data"
    }
   ],
   "source": [
    "data.hist('floor', bins=30)\n",
    "plt.xlim(0,30);"
   ]
  },
  {
   "cell_type": "markdown",
   "metadata": {},
   "source": [
    "<font color='4682B4'> Здесь хорошо видно, что количество проданных квартир уменьшается пропорционально увеличению этажа квартиры. Так, квартиры, находящиеся на 1-6 этаже являются наиболее часто покупаемыми. Квартиры на этажах 9-11 менее популярны. Квартиры, находящиеся на этажах 13-20, покупались реже 500 раз. Совсем редко покупались квартиры выше 25 этажа.</font>"
   ]
  },
  {
   "cell_type": "code",
   "execution_count": 52,
   "metadata": {},
   "outputs": [
    {
     "data": {
      "image/png": "[encoded data removed]",
      "text/plain": [
       "<Figure size 432x288 with 1 Axes>"
      ]
     },
     "metadata": {
      "needs_background": "light"
     },
     "output_type": "display_data"
    }
   ],
   "source": [
    "floor_type_pivot=data.pivot_table(index='floor_type', values='last_price', aggfunc='median')\n",
    "floor_type_pivot.plot(kind='bar');"
   ]
  },
  {
   "cell_type": "markdown",
   "metadata": {},
   "source": [
    "<font color='4682B4'> Здесь решила проанализировать медианное значение цены в зависимости от этажа квартир. Таким образом, мы видим, что цена за квартиры не на первом и не на последнем этаже значительно выше. При том, если сравнивать первый и последний этаж, средняя цена за квартиру на последнем также выше средней цены за квартиру на первом. </font>"
   ]
  },
  {
   "cell_type": "code",
   "execution_count": 53,
   "metadata": {},
   "outputs": [
    {
     "data": {
      "image/png": "[encoded data removed]",
      "text/plain": [
       "<Figure size 432x288 with 1 Axes>"
      ]
     },
     "metadata": {
      "needs_background": "light"
     },
     "output_type": "display_data"
    }
   ],
   "source": [
    "data['floor_type'].value_counts().plot(kind='bar');"
   ]
  },
  {
   "cell_type": "markdown",
   "metadata": {},
   "source": [
    "<font color='4682B4'>Этот график также подтвреждает, что квартиры на любом другом этаже, кроме первого и последнего, продаются гораздо чаще.</font>"
   ]
  },
  {
   "cell_type": "code",
   "execution_count": 54,
   "metadata": {},
   "outputs": [
    {
     "data": {
      "image/png": "[encoded data removed]",
      "text/plain": [
       "<Figure size 432x288 with 1 Axes>"
      ]
     },
     "metadata": {
      "needs_background": "light"
     },
     "output_type": "display_data"
    }
   ],
   "source": [
    "data['floors_total'].hist(bins=30)\n",
    "plt.xlim(0,30);"
   ]
  },
  {
   "cell_type": "markdown",
   "metadata": {},
   "source": [
    "<font color='4682B4'>Здесь значительное преимущество имеют 5тиэтажные и 9тиэтажные дома, что неудивительно, ведь это старые советские постройки, которые в большинстве во многих населенных пунктах.  </font>"
   ]
  },
  {
   "cell_type": "markdown",
   "metadata": {},
   "source": [
    "<font color='4682B4'>\n",
    "Так как в параметре cityCenters_nearest довольно много значений, я решила создать еще один стобец с \"группировкой\" этих значений и построить график уже по ним </font>"
   ]
  },
  {
   "cell_type": "code",
   "execution_count": 55,
   "metadata": {},
   "outputs": [],
   "source": [
    "def city (distance):\n",
    "    if 0<=distance<=1000:\n",
    "        return \"менее 1 км\"\n",
    "    elif 1000<=distance<=5000:\n",
    "        return \" 1-5 км\"\n",
    "    elif 5000<=distance<=10000:\n",
    "        return \"5-10 км\"\n",
    "    elif 10000<=distance<=30000:\n",
    "        return \"10-30 км\"    \n",
    "    elif 30000<=distance<=50000:\n",
    "        return \"30-50 км\"\n",
    "    elif 50000<=distance:\n",
    "        return \"более 50 км\"\n",
    "    else:\n",
    "        return \"расстояние неизвестно\"\n",
    "    return distance\n",
    "data['cities_near']=data['cityCenters_nearest'].apply(city)\n"
   ]
  },
  {
   "cell_type": "code",
   "execution_count": 56,
   "metadata": {},
   "outputs": [
    {
     "data": {
      "image/png": "[encoded data removed]",
      "text/plain": [
       "<Figure size 432x288 with 1 Axes>"
      ]
     },
     "metadata": {
      "needs_background": "light"
     },
     "output_type": "display_data"
    }
   ],
   "source": [
    "data['cities_near'].value_counts().plot(kind='bar');"
   ]
  },
  {
   "cell_type": "markdown",
   "metadata": {},
   "source": [
    "<font color='4682B4'>Наибольшее количество проданных квартир находилось на расстоянии 10-30 км от центра ближайшего города. Почти в 2 раза меньше квартир находилось на совсем маленьком расстоянии от города- менее 1 км. Совсем непопулярными являются квартиры, находящееся дальше 50 км от центра ближайшего города.</font>"
   ]
  },
  {
   "cell_type": "markdown",
   "metadata": {},
   "source": [
    "<font color='4682B4'>Хочу также проанализировать медианную цену в зависимости от отдаленности от города</font>"
   ]
  },
  {
   "cell_type": "code",
   "execution_count": 57,
   "metadata": {},
   "outputs": [
    {
     "data": {
      "image/png": "[encoded data removed]",
      "text/plain": [
       "<Figure size 432x288 with 1 Axes>"
      ]
     },
     "metadata": {
      "needs_background": "light"
     },
     "output_type": "display_data"
    }
   ],
   "source": [
    "cities_pivot= data.pivot_table(index='cities_near', values='last_price', aggfunc='median')\n",
    "cities_pivot.plot(kind='bar');"
   ]
  },
  {
   "cell_type": "markdown",
   "metadata": {},
   "source": [
    "<font color='4682B4'>Наиболее высокая медианная цена за квартиры, расположенные на расстоянии 1-5 км от центра населенного пунтка. Думаю. что то, что наименьшая цена за квартиры, расположенные на расстоянии менее 1 км, объясняется тем, что они находятся в очень маленьких населенных пунктах, либо, конечно, это просто вброс. </font>"
   ]
  },
  {
   "cell_type": "markdown",
   "metadata": {},
   "source": [
    "<font color='4682B4'> То же самое сделаю со столбцом parks_nearest и airports_nearest</font>"
   ]
  },
  {
   "cell_type": "code",
   "execution_count": 58,
   "metadata": {},
   "outputs": [],
   "source": [
    "data['parks_nearest'] = data['parks_nearest'].astype (int)\n",
    "def parks (distance):\n",
    "    if 0<=distance<=100:\n",
    "        return \"менее 100 м\"\n",
    "    elif 100<=distance<=500:\n",
    "        return \" 100-500 м\"\n",
    "    elif 500<=distance<=1000:\n",
    "        return \"500-1000 м\"\n",
    "    elif 1000<=distance<=3000:\n",
    "        return \"1-3 км\"    \n",
    "    elif 3000<=distance<=5000:\n",
    "        return \"3-5 км\"\n",
    "    elif 5000<=distance:\n",
    "        return \"более 5 км\"\n",
    "    else:\n",
    "        return \"расстояние неизвестно\"\n",
    "    return distance\n",
    "data['parks']=data['parks_nearest'].apply(parks)\n"
   ]
  },
  {
   "cell_type": "code",
   "execution_count": 59,
   "metadata": {},
   "outputs": [
    {
     "data": {
      "image/png": "[encoded data removed]",
      "text/plain": [
       "<Figure size 432x288 with 1 Axes>"
      ]
     },
     "metadata": {
      "needs_background": "light"
     },
     "output_type": "display_data"
    }
   ],
   "source": [
    "data['parks'].value_counts().plot(kind='bar');"
   ]
  },
  {
   "cell_type": "markdown",
   "metadata": {},
   "source": [
    "<font color='4682B4'>Большая часть квартир находится в непосредственной близости к паркам, расстояние 1-3 км-наибольшее расстояние в данной выборке.</font>"
   ]
  },
  {
   "cell_type": "code",
   "execution_count": 60,
   "metadata": {},
   "outputs": [],
   "source": [
    "data['airports_nearest'] = data['airports_nearest'].astype (int)\n",
    "def airports (distance):\n",
    "    if 0<=distance<=1000:\n",
    "        return \"менее 1 км\"\n",
    "    elif 1000<=distance<=5000:\n",
    "        return \" 1-5 км\"\n",
    "    elif 5000<=distance<=10000:\n",
    "        return \"5-10 км\"\n",
    "    elif 10000<=distance<=30000:\n",
    "        return \"10-30 км\"    \n",
    "    elif 30000<=distance<=50000:\n",
    "        return \"30-50 км\"\n",
    "    elif 50000<=distance:\n",
    "        return \"более 50 км\"\n",
    "    else:\n",
    "        return \"расстояние неизвестно\"\n",
    "    return distance\n",
    "data['airports']=data['airports_nearest'].apply(airports)"
   ]
  },
  {
   "cell_type": "code",
   "execution_count": 61,
   "metadata": {},
   "outputs": [
    {
     "data": {
      "image/png": "[encoded data removed]",
      "text/plain": [
       "<Figure size 432x288 with 1 Axes>"
      ]
     },
     "metadata": {
      "needs_background": "light"
     },
     "output_type": "display_data"
    }
   ],
   "source": [
    "data['airports'].value_counts().plot(kind='bar');"
   ]
  },
  {
   "cell_type": "markdown",
   "metadata": {},
   "source": [
    "<font color='4682B4'>По этим данным видно, что наиболее популярны квартиры, находящиеся относительно близко к аэропорту (10-50 км) и также совсем близко (менее 1 км). Квартир, находящихся далеко от аэропорта (более 50 км), менее 5%. </font>"
   ]
  },
  {
   "cell_type": "code",
   "execution_count": 62,
   "metadata": {},
   "outputs": [
    {
     "data": {
      "text/html": [
       "<div>\n",
       "<style scoped>\n",
       "    .dataframe tbody tr th:only-of-type {\n",
       "        vertical-align: middle;\n",
       "    }\n",
       "\n",
       "    .dataframe tbody tr th {\n",
       "        vertical-align: top;\n",
       "    }\n",
       "\n",
       "    .dataframe thead th {\n",
       "        text-align: right;\n",
       "    }\n",
       "</style>\n",
       "<table border=\"1\" class=\"dataframe\">\n",
       "  <thead>\n",
       "    <tr style=\"text-align: right;\">\n",
       "      <th></th>\n",
       "      <th>total_images</th>\n",
       "      <th>last_price</th>\n",
       "      <th>total_area</th>\n",
       "      <th>first_day_exposition</th>\n",
       "      <th>rooms</th>\n",
       "      <th>ceiling_height</th>\n",
       "      <th>floors_total</th>\n",
       "      <th>living_area</th>\n",
       "      <th>floor</th>\n",
       "      <th>is_apartment</th>\n",
       "      <th>...</th>\n",
       "      <th>days_exposition</th>\n",
       "      <th>one_m_cost</th>\n",
       "      <th>week_day</th>\n",
       "      <th>month</th>\n",
       "      <th>year</th>\n",
       "      <th>floor_type</th>\n",
       "      <th>city_center_km</th>\n",
       "      <th>cities_near</th>\n",
       "      <th>parks</th>\n",
       "      <th>airports</th>\n",
       "    </tr>\n",
       "  </thead>\n",
       "  <tbody>\n",
       "    <tr>\n",
       "      <th>0</th>\n",
       "      <td>20</td>\n",
       "      <td>13000000</td>\n",
       "      <td>108.0</td>\n",
       "      <td>2019-03-07</td>\n",
       "      <td>3</td>\n",
       "      <td>2.70</td>\n",
       "      <td>16</td>\n",
       "      <td>51.0</td>\n",
       "      <td>8</td>\n",
       "      <td>True</td>\n",
       "      <td>...</td>\n",
       "      <td>114</td>\n",
       "      <td>120370.370370</td>\n",
       "      <td>3</td>\n",
       "      <td>3</td>\n",
       "      <td>2019</td>\n",
       "      <td>другой</td>\n",
       "      <td>16.0</td>\n",
       "      <td>10-30 км</td>\n",
       "      <td>100-500 м</td>\n",
       "      <td>10-30 км</td>\n",
       "    </tr>\n",
       "    <tr>\n",
       "      <th>1</th>\n",
       "      <td>7</td>\n",
       "      <td>3350000</td>\n",
       "      <td>40.4</td>\n",
       "      <td>2018-12-04</td>\n",
       "      <td>1</td>\n",
       "      <td>2.65</td>\n",
       "      <td>11</td>\n",
       "      <td>18.6</td>\n",
       "      <td>1</td>\n",
       "      <td>True</td>\n",
       "      <td>...</td>\n",
       "      <td>81</td>\n",
       "      <td>82920.792079</td>\n",
       "      <td>1</td>\n",
       "      <td>12</td>\n",
       "      <td>2018</td>\n",
       "      <td>первый</td>\n",
       "      <td>19.0</td>\n",
       "      <td>10-30 км</td>\n",
       "      <td>менее 100 м</td>\n",
       "      <td>10-30 км</td>\n",
       "    </tr>\n",
       "    <tr>\n",
       "      <th>2</th>\n",
       "      <td>10</td>\n",
       "      <td>5196000</td>\n",
       "      <td>56.0</td>\n",
       "      <td>2015-08-20</td>\n",
       "      <td>2</td>\n",
       "      <td>2.65</td>\n",
       "      <td>5</td>\n",
       "      <td>34.3</td>\n",
       "      <td>4</td>\n",
       "      <td>True</td>\n",
       "      <td>...</td>\n",
       "      <td>558</td>\n",
       "      <td>92785.714286</td>\n",
       "      <td>3</td>\n",
       "      <td>8</td>\n",
       "      <td>2015</td>\n",
       "      <td>другой</td>\n",
       "      <td>14.0</td>\n",
       "      <td>10-30 км</td>\n",
       "      <td>менее 100 м</td>\n",
       "      <td>10-30 км</td>\n",
       "    </tr>\n",
       "    <tr>\n",
       "      <th>3</th>\n",
       "      <td>0</td>\n",
       "      <td>64900000</td>\n",
       "      <td>159.0</td>\n",
       "      <td>2015-07-24</td>\n",
       "      <td>3</td>\n",
       "      <td>2.65</td>\n",
       "      <td>14</td>\n",
       "      <td>45.0</td>\n",
       "      <td>9</td>\n",
       "      <td>True</td>\n",
       "      <td>...</td>\n",
       "      <td>424</td>\n",
       "      <td>408176.100629</td>\n",
       "      <td>4</td>\n",
       "      <td>7</td>\n",
       "      <td>2015</td>\n",
       "      <td>другой</td>\n",
       "      <td>7.0</td>\n",
       "      <td>5-10 км</td>\n",
       "      <td>менее 100 м</td>\n",
       "      <td>10-30 км</td>\n",
       "    </tr>\n",
       "    <tr>\n",
       "      <th>4</th>\n",
       "      <td>2</td>\n",
       "      <td>10000000</td>\n",
       "      <td>100.0</td>\n",
       "      <td>2018-06-19</td>\n",
       "      <td>2</td>\n",
       "      <td>3.03</td>\n",
       "      <td>14</td>\n",
       "      <td>32.0</td>\n",
       "      <td>13</td>\n",
       "      <td>True</td>\n",
       "      <td>...</td>\n",
       "      <td>121</td>\n",
       "      <td>100000.000000</td>\n",
       "      <td>1</td>\n",
       "      <td>6</td>\n",
       "      <td>2018</td>\n",
       "      <td>другой</td>\n",
       "      <td>8.0</td>\n",
       "      <td>5-10 км</td>\n",
       "      <td>100-500 м</td>\n",
       "      <td>30-50 км</td>\n",
       "    </tr>\n",
       "  </tbody>\n",
       "</table>\n",
       "<p>5 rows × 31 columns</p>\n",
       "</div>"
      ],
      "text/plain": [
       "   total_images  last_price  total_area first_day_exposition  rooms  \\\n",
       "0            20    13000000       108.0           2019-03-07      3   \n",
       "1             7     3350000        40.4           2018-12-04      1   \n",
       "2            10     5196000        56.0           2015-08-20      2   \n",
       "3             0    64900000       159.0           2015-07-24      3   \n",
       "4             2    10000000       100.0           2018-06-19      2   \n",
       "\n",
       "   ceiling_height  floors_total  living_area  floor  is_apartment  ...  \\\n",
       "0            2.70            16         51.0      8          True  ...   \n",
       "1            2.65            11         18.6      1          True  ...   \n",
       "2            2.65             5         34.3      4          True  ...   \n",
       "3            2.65            14         45.0      9          True  ...   \n",
       "4            3.03            14         32.0     13          True  ...   \n",
       "\n",
       "   days_exposition     one_m_cost  week_day  month  year  floor_type  \\\n",
       "0              114  120370.370370         3      3  2019      другой   \n",
       "1               81   82920.792079         1     12  2018      первый   \n",
       "2              558   92785.714286         3      8  2015      другой   \n",
       "3              424  408176.100629         4      7  2015      другой   \n",
       "4              121  100000.000000         1      6  2018      другой   \n",
       "\n",
       "   city_center_km cities_near        parks  airports  \n",
       "0            16.0    10-30 км    100-500 м  10-30 км  \n",
       "1            19.0    10-30 км  менее 100 м  10-30 км  \n",
       "2            14.0    10-30 км  менее 100 м  10-30 км  \n",
       "3             7.0     5-10 км  менее 100 м  10-30 км  \n",
       "4             8.0     5-10 км    100-500 м  30-50 км  \n",
       "\n",
       "[5 rows x 31 columns]"
      ]
     },
     "execution_count": 62,
     "metadata": {},
     "output_type": "execute_result"
    }
   ],
   "source": [
    "data.head()"
   ]
  },
  {
   "cell_type": "code",
   "execution_count": 63,
   "metadata": {},
   "outputs": [
    {
     "data": {
      "image/png": "[encoded data removed]",
      "text/plain": [
       "<Figure size 432x288 with 1 Axes>"
      ]
     },
     "metadata": {
      "needs_background": "light"
     },
     "output_type": "display_data"
    }
   ],
   "source": [
    "data.hist('week_day', bins=6)\n",
    "plt.xlim(0,6);\n"
   ]
  },
  {
   "cell_type": "markdown",
   "metadata": {},
   "source": [
    "<font color='4682B4'> Вторник и четверг имеют пиковые значения в данной гистограмме, наименьшие значения имеют суббота и воскресенье."
   ]
  },
  {
   "cell_type": "code",
   "execution_count": 64,
   "metadata": {},
   "outputs": [
    {
     "data": {
      "image/png": "[encoded data removed]",
      "text/plain": [
       "<Figure size 432x288 with 1 Axes>"
      ]
     },
     "metadata": {
      "needs_background": "light"
     },
     "output_type": "display_data"
    }
   ],
   "source": [
    "data.hist('month', bins=12)\n",
    "plt.xlim(1,12);"
   ]
  },
  {
   "cell_type": "markdown",
   "metadata": {},
   "source": [
    "<font color='4682B4'> Наиболее часто объявления публикуются в феврале, марте, апреле и ноябре. Наиболее редко в мае."
   ]
  },
  {
   "cell_type": "code",
   "execution_count": 65,
   "metadata": {},
   "outputs": [
    {
     "data": {
      "image/png": "[encoded data removed]",
      "text/plain": [
       "<Figure size 432x288 with 1 Axes>"
      ]
     },
     "metadata": {
      "needs_background": "light"
     },
     "output_type": "display_data"
    }
   ],
   "source": [
    "data.hist('days_exposition');\n"
   ]
  },
  {
   "cell_type": "markdown",
   "metadata": {},
   "source": [
    "<font color='4682B4'> График показывает пик в значениях около 0, который выравнивается ближе к ~170-180. Посчитаем, сколько объявлений были сняты с продажи в первые 180 дней.<font>"
   ]
  },
  {
   "cell_type": "code",
   "execution_count": 66,
   "metadata": {},
   "outputs": [
    {
     "data": {
      "text/plain": [
       "16810"
      ]
     },
     "execution_count": 66,
     "metadata": {},
     "output_type": "execute_result"
    }
   ],
   "source": [
    "data.query('days_exposition<=180')['days_exposition'].count()"
   ]
  },
  {
   "cell_type": "markdown",
   "metadata": {},
   "source": [
    "<font color='4682B4'>Крайне маловероятно, что более 60% объявлений были сняты с продажи в первые 180 дней, потому отбросим значения, в которых объявления были сняты меньше, чем за 2 недели. Также мы видим, что после 1300 значения практически равны 0, потому отбросим эти значения тоже. <font>"
   ]
  },
  {
   "cell_type": "code",
   "execution_count": 67,
   "metadata": {},
   "outputs": [
    {
     "data": {
      "text/plain": [
       "count    21505.000000\n",
       "mean       181.550570\n",
       "std        201.254733\n",
       "min         15.000000\n",
       "25%         60.000000\n",
       "50%        107.000000\n",
       "75%        215.000000\n",
       "max       1299.000000\n",
       "Name: days_exposition, dtype: float64"
      ]
     },
     "execution_count": 67,
     "metadata": {},
     "output_type": "execute_result"
    }
   ],
   "source": [
    "data.query('days_exposition >= 15 & days_exposition <= 1300')['days_exposition'].describe()"
   ]
  },
  {
   "cell_type": "markdown",
   "metadata": {},
   "source": [
    "<font color='4682B4'> Итак мы видим, что среднее время продажи квартир- 180-200 дней, что означает, что квартиры, проданные меньше, чем за ~60 дней, считаются востребованными и наиболее быстро продаваемыми. Если продажа заняла более 215 дней, то она считается долгой. <font>"
   ]
  },
  {
   "cell_type": "markdown",
   "metadata": {},
   "source": [
    "<font color='4682B4'> \n",
    "    Теперь обозначим, какие факторы влияют на стоимость объекта. Для этого построим графики зависимости цены от различных показателей. \n",
    "    \n",
    "Построим матрицу корреляции и диаграмму рассеивания, чтобы показать зависимость цены от: \n",
    "    \n",
    "    \n",
    "  - общей площади;\n",
    "    \n",
    "    \n",
    "  - жилой площади;\n",
    "    \n",
    "    \n",
    "  - площади кухни;\n",
    "    \n",
    "    \n",
    "  - количество комнат;\n",
    "    \n",
    "    \n",
    "  - типа этажа, на котором расположена квартира (первый, последний, другой);\n",
    "    \n",
    "    \n",
    "  - даты размещения (день недели, месяц, год);\n",
    "    <font>"
   ]
  },
  {
   "cell_type": "code",
   "execution_count": 68,
   "metadata": {},
   "outputs": [
    {
     "data": {
      "text/html": [
       "<div>\n",
       "<style scoped>\n",
       "    .dataframe tbody tr th:only-of-type {\n",
       "        vertical-align: middle;\n",
       "    }\n",
       "\n",
       "    .dataframe tbody tr th {\n",
       "        vertical-align: top;\n",
       "    }\n",
       "\n",
       "    .dataframe thead th {\n",
       "        text-align: right;\n",
       "    }\n",
       "</style>\n",
       "<table border=\"1\" class=\"dataframe\">\n",
       "  <thead>\n",
       "    <tr style=\"text-align: right;\">\n",
       "      <th></th>\n",
       "      <th>total_area</th>\n",
       "      <th>rooms</th>\n",
       "      <th>last_price</th>\n",
       "      <th>cityCenters_nearest</th>\n",
       "      <th>living_area</th>\n",
       "    </tr>\n",
       "  </thead>\n",
       "  <tbody>\n",
       "    <tr>\n",
       "      <th>total_area</th>\n",
       "      <td>1.000000</td>\n",
       "      <td>0.760379</td>\n",
       "      <td>0.653099</td>\n",
       "      <td>-0.079618</td>\n",
       "      <td>0.911152</td>\n",
       "    </tr>\n",
       "    <tr>\n",
       "      <th>rooms</th>\n",
       "      <td>0.760379</td>\n",
       "      <td>1.000000</td>\n",
       "      <td>0.364820</td>\n",
       "      <td>-0.065168</td>\n",
       "      <td>0.856860</td>\n",
       "    </tr>\n",
       "    <tr>\n",
       "      <th>last_price</th>\n",
       "      <td>0.653099</td>\n",
       "      <td>0.364820</td>\n",
       "      <td>1.000000</td>\n",
       "      <td>-0.052147</td>\n",
       "      <td>0.556316</td>\n",
       "    </tr>\n",
       "    <tr>\n",
       "      <th>cityCenters_nearest</th>\n",
       "      <td>-0.079618</td>\n",
       "      <td>-0.065168</td>\n",
       "      <td>-0.052147</td>\n",
       "      <td>1.000000</td>\n",
       "      <td>-0.084136</td>\n",
       "    </tr>\n",
       "    <tr>\n",
       "      <th>living_area</th>\n",
       "      <td>0.911152</td>\n",
       "      <td>0.856860</td>\n",
       "      <td>0.556316</td>\n",
       "      <td>-0.084136</td>\n",
       "      <td>1.000000</td>\n",
       "    </tr>\n",
       "  </tbody>\n",
       "</table>\n",
       "</div>"
      ],
      "text/plain": [
       "                     total_area     rooms  last_price  cityCenters_nearest  \\\n",
       "total_area             1.000000  0.760379    0.653099            -0.079618   \n",
       "rooms                  0.760379  1.000000    0.364820            -0.065168   \n",
       "last_price             0.653099  0.364820    1.000000            -0.052147   \n",
       "cityCenters_nearest   -0.079618 -0.065168   -0.052147             1.000000   \n",
       "living_area            0.911152  0.856860    0.556316            -0.084136   \n",
       "\n",
       "                     living_area  \n",
       "total_area              0.911152  \n",
       "rooms                   0.856860  \n",
       "last_price              0.556316  \n",
       "cityCenters_nearest    -0.084136  \n",
       "living_area             1.000000  "
      ]
     },
     "metadata": {},
     "output_type": "display_data"
    },
    {
     "name": "stdout",
     "output_type": "stream",
     "text": [
      "3940000.0\n",
      "4870000.0\n",
      "4300000.0\n"
     ]
    },
    {
     "data": {
      "image/png": "[encoded data removed]",
      "text/plain": [
       "<Figure size 648x648 with 25 Axes>"
      ]
     },
     "metadata": {
      "needs_background": "light"
     },
     "output_type": "display_data"
    },
    {
     "data": {
      "image/png": "[encoded data removed]",
      "text/plain": [
       "<Figure size 432x288 with 1 Axes>"
      ]
     },
     "metadata": {
      "needs_background": "light"
     },
     "output_type": "display_data"
    },
    {
     "data": {
      "image/png": "[encoded data removed]",
      "text/plain": [
       "<Figure size 432x288 with 1 Axes>"
      ]
     },
     "metadata": {
      "needs_background": "light"
     },
     "output_type": "display_data"
    },
    {
     "data": {
      "image/png": "[encoded data removed]",
      "text/plain": [
       "<Figure size 432x288 with 1 Axes>"
      ]
     },
     "metadata": {
      "needs_background": "light"
     },
     "output_type": "display_data"
    }
   ],
   "source": [
    "display(data[['total_area', 'rooms', 'last_price', 'cityCenters_nearest', 'living_area']].corr())\n",
    "important_values = data.pivot_table(index='locality_name', values=['total_area', 'rooms', 'last_price', 'cityCenters_nearest', 'living_area'])\n",
    "pd.plotting.scatter_matrix(important_values, figsize=(9, 9))\n",
    "data.plot(x='week_day', y='last_price', kind='scatter', grid=True)\n",
    "data.plot(x='month', y='last_price', kind='scatter', grid=True)\n",
    "data.plot(x='year', y='last_price', kind='scatter', grid=True)\n",
    "print(data.query('floor_type == \"первый\"')['last_price'].median())\n",
    "print(data.query('floor_type == \"другой\"')['last_price'].median())\n",
    "print(data.query('floor_type == \"последний\"')['last_price'].median())"
   ]
  },
  {
   "cell_type": "code",
   "execution_count": 69,
   "metadata": {},
   "outputs": [
    {
     "data": {
      "image/png": "[encoded data removed]",
      "text/plain": [
       "<Figure size 720x432 with 1 Axes>"
      ]
     },
     "metadata": {
      "needs_background": "light"
     },
     "output_type": "display_data"
    }
   ],
   "source": [
    "fig, ax = plt.subplots(figsize=(10, 6))\n",
    "ax.scatter(x = data['total_area'], y = data['last_price'])\n",
    "plt.xlabel(\"Total Area\")\n",
    "plt.ylabel(\"Price\");"
   ]
  },
  {
   "cell_type": "markdown",
   "metadata": {},
   "source": [
    "<font color='4682B4'> \n",
    "    \n",
    "    \n",
    "### Итак, построив графики мы можем заметить следующую зависимость: \n",
    "<font color='4682B4'> Цена в целом увеличивается пропорционально увеличению общей площади. Некоторые изменения довольно значительные, в основном резкий подъем цены не наблюдается. <font>"
   ]
  },
  {
   "cell_type": "code",
   "execution_count": 70,
   "metadata": {},
   "outputs": [
    {
     "data": {
      "text/plain": [
       "Text(0, 0.5, 'Price')"
      ]
     },
     "execution_count": 70,
     "metadata": {},
     "output_type": "execute_result"
    },
    {
     "data": {
      "image/png": "[encoded data removed]",
      "text/plain": [
       "<Figure size 720x432 with 1 Axes>"
      ]
     },
     "metadata": {
      "needs_background": "light"
     },
     "output_type": "display_data"
    }
   ],
   "source": [
    "fig, ax = plt.subplots(figsize=(10, 6))\n",
    "ax.scatter(x = data['living_area'], y = data['last_price'])\n",
    "plt.xlabel(\"Living Area\")\n",
    "plt.ylabel(\"Price\")"
   ]
  },
  {
   "cell_type": "markdown",
   "metadata": {},
   "source": [
    "<font color='4682B4'> То же самое я могу заметить в графики зависимости цены от жилой площади объекта. Есть повышения цены в связи с увеличением жилой площади, но они, за редким исключением, скорее незначительны."
   ]
  },
  {
   "cell_type": "code",
   "execution_count": 71,
   "metadata": {},
   "outputs": [
    {
     "data": {
      "image/png": "[encoded data removed]",
      "text/plain": [
       "<Figure size 720x432 with 1 Axes>"
      ]
     },
     "metadata": {
      "needs_background": "light"
     },
     "output_type": "display_data"
    }
   ],
   "source": [
    "fig, ax = plt.subplots(figsize=(10, 6))\n",
    "ax.scatter(x = data['kitchen_area'], y = data['last_price'])\n",
    "plt.xlabel(\"Kitchen Area\")\n",
    "plt.ylabel(\"Price\");"
   ]
  },
  {
   "cell_type": "markdown",
   "metadata": {},
   "source": [
    "<font color='4682B4'> Что касается этого параметра, цена здесь вовсе не повышается и имеет практически одинаковые значения и при маленькой площади кухни, и при большой."
   ]
  },
  {
   "cell_type": "code",
   "execution_count": 72,
   "metadata": {},
   "outputs": [
    {
     "data": {
      "image/png": "[encoded data removed]",
      "text/plain": [
       "<Figure size 720x432 with 1 Axes>"
      ]
     },
     "metadata": {
      "needs_background": "light"
     },
     "output_type": "display_data"
    }
   ],
   "source": [
    "fig, ax = plt.subplots(figsize=(10, 6))\n",
    "ax.scatter(x = data['rooms'], y = data['last_price'])\n",
    "plt.xlabel(\"Rooms\")\n",
    "plt.ylabel(\"Price\");"
   ]
  },
  {
   "cell_type": "markdown",
   "metadata": {},
   "source": [
    "<font color='4682B4'> Думаю, что значения >10 скорее вброс, потому считаю правильнее оценивать без учета показателей выше. Этот график показывает прямую зависимость цены от количества комнат, таким образом, чем больше комнат, тем больше цена за квартиру."
   ]
  },
  {
   "cell_type": "code",
   "execution_count": 73,
   "metadata": {},
   "outputs": [
    {
     "data": {
      "image/png": "[encoded data removed]",
      "text/plain": [
       "<Figure size 720x432 with 1 Axes>"
      ]
     },
     "metadata": {
      "needs_background": "light"
     },
     "output_type": "display_data"
    }
   ],
   "source": [
    "fig, ax = plt.subplots(figsize=(10, 6))\n",
    "ax.scatter(x = data['floor_type'], y = data['last_price'])\n",
    "plt.xlabel(\"floor\")\n",
    "plt.ylabel(\"Price\");"
   ]
  },
  {
   "cell_type": "markdown",
   "metadata": {},
   "source": [
    "<font color='4682B4'> Здесь отчетливо видно, что цена за \"другой\" и \"последний\" тип этажа значительно выше цены за \"первый\". Думаю, что это связано с нежеланием приобретать квартиру на уровне глаз прохожих и прочими проблемами жизни на первом этаже, вроде безопасности, холода, шума и так далее. "
   ]
  },
  {
   "cell_type": "markdown",
   "metadata": {},
   "source": [
    "<font color='4682B4'> Что касается дня недели: объявления, размещенные в среду и субботу, имели цены выше тех, что были размещены в остальные дни.\n",
    "    То же самое можно сказать про месяц февраль, март и декабрь.\n",
    "    И 2017 год. \n",
    "    Изменения в цене также порой незначительны, но они все же есть."
   ]
  },
  {
   "cell_type": "markdown",
   "metadata": {},
   "source": [
    "<font color='4682B4'> \n",
    "\n",
    "Как мы видим из графиков и корреляции, цена объекта находится в прямой зависимости от общей и жилой площади и количества комнат, то есть чем выше становится один показатель, тем выше будет другой. Также мы видим обратную зависимость с удаленностью объекта от центра, то есть чем выше становится цена, тем меньше будет расстояние до центра. Если сравнивать цену и день недели, месяц и год, когда было выложено объявление, то можно увидеть, что объявления, которые были размещены в среду и субботу, имеют цену немного выше, чем те, что были размещены в остальные дни недели. А также в феврале, марте и декабре, квартиры тоже продавались по большей стоимости. Такая же закономерность и с 2017 годом. В целом можно сказать, что отличия в цене небольшие, но они всё-таки есть.<font>"
   ]
  },
  {
   "cell_type": "markdown",
   "metadata": {},
   "source": [
    "<font color='4682B4'> \n",
    "    \n",
    "    \n",
    "### Следующим шагом найдем топ 10 городов по количеству объявлений и узнаем населенные пункты с самой низкой и высокой ценой за 1 квадратный метр"
   ]
  },
  {
   "cell_type": "code",
   "execution_count": 74,
   "metadata": {},
   "outputs": [],
   "source": [
    "top_10_city = data['locality_name'].value_counts().head(10)"
   ]
  },
  {
   "cell_type": "code",
   "execution_count": 75,
   "metadata": {},
   "outputs": [
    {
     "data": {
      "text/plain": [
       "Санкт-Петербург    15467\n",
       "Мурино               558\n",
       "Кудрово              448\n",
       "Шушары               435\n",
       "Всеволожск           391\n",
       "Пушкин               366\n",
       "Колпино              337\n",
       "Парголово            321\n",
       "Гатчина              306\n",
       "Выборг               235\n",
       "Name: locality_name, dtype: int64"
      ]
     },
     "metadata": {},
     "output_type": "display_data"
    }
   ],
   "source": [
    "display(top_10_city)"
   ]
  },
  {
   "cell_type": "code",
   "execution_count": 10,
   "metadata": {},
   "outputs": [
    {
     "data": {
      "text/html": [
       "<div>\n",
       "<style scoped>\n",
       "    .dataframe tbody tr th:only-of-type {\n",
       "        vertical-align: middle;\n",
       "    }\n",
       "\n",
       "    .dataframe tbody tr th {\n",
       "        vertical-align: top;\n",
       "    }\n",
       "\n",
       "    .dataframe thead th {\n",
       "        text-align: right;\n",
       "    }\n",
       "</style>\n",
       "<table border=\"1\" class=\"dataframe\">\n",
       "  <thead>\n",
       "    <tr style=\"text-align: right;\">\n",
       "      <th></th>\n",
       "      <th>balcony</th>\n",
       "      <th>last_price</th>\n",
       "    </tr>\n",
       "    <tr>\n",
       "      <th>locality_name</th>\n",
       "      <th></th>\n",
       "      <th></th>\n",
       "    </tr>\n",
       "  </thead>\n",
       "  <tbody>\n",
       "    <tr>\n",
       "      <th>Санкт-Петербург</th>\n",
       "      <td>8009</td>\n",
       "      <td>5500000.0</td>\n",
       "    </tr>\n",
       "    <tr>\n",
       "      <th>посёлок Мурино</th>\n",
       "      <td>280</td>\n",
       "      <td>3400000.0</td>\n",
       "    </tr>\n",
       "    <tr>\n",
       "      <th>посёлок Шушары</th>\n",
       "      <td>259</td>\n",
       "      <td>3950000.0</td>\n",
       "    </tr>\n",
       "    <tr>\n",
       "      <th>Всеволожск</th>\n",
       "      <td>210</td>\n",
       "      <td>3450000.0</td>\n",
       "    </tr>\n",
       "    <tr>\n",
       "      <th>деревня Кудрово</th>\n",
       "      <td>199</td>\n",
       "      <td>3790000.0</td>\n",
       "    </tr>\n",
       "    <tr>\n",
       "      <th>Пушкин</th>\n",
       "      <td>199</td>\n",
       "      <td>5180000.0</td>\n",
       "    </tr>\n",
       "    <tr>\n",
       "      <th>Гатчина</th>\n",
       "      <td>187</td>\n",
       "      <td>3100000.0</td>\n",
       "    </tr>\n",
       "    <tr>\n",
       "      <th>посёлок Парголово</th>\n",
       "      <td>186</td>\n",
       "      <td>4100000.0</td>\n",
       "    </tr>\n",
       "    <tr>\n",
       "      <th>Колпино</th>\n",
       "      <td>173</td>\n",
       "      <td>3600000.0</td>\n",
       "    </tr>\n",
       "    <tr>\n",
       "      <th>Выборг</th>\n",
       "      <td>105</td>\n",
       "      <td>2897000.0</td>\n",
       "    </tr>\n",
       "  </tbody>\n",
       "</table>\n",
       "</div>"
      ],
      "text/plain": [
       "                   balcony  last_price\n",
       "locality_name                         \n",
       "Санкт-Петербург       8009   5500000.0\n",
       "посёлок Мурино         280   3400000.0\n",
       "посёлок Шушары         259   3950000.0\n",
       "Всеволожск             210   3450000.0\n",
       "деревня Кудрово        199   3790000.0\n",
       "Пушкин                 199   5180000.0\n",
       "Гатчина                187   3100000.0\n",
       "посёлок Парголово      186   4100000.0\n",
       "Колпино                173   3600000.0\n",
       "Выборг                 105   2897000.0"
      ]
     },
     "execution_count": 10,
     "metadata": {},
     "output_type": "execute_result"
    }
   ],
   "source": [
    "data.groupby('locality_name').agg({'balcony':'count', 'last_price':'median'}) \\\n",
    "    .sort_values(by = 'balcony', ascending = False) \\\n",
    "    .head(10)"
   ]
  },
  {
   "cell_type": "code",
   "execution_count": 79,
   "metadata": {},
   "outputs": [
    {
     "data": {
      "text/html": [
       "<div>\n",
       "<style scoped>\n",
       "    .dataframe tbody tr th:only-of-type {\n",
       "        vertical-align: middle;\n",
       "    }\n",
       "\n",
       "    .dataframe tbody tr th {\n",
       "        vertical-align: top;\n",
       "    }\n",
       "\n",
       "    .dataframe thead th {\n",
       "        text-align: right;\n",
       "    }\n",
       "</style>\n",
       "<table border=\"1\" class=\"dataframe\">\n",
       "  <thead>\n",
       "    <tr style=\"text-align: right;\">\n",
       "      <th></th>\n",
       "      <th>balcony</th>\n",
       "      <th>last_price</th>\n",
       "    </tr>\n",
       "    <tr>\n",
       "      <th>locality_name</th>\n",
       "      <th></th>\n",
       "      <th></th>\n",
       "    </tr>\n",
       "  </thead>\n",
       "  <tbody>\n",
       "    <tr>\n",
       "      <th>Санкт-Петербург</th>\n",
       "      <td>15467</td>\n",
       "      <td>5550000.0</td>\n",
       "    </tr>\n",
       "    <tr>\n",
       "      <th>Мурино</th>\n",
       "      <td>558</td>\n",
       "      <td>3456000.0</td>\n",
       "    </tr>\n",
       "    <tr>\n",
       "      <th>Кудрово</th>\n",
       "      <td>448</td>\n",
       "      <td>3950000.0</td>\n",
       "    </tr>\n",
       "    <tr>\n",
       "      <th>Шушары</th>\n",
       "      <td>435</td>\n",
       "      <td>3990000.0</td>\n",
       "    </tr>\n",
       "    <tr>\n",
       "      <th>Всеволожск</th>\n",
       "      <td>391</td>\n",
       "      <td>3500000.0</td>\n",
       "    </tr>\n",
       "    <tr>\n",
       "      <th>Пушкин</th>\n",
       "      <td>366</td>\n",
       "      <td>5187319.0</td>\n",
       "    </tr>\n",
       "    <tr>\n",
       "      <th>Колпино</th>\n",
       "      <td>337</td>\n",
       "      <td>3600000.0</td>\n",
       "    </tr>\n",
       "    <tr>\n",
       "      <th>Парголово</th>\n",
       "      <td>321</td>\n",
       "      <td>4150000.0</td>\n",
       "    </tr>\n",
       "    <tr>\n",
       "      <th>Гатчина</th>\n",
       "      <td>306</td>\n",
       "      <td>3095000.0</td>\n",
       "    </tr>\n",
       "    <tr>\n",
       "      <th>Выборг</th>\n",
       "      <td>235</td>\n",
       "      <td>2900000.0</td>\n",
       "    </tr>\n",
       "  </tbody>\n",
       "</table>\n",
       "</div>"
      ],
      "text/plain": [
       "                 balcony  last_price\n",
       "locality_name                       \n",
       "Санкт-Петербург    15467   5550000.0\n",
       "Мурино               558   3456000.0\n",
       "Кудрово              448   3950000.0\n",
       "Шушары               435   3990000.0\n",
       "Всеволожск           391   3500000.0\n",
       "Пушкин               366   5187319.0\n",
       "Колпино              337   3600000.0\n",
       "Парголово            321   4150000.0\n",
       "Гатчина              306   3095000.0\n",
       "Выборг               235   2900000.0"
      ]
     },
     "execution_count": 79,
     "metadata": {},
     "output_type": "execute_result"
    }
   ],
   "source": [
    "data.groupby('locality_name').agg({'balcony':'count', 'last_price':'median'}) \\\n",
    "    .sort_values(by = 'balcony', ascending = False) \\\n",
    "    .head(10)"
   ]
  },
  {
   "cell_type": "markdown",
   "metadata": {},
   "source": [
    "<font color='4682B4'> Как мы видим, наибольшая цена за один квадратный метр в Санкт-Петербурге. (114 тысяч за кв.м.)"
   ]
  },
  {
   "cell_type": "markdown",
   "metadata": {},
   "source": [
    "<font color='4682B4'> Минимальная же цена в Выборге. (58 тыс. за кв.м)"
   ]
  },
  {
   "cell_type": "markdown",
   "metadata": {},
   "source": [
    "<font color='4682B4'> Наиболее высокая стоимость за кв.м именно в Санкт-Петербурге, потому интересно посмотреть, зависит ли она от цена от удаленности от центра города, если да, то сколько стоит каждый км ближе и дальше от центра? Произведём рассчёты и проанализируем полученные данные. "
   ]
  },
  {
   "cell_type": "code",
   "execution_count": 78,
   "metadata": {},
   "outputs": [
    {
     "data": {
      "image/png": "[encoded data removed]",
      "text/plain": [
       "<Figure size 432x288 with 1 Axes>"
      ]
     },
     "metadata": {
      "needs_background": "light"
     },
     "output_type": "display_data"
    }
   ],
   "source": [
    "spb = data.query('locality_name == \"Санкт-Петербург\"')\n",
    "spb_center_distance = spb.groupby('city_center_km')['one_m_cost'].mean().astype('int64')\n",
    "spb_center_distance.plot(xlim=(0,20), grid = True, title = 'One m cost in Spb');\n"
   ]
  },
  {
   "cell_type": "markdown",
   "metadata": {},
   "source": [
    "<font color='4682B4'> Этот график показывает значительную разницу в цене в зависимости от степени удаленности от центра города в Санкт-Петербурге. За 20 км цена уменьшилась в 2 раза, что говорит, что средняя цена каждого километра ~4-4,5 тысячи за один квадратный метр. "
   ]
  },
  {
   "cell_type": "markdown",
   "metadata": {},
   "source": [
    "<font color='4682B4'>\n",
    "    \n",
    "    \n",
    "### Общий вывод\n",
    "    \n",
    "    \n",
    "## Результаты исследования ##\n",
    "    \n",
    "Мною было проведено исследование рынка недвижимости в Санкт-Петербурге и близлежащих городах и посёлках.\n",
    "В рамках этого исследования я:\n",
    "\n",
    "* Изучила следующие параметры:\n",
    "  - общая площадь;\n",
    "  - жилая площадь;\n",
    "  - площадь кухни;\n",
    "  - цена объекта;\n",
    "  - количество комнат;\n",
    "  - высота потолков;\n",
    "  - этаж квартиры;\n",
    "  - тип этажа квартиры («первый», «последний», «другой»);\n",
    "  - общее количество этажей в доме;\n",
    "  - расстояние до центра города в метрах;\n",
    "  - расстояние до ближайшего аэропорта;\n",
    "  - расстояние до ближайшего парка;\n",
    "  - день и месяц публикации объявления\n",
    "  Описала их и проанализировала корректность данных, а также удалила аномальные значения с целью наиболее точного анализа данных.\n",
    "* Выявила среднее время продажи квартир, определила сроки \"долгой\" и \"быстрой\" продажи\n",
    "* Выявила зависимость средней цены от следующих показателей:\n",
    "  - общей площади;\n",
    "  - жилой площади;\n",
    "  - площади кухни;\n",
    "  - количество комнат;\n",
    "  - типа этажа, на котором расположена квартира (первый, последний, другой);\n",
    "  - даты размещения (день недели, месяц, год);\n",
    "\n",
    "* Выявила населенный пункт с наибольшей и наименьшей ценой за кв.м.\n",
    "\n",
    "* Выявила примерную цену кв.м. в зависимости от удаленности от центра города в крупнейшем городе выборки-Санкт-Петербурге.\n",
    "\n",
    "## Вот, что мне удалось выяснить: \n",
    "    \n",
    "    \n",
    "* Наиболее популярны среди покупателей квартиры площадью 50-70 кв.м. Квартиры более 120 кв.м. покупаются крайне редко.При том жилая площадь, предпочитаемая среднестатистическим покупателем, -15-20 кв.м, а площадь кухни 5-12 кв.м (7 кв.м.самая популярная площадь для кухни)\n",
    "    \n",
    "    \n",
    "* Средняя цена за квартиру-5 миллионов.\n",
    "    \n",
    "    \n",
    "* Наиболее популярными являются 1-3хкомнатные квартиры, более чем в 2 раза реже покупают четырехкомнатные квартиры.\n",
    "    \n",
    "    \n",
    "* 2,5-3,5 - стандартная высота потолков в проданных квартирах.\n",
    "    \n",
    "   \n",
    "* Квартиры, находящиеся на 1-6 этаже являются наиболее часто покупаемыми.Квартиры на этажах 9-11 менее популярны. Квартиры, находящиеся на этажах 13-20, покупались реже 500 раз. Совсем редко покупались квартиры выше 25 этажа.\n",
    "    \n",
    "    \n",
    "    \n",
    "* Цена за квартиры не на первом и не на последнем этаже значительно выше. При том, если сравнивать первый и последний этаж, средняя цена за квартиру на последнем также выше средней цены за квартиру на первом. Также квартиры не на первом и не на последнем этаже покупаются гораздо чаще и быстрее.\n",
    "    \n",
    "    \n",
    "\n",
    "* Квартиры в 5ти- и 9тиэтажных домах имеют значительное преимущество перед современными многоэтажными постройками.\n",
    "    \n",
    "    \n",
    "* Наибольшее количество проданных квартир находилось на расстоянии 10-30 км от центра ближайшего города. Почти в 2 раза меньше квартир находилось на совсем маленьком расстоянии от города- менее 1 км. Совсем непопулярными являются квартиры, находящееся дальше 50 км от центра ближайшего города.\n",
    "    \n",
    "    \n",
    "    \n",
    "* Наиболее высокая медианная цена за квартиры, расположенные на расстоянии 1-5 км от центра населенного пункта.\n",
    "    \n",
    "    \n",
    "    \n",
    "* Большая часть купленных квартир находится в непосредственной близости к паркам, расстояние 1-3 км и в относительной близости к аэропортам (в пределах 10-50 км)\n",
    "    \n",
    "    \n",
    "    \n",
    "* Среднее время продажи квартир- 180-200 дней, что означает, что квартиры, проданные меньше, чем за ~60 дней, считаются востребованными и наиболее быстро продаваемыми. Если продажа заняла более 215 дней, то она считается долгой.\n",
    "    \n",
    "    \n",
    "\n",
    "* Цена объекта находится в прямой зависимости от общей и жилой площади и количества комнат, то есть чем выше становится один показатель, тем выше будет другой. Прослеживается обратную зависимость с удаленностью объекта от центра, то есть чем выше становится цена, тем меньше будет расстояние до центра. Если сравнивать цену и день недели, месяц и год, когда было выложено объявление, то можно увидеть, что объявления, которые были размещены в среду и субботу, имеют цену немного выше, чем те, что были размещены в остальные дни недели. А также в феврале, марте и декабре, квартиры тоже продавались по большей стоимости. \n",
    "    \n",
    "* В Санкт- Петербурге средняя цена каждого километра ~4-4,5 тысячи за один квадратный метр.\n",
    "    \n",
    "    \n",
    "# Вывод:\n",
    "    \n",
    "    \n",
    "* Наиболее благоприятными днями недели для публикации объявления являются среда и суббота, а месяцами- февраль, март, декабрь.\n",
    "\n",
    "    \n",
    "* Средняя рыночная цена за квартиру на \"другом\" (т.е. не первом и не последнем этажах) значительно выше.\n",
    "    \n",
    "    \n",
    "* Наибольшее влияние на цену оказывают такие факторы как:\n",
    "    - Количество комнат\n",
    "    - цена за кв.м.\n",
    "    - тип этажа\n",
    "    - отдаленность от центра города."
   ]
  }
 ],
 "metadata": {
  "ExecuteTimeLog": [
   {
    "duration": 571,
    "start_time": "2022-12-01T17:58:33.921Z"
   },
   {
    "duration": 94,
    "start_time": "2022-12-01T17:59:27.287Z"
   },
   {
    "duration": 520,
    "start_time": "2022-12-01T18:00:22.573Z"
   },
   {
    "duration": 189,
    "start_time": "2022-12-01T18:00:33.462Z"
   },
   {
    "duration": 123,
    "start_time": "2022-12-01T18:00:58.868Z"
   },
   {
    "duration": 72,
    "start_time": "2022-12-01T18:03:39.288Z"
   },
   {
    "duration": 70,
    "start_time": "2022-12-01T18:03:53.240Z"
   },
   {
    "duration": 1501,
    "start_time": "2022-12-01T18:04:28.157Z"
   },
   {
    "duration": 2036,
    "start_time": "2022-12-01T18:04:44.578Z"
   },
   {
    "duration": 1979,
    "start_time": "2022-12-01T18:06:45.481Z"
   },
   {
    "duration": 116,
    "start_time": "2022-12-01T18:07:09.726Z"
   },
   {
    "duration": 2003,
    "start_time": "2022-12-01T18:07:41.586Z"
   },
   {
    "duration": 2035,
    "start_time": "2022-12-01T18:08:00.458Z"
   },
   {
    "duration": 11,
    "start_time": "2022-12-01T18:08:33.989Z"
   },
   {
    "duration": 8,
    "start_time": "2022-12-01T18:11:33.570Z"
   },
   {
    "duration": 3,
    "start_time": "2022-12-01T18:11:46.923Z"
   },
   {
    "duration": 14,
    "start_time": "2022-12-01T18:13:35.370Z"
   },
   {
    "duration": 7,
    "start_time": "2022-12-01T18:24:26.299Z"
   },
   {
    "duration": 6,
    "start_time": "2022-12-01T18:24:37.612Z"
   },
   {
    "duration": 101,
    "start_time": "2022-12-01T18:25:11.739Z"
   },
   {
    "duration": 16,
    "start_time": "2022-12-01T18:25:22.511Z"
   },
   {
    "duration": 14,
    "start_time": "2022-12-01T18:25:37.095Z"
   },
   {
    "duration": 77,
    "start_time": "2022-12-01T18:26:20.506Z"
   },
   {
    "duration": 1907,
    "start_time": "2022-12-01T18:26:31.140Z"
   },
   {
    "duration": 2018,
    "start_time": "2022-12-01T18:27:19.426Z"
   },
   {
    "duration": 6,
    "start_time": "2022-12-01T18:28:07.361Z"
   },
   {
    "duration": 1502,
    "start_time": "2022-12-01T18:35:46.184Z"
   },
   {
    "duration": 1267,
    "start_time": "2022-12-01T18:36:05.714Z"
   },
   {
    "duration": 328,
    "start_time": "2022-12-01T18:36:15.953Z"
   },
   {
    "duration": 338,
    "start_time": "2022-12-01T18:36:39.681Z"
   },
   {
    "duration": 354,
    "start_time": "2022-12-01T18:36:43.103Z"
   },
   {
    "duration": 305,
    "start_time": "2022-12-01T18:36:57.551Z"
   },
   {
    "duration": 376,
    "start_time": "2022-12-01T18:37:17.699Z"
   },
   {
    "duration": 17,
    "start_time": "2022-12-01T18:37:34.946Z"
   },
   {
    "duration": 32,
    "start_time": "2022-12-01T18:37:53.088Z"
   },
   {
    "duration": 5,
    "start_time": "2022-12-01T18:38:18.480Z"
   },
   {
    "duration": 19,
    "start_time": "2022-12-01T18:39:14.834Z"
   },
   {
    "duration": 5,
    "start_time": "2022-12-01T18:39:17.759Z"
   },
   {
    "duration": 1610,
    "start_time": "2022-12-01T18:40:06.762Z"
   },
   {
    "duration": 7,
    "start_time": "2022-12-01T18:40:17.288Z"
   },
   {
    "duration": 5,
    "start_time": "2022-12-01T18:41:08.286Z"
   },
   {
    "duration": 183,
    "start_time": "2022-12-01T18:41:12.683Z"
   },
   {
    "duration": 6,
    "start_time": "2022-12-01T18:41:40.643Z"
   },
   {
    "duration": 4,
    "start_time": "2022-12-01T18:41:59.748Z"
   },
   {
    "duration": 4,
    "start_time": "2022-12-01T18:42:02.284Z"
   },
   {
    "duration": 4,
    "start_time": "2022-12-01T18:42:06.255Z"
   },
   {
    "duration": 6,
    "start_time": "2022-12-01T18:42:08.944Z"
   },
   {
    "duration": 10,
    "start_time": "2022-12-01T18:42:42.893Z"
   },
   {
    "duration": 8,
    "start_time": "2022-12-01T18:43:03.395Z"
   },
   {
    "duration": 9,
    "start_time": "2022-12-01T18:43:30.395Z"
   },
   {
    "duration": 9,
    "start_time": "2022-12-01T18:43:56.297Z"
   },
   {
    "duration": 12,
    "start_time": "2022-12-01T18:44:53.235Z"
   },
   {
    "duration": 16,
    "start_time": "2022-12-01T18:52:48.355Z"
   },
   {
    "duration": 10,
    "start_time": "2022-12-01T18:52:54.071Z"
   },
   {
    "duration": 8,
    "start_time": "2022-12-01T18:52:56.315Z"
   },
   {
    "duration": 7,
    "start_time": "2022-12-01T18:53:04.723Z"
   },
   {
    "duration": 5,
    "start_time": "2022-12-01T18:53:05.721Z"
   },
   {
    "duration": 6,
    "start_time": "2022-12-01T18:53:09.083Z"
   },
   {
    "duration": 8,
    "start_time": "2022-12-01T18:53:10.314Z"
   },
   {
    "duration": 18,
    "start_time": "2022-12-01T18:53:43.293Z"
   },
   {
    "duration": 18,
    "start_time": "2022-12-01T18:54:09.315Z"
   },
   {
    "duration": 5,
    "start_time": "2022-12-01T18:54:20.817Z"
   },
   {
    "duration": 29,
    "start_time": "2022-12-01T18:54:55.759Z"
   },
   {
    "duration": 18,
    "start_time": "2022-12-01T18:55:18.817Z"
   },
   {
    "duration": 4,
    "start_time": "2022-12-01T18:55:27.600Z"
   },
   {
    "duration": 4,
    "start_time": "2022-12-01T18:55:39.962Z"
   },
   {
    "duration": 4,
    "start_time": "2022-12-01T18:55:47.101Z"
   },
   {
    "duration": 16,
    "start_time": "2022-12-01T18:56:46.923Z"
   },
   {
    "duration": 4,
    "start_time": "2022-12-01T18:57:13.970Z"
   },
   {
    "duration": 11,
    "start_time": "2022-12-01T18:57:23.849Z"
   },
   {
    "duration": 6,
    "start_time": "2022-12-01T18:59:14.586Z"
   },
   {
    "duration": 526,
    "start_time": "2022-12-03T15:04:20.126Z"
   },
   {
    "duration": 17,
    "start_time": "2022-12-03T15:04:21.279Z"
   },
   {
    "duration": 14,
    "start_time": "2022-12-03T15:04:22.255Z"
   },
   {
    "duration": 2419,
    "start_time": "2022-12-03T15:04:23.085Z"
   },
   {
    "duration": 9,
    "start_time": "2022-12-03T15:04:25.506Z"
   },
   {
    "duration": 6,
    "start_time": "2022-12-03T15:04:26.830Z"
   },
   {
    "duration": 9,
    "start_time": "2022-12-03T15:04:28.245Z"
   },
   {
    "duration": 6,
    "start_time": "2022-12-03T15:04:30.273Z"
   },
   {
    "duration": 6,
    "start_time": "2022-12-03T15:05:02.240Z"
   },
   {
    "duration": 10,
    "start_time": "2022-12-03T15:05:07.459Z"
   },
   {
    "duration": 6,
    "start_time": "2022-12-03T15:05:15.223Z"
   },
   {
    "duration": 9,
    "start_time": "2022-12-03T15:05:16.822Z"
   },
   {
    "duration": 7,
    "start_time": "2022-12-03T15:05:33.903Z"
   },
   {
    "duration": 9,
    "start_time": "2022-12-03T15:05:36.307Z"
   },
   {
    "duration": 65,
    "start_time": "2022-12-03T15:06:38.737Z"
   },
   {
    "duration": 5,
    "start_time": "2022-12-03T15:06:46.064Z"
   },
   {
    "duration": 9,
    "start_time": "2022-12-03T15:06:48.183Z"
   },
   {
    "duration": 4,
    "start_time": "2022-12-03T15:07:20.697Z"
   },
   {
    "duration": 9,
    "start_time": "2022-12-03T15:07:22.894Z"
   },
   {
    "duration": 5,
    "start_time": "2022-12-03T15:09:36.856Z"
   },
   {
    "duration": 9,
    "start_time": "2022-12-03T15:09:39.144Z"
   },
   {
    "duration": 11,
    "start_time": "2022-12-03T15:14:03.046Z"
   },
   {
    "duration": 8,
    "start_time": "2022-12-03T15:14:17.379Z"
   },
   {
    "duration": 7,
    "start_time": "2022-12-03T15:14:47.068Z"
   },
   {
    "duration": 5,
    "start_time": "2022-12-03T15:15:16.225Z"
   },
   {
    "duration": 8,
    "start_time": "2022-12-03T15:15:35.311Z"
   },
   {
    "duration": 6,
    "start_time": "2022-12-03T15:15:53.079Z"
   },
   {
    "duration": 4,
    "start_time": "2022-12-03T15:21:42.196Z"
   },
   {
    "duration": 9,
    "start_time": "2022-12-03T15:22:06.299Z"
   },
   {
    "duration": 410,
    "start_time": "2022-12-03T15:22:30.367Z"
   },
   {
    "duration": 41,
    "start_time": "2022-12-03T15:23:00.969Z"
   },
   {
    "duration": 9,
    "start_time": "2022-12-03T15:23:21.723Z"
   },
   {
    "duration": 16,
    "start_time": "2022-12-03T15:24:15.904Z"
   },
   {
    "duration": 8,
    "start_time": "2022-12-03T15:24:18.402Z"
   },
   {
    "duration": 9,
    "start_time": "2022-12-03T15:25:12.886Z"
   },
   {
    "duration": 9,
    "start_time": "2022-12-03T15:25:30.591Z"
   },
   {
    "duration": 104,
    "start_time": "2022-12-03T15:26:28.875Z"
   },
   {
    "duration": 14,
    "start_time": "2022-12-03T15:26:29.944Z"
   },
   {
    "duration": 18,
    "start_time": "2022-12-03T15:26:30.872Z"
   },
   {
    "duration": 2255,
    "start_time": "2022-12-03T15:26:31.702Z"
   },
   {
    "duration": 23,
    "start_time": "2022-12-03T15:26:33.959Z"
   },
   {
    "duration": 7,
    "start_time": "2022-12-03T15:26:34.171Z"
   },
   {
    "duration": 7,
    "start_time": "2022-12-03T15:26:35.060Z"
   },
   {
    "duration": 5,
    "start_time": "2022-12-03T15:26:36.241Z"
   },
   {
    "duration": 4,
    "start_time": "2022-12-03T15:26:37.622Z"
   },
   {
    "duration": 10,
    "start_time": "2022-12-03T15:26:38.604Z"
   },
   {
    "duration": 9,
    "start_time": "2022-12-03T15:26:41.572Z"
   },
   {
    "duration": 7,
    "start_time": "2022-12-03T15:26:44.771Z"
   },
   {
    "duration": 9,
    "start_time": "2022-12-03T15:26:47.700Z"
   },
   {
    "duration": 5,
    "start_time": "2022-12-03T15:26:49.020Z"
   },
   {
    "duration": 11,
    "start_time": "2022-12-03T15:26:53.159Z"
   },
   {
    "duration": 7,
    "start_time": "2022-12-03T15:29:06.571Z"
   },
   {
    "duration": 6,
    "start_time": "2022-12-03T15:29:22.498Z"
   },
   {
    "duration": 4,
    "start_time": "2022-12-03T15:32:39.595Z"
   },
   {
    "duration": 9,
    "start_time": "2022-12-03T15:32:57.586Z"
   },
   {
    "duration": 88,
    "start_time": "2022-12-03T15:34:52.894Z"
   },
   {
    "duration": 88,
    "start_time": "2022-12-03T15:35:01.834Z"
   },
   {
    "duration": 15,
    "start_time": "2022-12-03T15:35:01.924Z"
   },
   {
    "duration": 20,
    "start_time": "2022-12-03T15:35:01.940Z"
   },
   {
    "duration": 1874,
    "start_time": "2022-12-03T15:35:01.961Z"
   },
   {
    "duration": 11,
    "start_time": "2022-12-03T15:35:03.838Z"
   },
   {
    "duration": 28,
    "start_time": "2022-12-03T15:35:03.851Z"
   },
   {
    "duration": 24,
    "start_time": "2022-12-03T15:35:03.881Z"
   },
   {
    "duration": 71,
    "start_time": "2022-12-03T15:35:03.907Z"
   },
   {
    "duration": 47,
    "start_time": "2022-12-03T15:35:03.980Z"
   },
   {
    "duration": 23,
    "start_time": "2022-12-03T15:35:04.029Z"
   },
   {
    "duration": 28,
    "start_time": "2022-12-03T15:35:04.054Z"
   },
   {
    "duration": 19,
    "start_time": "2022-12-03T15:35:04.084Z"
   },
   {
    "duration": 14,
    "start_time": "2022-12-03T15:35:04.105Z"
   },
   {
    "duration": 19,
    "start_time": "2022-12-03T15:35:04.123Z"
   },
   {
    "duration": 27,
    "start_time": "2022-12-03T15:35:04.143Z"
   },
   {
    "duration": 14,
    "start_time": "2022-12-03T15:35:04.172Z"
   },
   {
    "duration": 21,
    "start_time": "2022-12-03T15:35:04.188Z"
   },
   {
    "duration": 48,
    "start_time": "2022-12-03T15:35:04.210Z"
   },
   {
    "duration": 79,
    "start_time": "2022-12-03T15:43:35.358Z"
   },
   {
    "duration": 76,
    "start_time": "2022-12-03T15:44:11.724Z"
   },
   {
    "duration": 74,
    "start_time": "2022-12-03T15:44:21.434Z"
   },
   {
    "duration": 71,
    "start_time": "2022-12-03T15:44:41.190Z"
   },
   {
    "duration": 109,
    "start_time": "2022-12-03T15:44:51.355Z"
   },
   {
    "duration": 8,
    "start_time": "2022-12-03T15:45:02.525Z"
   },
   {
    "duration": 11,
    "start_time": "2022-12-03T15:45:41.175Z"
   },
   {
    "duration": 10,
    "start_time": "2022-12-03T15:45:57.821Z"
   },
   {
    "duration": 11,
    "start_time": "2022-12-03T15:47:29.673Z"
   },
   {
    "duration": 10,
    "start_time": "2022-12-03T15:48:53.263Z"
   },
   {
    "duration": 7,
    "start_time": "2022-12-03T15:49:31.177Z"
   },
   {
    "duration": 10,
    "start_time": "2022-12-03T15:49:46.622Z"
   },
   {
    "duration": 10,
    "start_time": "2022-12-03T15:50:21.540Z"
   },
   {
    "duration": 12,
    "start_time": "2022-12-03T15:50:22.809Z"
   },
   {
    "duration": 1318,
    "start_time": "2023-02-02T22:02:12.386Z"
   },
   {
    "duration": 7,
    "start_time": "2023-02-02T22:02:13.705Z"
   },
   {
    "duration": 16,
    "start_time": "2023-02-02T22:02:13.713Z"
   },
   {
    "duration": 133,
    "start_time": "2023-02-02T22:02:13.731Z"
   },
   {
    "duration": 0,
    "start_time": "2023-02-02T22:02:13.875Z"
   },
   {
    "duration": 0,
    "start_time": "2023-02-02T22:02:13.876Z"
   },
   {
    "duration": 0,
    "start_time": "2023-02-02T22:02:13.877Z"
   },
   {
    "duration": 0,
    "start_time": "2023-02-02T22:02:13.877Z"
   },
   {
    "duration": 0,
    "start_time": "2023-02-02T22:02:13.878Z"
   },
   {
    "duration": 0,
    "start_time": "2023-02-02T22:02:13.879Z"
   },
   {
    "duration": 0,
    "start_time": "2023-02-02T22:02:13.881Z"
   },
   {
    "duration": 0,
    "start_time": "2023-02-02T22:02:13.882Z"
   },
   {
    "duration": 0,
    "start_time": "2023-02-02T22:02:13.883Z"
   },
   {
    "duration": 0,
    "start_time": "2023-02-02T22:02:13.884Z"
   },
   {
    "duration": 0,
    "start_time": "2023-02-02T22:02:13.885Z"
   },
   {
    "duration": 0,
    "start_time": "2023-02-02T22:02:13.886Z"
   },
   {
    "duration": 0,
    "start_time": "2023-02-02T22:02:13.887Z"
   },
   {
    "duration": 0,
    "start_time": "2023-02-02T22:02:13.888Z"
   },
   {
    "duration": 0,
    "start_time": "2023-02-02T22:02:13.890Z"
   },
   {
    "duration": 0,
    "start_time": "2023-02-02T22:02:13.891Z"
   },
   {
    "duration": 0,
    "start_time": "2023-02-02T22:02:13.893Z"
   },
   {
    "duration": 0,
    "start_time": "2023-02-02T22:02:13.895Z"
   },
   {
    "duration": 0,
    "start_time": "2023-02-02T22:02:13.896Z"
   },
   {
    "duration": 0,
    "start_time": "2023-02-02T22:02:13.898Z"
   },
   {
    "duration": 0,
    "start_time": "2023-02-02T22:02:13.899Z"
   },
   {
    "duration": 0,
    "start_time": "2023-02-02T22:02:13.900Z"
   },
   {
    "duration": 0,
    "start_time": "2023-02-02T22:02:13.900Z"
   },
   {
    "duration": 0,
    "start_time": "2023-02-02T22:02:13.901Z"
   },
   {
    "duration": 0,
    "start_time": "2023-02-02T22:02:13.902Z"
   },
   {
    "duration": 0,
    "start_time": "2023-02-02T22:02:13.904Z"
   },
   {
    "duration": 0,
    "start_time": "2023-02-02T22:02:13.906Z"
   },
   {
    "duration": 0,
    "start_time": "2023-02-02T22:02:13.907Z"
   },
   {
    "duration": 0,
    "start_time": "2023-02-02T22:02:13.909Z"
   },
   {
    "duration": 0,
    "start_time": "2023-02-02T22:02:13.910Z"
   },
   {
    "duration": 0,
    "start_time": "2023-02-02T22:02:13.911Z"
   },
   {
    "duration": 0,
    "start_time": "2023-02-02T22:02:13.913Z"
   },
   {
    "duration": 0,
    "start_time": "2023-02-02T22:02:13.915Z"
   },
   {
    "duration": 0,
    "start_time": "2023-02-02T22:02:13.915Z"
   },
   {
    "duration": 0,
    "start_time": "2023-02-02T22:02:13.972Z"
   },
   {
    "duration": 0,
    "start_time": "2023-02-02T22:02:13.973Z"
   },
   {
    "duration": 0,
    "start_time": "2023-02-02T22:02:13.974Z"
   },
   {
    "duration": 0,
    "start_time": "2023-02-02T22:02:13.975Z"
   },
   {
    "duration": 0,
    "start_time": "2023-02-02T22:02:13.975Z"
   },
   {
    "duration": 0,
    "start_time": "2023-02-02T22:02:13.976Z"
   },
   {
    "duration": 0,
    "start_time": "2023-02-02T22:02:13.977Z"
   },
   {
    "duration": 0,
    "start_time": "2023-02-02T22:02:13.978Z"
   },
   {
    "duration": 0,
    "start_time": "2023-02-02T22:02:13.979Z"
   },
   {
    "duration": 0,
    "start_time": "2023-02-02T22:02:13.981Z"
   },
   {
    "duration": 0,
    "start_time": "2023-02-02T22:02:13.982Z"
   },
   {
    "duration": 0,
    "start_time": "2023-02-02T22:02:13.983Z"
   },
   {
    "duration": 0,
    "start_time": "2023-02-02T22:02:13.987Z"
   },
   {
    "duration": 0,
    "start_time": "2023-02-02T22:02:13.988Z"
   },
   {
    "duration": 0,
    "start_time": "2023-02-02T22:02:13.989Z"
   },
   {
    "duration": 0,
    "start_time": "2023-02-02T22:02:13.990Z"
   },
   {
    "duration": 0,
    "start_time": "2023-02-02T22:02:13.991Z"
   },
   {
    "duration": 0,
    "start_time": "2023-02-02T22:02:13.992Z"
   },
   {
    "duration": 0,
    "start_time": "2023-02-02T22:02:13.993Z"
   },
   {
    "duration": 0,
    "start_time": "2023-02-02T22:02:13.994Z"
   },
   {
    "duration": 0,
    "start_time": "2023-02-02T22:02:13.995Z"
   },
   {
    "duration": 0,
    "start_time": "2023-02-02T22:02:13.997Z"
   },
   {
    "duration": 0,
    "start_time": "2023-02-02T22:02:13.998Z"
   },
   {
    "duration": 0,
    "start_time": "2023-02-02T22:02:13.999Z"
   },
   {
    "duration": 0,
    "start_time": "2023-02-02T22:02:13.999Z"
   },
   {
    "duration": 0,
    "start_time": "2023-02-02T22:02:14.000Z"
   },
   {
    "duration": 0,
    "start_time": "2023-02-02T22:02:14.003Z"
   },
   {
    "duration": 0,
    "start_time": "2023-02-02T22:02:14.004Z"
   },
   {
    "duration": 0,
    "start_time": "2023-02-02T22:02:14.006Z"
   },
   {
    "duration": 0,
    "start_time": "2023-02-02T22:02:14.008Z"
   },
   {
    "duration": 0,
    "start_time": "2023-02-02T22:02:14.009Z"
   },
   {
    "duration": 0,
    "start_time": "2023-02-02T22:02:14.010Z"
   },
   {
    "duration": 0,
    "start_time": "2023-02-02T22:02:14.069Z"
   },
   {
    "duration": 0,
    "start_time": "2023-02-02T22:02:14.070Z"
   },
   {
    "duration": 0,
    "start_time": "2023-02-02T22:02:14.071Z"
   },
   {
    "duration": 0,
    "start_time": "2023-02-02T22:02:14.071Z"
   },
   {
    "duration": 0,
    "start_time": "2023-02-02T22:02:14.072Z"
   },
   {
    "duration": 1293,
    "start_time": "2023-02-02T22:02:40.767Z"
   },
   {
    "duration": 13,
    "start_time": "2023-02-02T22:02:42.061Z"
   },
   {
    "duration": 22,
    "start_time": "2023-02-02T22:02:42.076Z"
   },
   {
    "duration": 107,
    "start_time": "2023-02-02T22:02:42.100Z"
   },
   {
    "duration": 0,
    "start_time": "2023-02-02T22:02:42.210Z"
   },
   {
    "duration": 0,
    "start_time": "2023-02-02T22:02:42.212Z"
   },
   {
    "duration": 0,
    "start_time": "2023-02-02T22:02:42.213Z"
   },
   {
    "duration": 0,
    "start_time": "2023-02-02T22:02:42.214Z"
   },
   {
    "duration": 0,
    "start_time": "2023-02-02T22:02:42.214Z"
   },
   {
    "duration": 0,
    "start_time": "2023-02-02T22:02:42.215Z"
   },
   {
    "duration": 0,
    "start_time": "2023-02-02T22:02:42.216Z"
   },
   {
    "duration": 0,
    "start_time": "2023-02-02T22:02:42.217Z"
   },
   {
    "duration": 0,
    "start_time": "2023-02-02T22:02:42.218Z"
   },
   {
    "duration": 0,
    "start_time": "2023-02-02T22:02:42.219Z"
   },
   {
    "duration": 0,
    "start_time": "2023-02-02T22:02:42.220Z"
   },
   {
    "duration": 0,
    "start_time": "2023-02-02T22:02:42.221Z"
   },
   {
    "duration": 0,
    "start_time": "2023-02-02T22:02:42.222Z"
   },
   {
    "duration": 0,
    "start_time": "2023-02-02T22:02:42.223Z"
   },
   {
    "duration": 0,
    "start_time": "2023-02-02T22:02:42.224Z"
   },
   {
    "duration": 0,
    "start_time": "2023-02-02T22:02:42.225Z"
   },
   {
    "duration": 0,
    "start_time": "2023-02-02T22:02:42.226Z"
   },
   {
    "duration": 0,
    "start_time": "2023-02-02T22:02:42.228Z"
   },
   {
    "duration": 0,
    "start_time": "2023-02-02T22:02:42.229Z"
   },
   {
    "duration": 0,
    "start_time": "2023-02-02T22:02:42.230Z"
   },
   {
    "duration": 0,
    "start_time": "2023-02-02T22:02:42.231Z"
   },
   {
    "duration": 0,
    "start_time": "2023-02-02T22:02:42.232Z"
   },
   {
    "duration": 0,
    "start_time": "2023-02-02T22:02:42.270Z"
   },
   {
    "duration": 0,
    "start_time": "2023-02-02T22:02:42.271Z"
   },
   {
    "duration": 0,
    "start_time": "2023-02-02T22:02:42.272Z"
   },
   {
    "duration": 0,
    "start_time": "2023-02-02T22:02:42.273Z"
   },
   {
    "duration": 0,
    "start_time": "2023-02-02T22:02:42.273Z"
   },
   {
    "duration": 0,
    "start_time": "2023-02-02T22:02:42.274Z"
   },
   {
    "duration": 0,
    "start_time": "2023-02-02T22:02:42.275Z"
   },
   {
    "duration": 0,
    "start_time": "2023-02-02T22:02:42.276Z"
   },
   {
    "duration": 0,
    "start_time": "2023-02-02T22:02:42.276Z"
   },
   {
    "duration": 0,
    "start_time": "2023-02-02T22:02:42.277Z"
   },
   {
    "duration": 0,
    "start_time": "2023-02-02T22:02:42.278Z"
   },
   {
    "duration": 0,
    "start_time": "2023-02-02T22:02:42.279Z"
   },
   {
    "duration": 0,
    "start_time": "2023-02-02T22:02:42.283Z"
   },
   {
    "duration": 0,
    "start_time": "2023-02-02T22:02:42.284Z"
   },
   {
    "duration": 0,
    "start_time": "2023-02-02T22:02:42.286Z"
   },
   {
    "duration": 0,
    "start_time": "2023-02-02T22:02:42.288Z"
   },
   {
    "duration": 0,
    "start_time": "2023-02-02T22:02:42.289Z"
   },
   {
    "duration": 0,
    "start_time": "2023-02-02T22:02:42.290Z"
   },
   {
    "duration": 0,
    "start_time": "2023-02-02T22:02:42.292Z"
   },
   {
    "duration": 0,
    "start_time": "2023-02-02T22:02:42.293Z"
   },
   {
    "duration": 0,
    "start_time": "2023-02-02T22:02:42.295Z"
   },
   {
    "duration": 0,
    "start_time": "2023-02-02T22:02:42.296Z"
   },
   {
    "duration": 0,
    "start_time": "2023-02-02T22:02:42.297Z"
   },
   {
    "duration": 0,
    "start_time": "2023-02-02T22:02:42.299Z"
   },
   {
    "duration": 0,
    "start_time": "2023-02-02T22:02:42.300Z"
   },
   {
    "duration": 0,
    "start_time": "2023-02-02T22:02:42.302Z"
   },
   {
    "duration": 0,
    "start_time": "2023-02-02T22:02:42.303Z"
   },
   {
    "duration": 0,
    "start_time": "2023-02-02T22:02:42.304Z"
   },
   {
    "duration": 0,
    "start_time": "2023-02-02T22:02:42.306Z"
   },
   {
    "duration": 0,
    "start_time": "2023-02-02T22:02:42.307Z"
   },
   {
    "duration": 0,
    "start_time": "2023-02-02T22:02:42.308Z"
   },
   {
    "duration": 0,
    "start_time": "2023-02-02T22:02:42.310Z"
   },
   {
    "duration": 0,
    "start_time": "2023-02-02T22:02:42.311Z"
   },
   {
    "duration": 0,
    "start_time": "2023-02-02T22:02:42.372Z"
   },
   {
    "duration": 0,
    "start_time": "2023-02-02T22:02:42.373Z"
   },
   {
    "duration": 0,
    "start_time": "2023-02-02T22:02:42.374Z"
   },
   {
    "duration": 0,
    "start_time": "2023-02-02T22:02:42.375Z"
   },
   {
    "duration": 0,
    "start_time": "2023-02-02T22:02:42.376Z"
   },
   {
    "duration": 0,
    "start_time": "2023-02-02T22:02:42.376Z"
   },
   {
    "duration": 0,
    "start_time": "2023-02-02T22:02:42.377Z"
   },
   {
    "duration": 0,
    "start_time": "2023-02-02T22:02:42.378Z"
   },
   {
    "duration": 0,
    "start_time": "2023-02-02T22:02:42.385Z"
   },
   {
    "duration": 0,
    "start_time": "2023-02-02T22:02:42.386Z"
   },
   {
    "duration": 0,
    "start_time": "2023-02-02T22:02:42.388Z"
   },
   {
    "duration": 1,
    "start_time": "2023-02-02T22:02:42.388Z"
   },
   {
    "duration": 0,
    "start_time": "2023-02-02T22:02:42.390Z"
   },
   {
    "duration": 0,
    "start_time": "2023-02-02T22:02:42.391Z"
   },
   {
    "duration": 0,
    "start_time": "2023-02-02T22:02:42.392Z"
   },
   {
    "duration": 0,
    "start_time": "2023-02-02T22:02:42.393Z"
   },
   {
    "duration": 94,
    "start_time": "2023-02-02T22:03:09.604Z"
   },
   {
    "duration": 13,
    "start_time": "2023-02-02T22:03:10.723Z"
   },
   {
    "duration": 19,
    "start_time": "2023-02-02T22:03:12.863Z"
   },
   {
    "duration": 1249,
    "start_time": "2023-02-02T22:03:17.463Z"
   },
   {
    "duration": 16,
    "start_time": "2023-02-02T22:03:18.714Z"
   },
   {
    "duration": 14,
    "start_time": "2023-02-02T22:03:18.732Z"
   },
   {
    "duration": 1947,
    "start_time": "2023-02-02T22:03:18.748Z"
   },
   {
    "duration": 8,
    "start_time": "2023-02-02T22:03:20.697Z"
   },
   {
    "duration": 6,
    "start_time": "2023-02-02T22:03:20.707Z"
   },
   {
    "duration": 8,
    "start_time": "2023-02-02T22:03:20.714Z"
   },
   {
    "duration": 7,
    "start_time": "2023-02-02T22:03:20.723Z"
   },
   {
    "duration": 13,
    "start_time": "2023-02-02T22:03:20.732Z"
   },
   {
    "duration": 12,
    "start_time": "2023-02-02T22:03:20.769Z"
   },
   {
    "duration": 8,
    "start_time": "2023-02-02T22:03:20.784Z"
   },
   {
    "duration": 8,
    "start_time": "2023-02-02T22:03:20.794Z"
   },
   {
    "duration": 6,
    "start_time": "2023-02-02T22:03:20.803Z"
   },
   {
    "duration": 4,
    "start_time": "2023-02-02T22:03:20.812Z"
   },
   {
    "duration": 11,
    "start_time": "2023-02-02T22:03:20.817Z"
   },
   {
    "duration": 4,
    "start_time": "2023-02-02T22:03:20.830Z"
   },
   {
    "duration": 34,
    "start_time": "2023-02-02T22:03:20.836Z"
   },
   {
    "duration": 25,
    "start_time": "2023-02-02T22:03:20.871Z"
   },
   {
    "duration": 10,
    "start_time": "2023-02-02T22:03:20.897Z"
   },
   {
    "duration": 8,
    "start_time": "2023-02-02T22:03:20.908Z"
   },
   {
    "duration": 5,
    "start_time": "2023-02-02T22:03:20.917Z"
   },
   {
    "duration": 11,
    "start_time": "2023-02-02T22:03:20.924Z"
   },
   {
    "duration": 5,
    "start_time": "2023-02-02T22:03:20.936Z"
   },
   {
    "duration": 28,
    "start_time": "2023-02-02T22:03:20.942Z"
   },
   {
    "duration": 18,
    "start_time": "2023-02-02T22:03:20.971Z"
   },
   {
    "duration": 8,
    "start_time": "2023-02-02T22:03:20.990Z"
   },
   {
    "duration": 34,
    "start_time": "2023-02-02T22:03:20.999Z"
   },
   {
    "duration": 14,
    "start_time": "2023-02-02T22:03:21.035Z"
   },
   {
    "duration": 11,
    "start_time": "2023-02-02T22:03:21.069Z"
   },
   {
    "duration": 18,
    "start_time": "2023-02-02T22:03:21.081Z"
   },
   {
    "duration": 21,
    "start_time": "2023-02-02T22:03:21.101Z"
   },
   {
    "duration": 12,
    "start_time": "2023-02-02T22:03:21.124Z"
   },
   {
    "duration": 34,
    "start_time": "2023-02-02T22:03:21.138Z"
   },
   {
    "duration": 14,
    "start_time": "2023-02-02T22:03:21.173Z"
   },
   {
    "duration": 9,
    "start_time": "2023-02-02T22:03:21.188Z"
   },
   {
    "duration": 32,
    "start_time": "2023-02-02T22:03:21.198Z"
   },
   {
    "duration": 125,
    "start_time": "2023-02-02T22:03:21.232Z"
   },
   {
    "duration": 11,
    "start_time": "2023-02-02T22:03:21.359Z"
   },
   {
    "duration": 14,
    "start_time": "2023-02-02T22:03:21.371Z"
   },
   {
    "duration": 26,
    "start_time": "2023-02-02T22:03:21.386Z"
   },
   {
    "duration": 13,
    "start_time": "2023-02-02T22:03:21.416Z"
   },
   {
    "duration": 6,
    "start_time": "2023-02-02T22:03:21.431Z"
   },
   {
    "duration": 6,
    "start_time": "2023-02-02T22:03:21.438Z"
   },
   {
    "duration": 40,
    "start_time": "2023-02-02T22:03:21.446Z"
   },
   {
    "duration": 731,
    "start_time": "2023-02-02T22:03:21.487Z"
   },
   {
    "duration": 371,
    "start_time": "2023-02-02T22:03:22.220Z"
   },
   {
    "duration": 313,
    "start_time": "2023-02-02T22:03:22.592Z"
   },
   {
    "duration": 209,
    "start_time": "2023-02-02T22:03:22.907Z"
   },
   {
    "duration": 9,
    "start_time": "2023-02-02T22:03:23.117Z"
   },
   {
    "duration": 856,
    "start_time": "2023-02-02T22:03:23.127Z"
   },
   {
    "duration": 173,
    "start_time": "2023-02-02T22:03:23.985Z"
   },
   {
    "duration": 253,
    "start_time": "2023-02-02T22:03:24.159Z"
   },
   {
    "duration": 169,
    "start_time": "2023-02-02T22:03:24.414Z"
   },
   {
    "duration": 122,
    "start_time": "2023-02-02T22:03:24.585Z"
   },
   {
    "duration": 138,
    "start_time": "2023-02-02T22:03:24.709Z"
   },
   {
    "duration": 187,
    "start_time": "2023-02-02T22:03:24.849Z"
   },
   {
    "duration": 13,
    "start_time": "2023-02-02T22:03:25.038Z"
   },
   {
    "duration": 136,
    "start_time": "2023-02-02T22:03:25.053Z"
   },
   {
    "duration": 157,
    "start_time": "2023-02-02T22:03:25.191Z"
   },
   {
    "duration": 24,
    "start_time": "2023-02-02T22:03:25.349Z"
   },
   {
    "duration": 125,
    "start_time": "2023-02-02T22:03:25.383Z"
   },
   {
    "duration": 15,
    "start_time": "2023-02-02T22:03:25.509Z"
   },
   {
    "duration": 125,
    "start_time": "2023-02-02T22:03:25.526Z"
   },
   {
    "duration": 158,
    "start_time": "2023-02-02T22:03:25.653Z"
   },
   {
    "duration": 11,
    "start_time": "2023-02-02T22:03:25.813Z"
   },
   {
    "duration": 13,
    "start_time": "2023-02-02T22:03:25.826Z"
   },
   {
    "duration": 1772,
    "start_time": "2023-02-02T22:03:25.840Z"
   },
   {
    "duration": 189,
    "start_time": "2023-02-02T22:03:27.614Z"
   },
   {
    "duration": 237,
    "start_time": "2023-02-02T22:03:27.805Z"
   },
   {
    "duration": 192,
    "start_time": "2023-02-02T22:03:28.043Z"
   },
   {
    "duration": 321,
    "start_time": "2023-02-02T22:03:28.237Z"
   },
   {
    "duration": 191,
    "start_time": "2023-02-02T22:03:28.559Z"
   },
   {
    "duration": 30,
    "start_time": "2023-02-02T22:03:28.752Z"
   },
   {
    "duration": 14,
    "start_time": "2023-02-02T22:03:28.785Z"
   },
   {
    "duration": 157,
    "start_time": "2023-02-02T22:03:28.801Z"
   },
   {
    "duration": 18,
    "start_time": "2023-02-02T22:05:00.518Z"
   },
   {
    "duration": 69,
    "start_time": "2023-02-02T22:05:29.118Z"
   },
   {
    "duration": 166,
    "start_time": "2023-02-02T22:08:47.745Z"
   },
   {
    "duration": 51,
    "start_time": "2023-02-05T01:29:44.751Z"
   },
   {
    "duration": 0,
    "start_time": "2023-02-05T01:29:44.804Z"
   },
   {
    "duration": 0,
    "start_time": "2023-02-05T01:29:44.805Z"
   },
   {
    "duration": 0,
    "start_time": "2023-02-05T01:29:44.806Z"
   },
   {
    "duration": 0,
    "start_time": "2023-02-05T01:29:44.807Z"
   },
   {
    "duration": 0,
    "start_time": "2023-02-05T01:29:44.809Z"
   },
   {
    "duration": 0,
    "start_time": "2023-02-05T01:29:44.810Z"
   },
   {
    "duration": 0,
    "start_time": "2023-02-05T01:29:44.815Z"
   },
   {
    "duration": 0,
    "start_time": "2023-02-05T01:29:44.816Z"
   },
   {
    "duration": 0,
    "start_time": "2023-02-05T01:29:44.817Z"
   },
   {
    "duration": 9,
    "start_time": "2023-02-05T01:29:44.840Z"
   },
   {
    "duration": 0,
    "start_time": "2023-02-05T01:29:44.851Z"
   },
   {
    "duration": 0,
    "start_time": "2023-02-05T01:29:44.852Z"
   },
   {
    "duration": 0,
    "start_time": "2023-02-05T01:29:44.854Z"
   },
   {
    "duration": 0,
    "start_time": "2023-02-05T01:29:44.856Z"
   },
   {
    "duration": 0,
    "start_time": "2023-02-05T01:29:44.859Z"
   },
   {
    "duration": 0,
    "start_time": "2023-02-05T01:29:44.860Z"
   },
   {
    "duration": 0,
    "start_time": "2023-02-05T01:29:44.862Z"
   },
   {
    "duration": 0,
    "start_time": "2023-02-05T01:29:44.863Z"
   },
   {
    "duration": 7,
    "start_time": "2023-02-05T01:29:44.865Z"
   },
   {
    "duration": 0,
    "start_time": "2023-02-05T01:29:44.874Z"
   },
   {
    "duration": 0,
    "start_time": "2023-02-05T01:29:44.875Z"
   },
   {
    "duration": 0,
    "start_time": "2023-02-05T01:29:44.876Z"
   },
   {
    "duration": 0,
    "start_time": "2023-02-05T01:29:44.878Z"
   },
   {
    "duration": 6,
    "start_time": "2023-02-05T01:29:44.939Z"
   },
   {
    "duration": 0,
    "start_time": "2023-02-05T01:29:44.947Z"
   },
   {
    "duration": 0,
    "start_time": "2023-02-05T01:29:44.948Z"
   },
   {
    "duration": 0,
    "start_time": "2023-02-05T01:29:44.950Z"
   },
   {
    "duration": 0,
    "start_time": "2023-02-05T01:29:44.951Z"
   },
   {
    "duration": 0,
    "start_time": "2023-02-05T01:29:44.952Z"
   },
   {
    "duration": 0,
    "start_time": "2023-02-05T01:29:44.953Z"
   },
   {
    "duration": 0,
    "start_time": "2023-02-05T01:29:44.955Z"
   },
   {
    "duration": 0,
    "start_time": "2023-02-05T01:29:44.956Z"
   },
   {
    "duration": 0,
    "start_time": "2023-02-05T01:29:44.957Z"
   },
   {
    "duration": 0,
    "start_time": "2023-02-05T01:29:44.958Z"
   },
   {
    "duration": 0,
    "start_time": "2023-02-05T01:29:44.959Z"
   },
   {
    "duration": 0,
    "start_time": "2023-02-05T01:29:44.960Z"
   },
   {
    "duration": 0,
    "start_time": "2023-02-05T01:29:44.961Z"
   },
   {
    "duration": 0,
    "start_time": "2023-02-05T01:29:44.963Z"
   },
   {
    "duration": 0,
    "start_time": "2023-02-05T01:29:44.964Z"
   },
   {
    "duration": 75,
    "start_time": "2023-02-05T01:29:44.967Z"
   },
   {
    "duration": 0,
    "start_time": "2023-02-05T01:29:45.044Z"
   },
   {
    "duration": 0,
    "start_time": "2023-02-05T01:29:45.046Z"
   },
   {
    "duration": 0,
    "start_time": "2023-02-05T01:29:45.047Z"
   },
   {
    "duration": 0,
    "start_time": "2023-02-05T01:29:45.049Z"
   },
   {
    "duration": 0,
    "start_time": "2023-02-05T01:29:45.050Z"
   },
   {
    "duration": 9,
    "start_time": "2023-02-05T01:29:45.055Z"
   },
   {
    "duration": 0,
    "start_time": "2023-02-05T01:29:45.066Z"
   },
   {
    "duration": 0,
    "start_time": "2023-02-05T01:29:45.067Z"
   },
   {
    "duration": 0,
    "start_time": "2023-02-05T01:29:45.069Z"
   },
   {
    "duration": 0,
    "start_time": "2023-02-05T01:29:45.070Z"
   },
   {
    "duration": 0,
    "start_time": "2023-02-05T01:29:45.071Z"
   },
   {
    "duration": 0,
    "start_time": "2023-02-05T01:29:45.072Z"
   },
   {
    "duration": 0,
    "start_time": "2023-02-05T01:29:45.073Z"
   },
   {
    "duration": 0,
    "start_time": "2023-02-05T01:29:45.075Z"
   },
   {
    "duration": 0,
    "start_time": "2023-02-05T01:29:45.076Z"
   },
   {
    "duration": 0,
    "start_time": "2023-02-05T01:29:45.077Z"
   },
   {
    "duration": 0,
    "start_time": "2023-02-05T01:29:45.078Z"
   },
   {
    "duration": 0,
    "start_time": "2023-02-05T01:29:45.139Z"
   },
   {
    "duration": 0,
    "start_time": "2023-02-05T01:29:45.141Z"
   },
   {
    "duration": 0,
    "start_time": "2023-02-05T01:29:45.142Z"
   },
   {
    "duration": 0,
    "start_time": "2023-02-05T01:29:45.144Z"
   },
   {
    "duration": 0,
    "start_time": "2023-02-05T01:29:45.145Z"
   },
   {
    "duration": 0,
    "start_time": "2023-02-05T01:29:45.146Z"
   },
   {
    "duration": 11,
    "start_time": "2023-02-05T01:29:45.152Z"
   },
   {
    "duration": 0,
    "start_time": "2023-02-05T01:29:45.165Z"
   },
   {
    "duration": 0,
    "start_time": "2023-02-05T01:29:45.166Z"
   },
   {
    "duration": 0,
    "start_time": "2023-02-05T01:29:45.168Z"
   },
   {
    "duration": 0,
    "start_time": "2023-02-05T01:29:45.170Z"
   },
   {
    "duration": 0,
    "start_time": "2023-02-05T01:29:45.171Z"
   },
   {
    "duration": 0,
    "start_time": "2023-02-05T01:29:45.173Z"
   },
   {
    "duration": 0,
    "start_time": "2023-02-05T01:29:45.174Z"
   },
   {
    "duration": 0,
    "start_time": "2023-02-05T01:29:45.176Z"
   },
   {
    "duration": 0,
    "start_time": "2023-02-05T01:29:45.177Z"
   },
   {
    "duration": 0,
    "start_time": "2023-02-05T01:29:45.239Z"
   },
   {
    "duration": 0,
    "start_time": "2023-02-05T01:29:45.240Z"
   },
   {
    "duration": 0,
    "start_time": "2023-02-05T01:29:45.241Z"
   },
   {
    "duration": 0,
    "start_time": "2023-02-05T01:29:45.243Z"
   },
   {
    "duration": 1296,
    "start_time": "2023-02-05T01:29:56.050Z"
   },
   {
    "duration": 19,
    "start_time": "2023-02-05T01:29:57.348Z"
   },
   {
    "duration": 16,
    "start_time": "2023-02-05T01:29:57.368Z"
   },
   {
    "duration": 2163,
    "start_time": "2023-02-05T01:29:57.386Z"
   },
   {
    "duration": 10,
    "start_time": "2023-02-05T01:29:59.551Z"
   },
   {
    "duration": 8,
    "start_time": "2023-02-05T01:29:59.563Z"
   },
   {
    "duration": 27,
    "start_time": "2023-02-05T01:29:59.573Z"
   },
   {
    "duration": 15,
    "start_time": "2023-02-05T01:29:59.602Z"
   },
   {
    "duration": 10,
    "start_time": "2023-02-05T01:29:59.619Z"
   },
   {
    "duration": 21,
    "start_time": "2023-02-05T01:29:59.632Z"
   },
   {
    "duration": 9,
    "start_time": "2023-02-05T01:29:59.654Z"
   },
   {
    "duration": 14,
    "start_time": "2023-02-05T01:29:59.664Z"
   },
   {
    "duration": 15,
    "start_time": "2023-02-05T01:29:59.680Z"
   },
   {
    "duration": 12,
    "start_time": "2023-02-05T01:29:59.696Z"
   },
   {
    "duration": 8,
    "start_time": "2023-02-05T01:29:59.710Z"
   },
   {
    "duration": 21,
    "start_time": "2023-02-05T01:29:59.719Z"
   },
   {
    "duration": 23,
    "start_time": "2023-02-05T01:29:59.742Z"
   },
   {
    "duration": 12,
    "start_time": "2023-02-05T01:29:59.767Z"
   },
   {
    "duration": 10,
    "start_time": "2023-02-05T01:29:59.781Z"
   },
   {
    "duration": 17,
    "start_time": "2023-02-05T01:29:59.792Z"
   },
   {
    "duration": 10,
    "start_time": "2023-02-05T01:29:59.811Z"
   },
   {
    "duration": 19,
    "start_time": "2023-02-05T01:29:59.823Z"
   },
   {
    "duration": 21,
    "start_time": "2023-02-05T01:29:59.843Z"
   },
   {
    "duration": 28,
    "start_time": "2023-02-05T01:29:59.865Z"
   },
   {
    "duration": 43,
    "start_time": "2023-02-05T01:29:59.894Z"
   },
   {
    "duration": 15,
    "start_time": "2023-02-05T01:29:59.940Z"
   },
   {
    "duration": 6,
    "start_time": "2023-02-05T01:29:59.957Z"
   },
   {
    "duration": 16,
    "start_time": "2023-02-05T01:29:59.967Z"
   },
   {
    "duration": 34,
    "start_time": "2023-02-05T01:29:59.984Z"
   },
   {
    "duration": 15,
    "start_time": "2023-02-05T01:30:00.038Z"
   },
   {
    "duration": 26,
    "start_time": "2023-02-05T01:30:00.055Z"
   },
   {
    "duration": 14,
    "start_time": "2023-02-05T01:30:00.083Z"
   },
   {
    "duration": 13,
    "start_time": "2023-02-05T01:30:00.098Z"
   },
   {
    "duration": 60,
    "start_time": "2023-02-05T01:30:00.113Z"
   },
   {
    "duration": 127,
    "start_time": "2023-02-05T01:30:00.175Z"
   },
   {
    "duration": 7,
    "start_time": "2023-02-05T01:30:00.305Z"
   },
   {
    "duration": 29,
    "start_time": "2023-02-05T01:30:00.314Z"
   },
   {
    "duration": 52,
    "start_time": "2023-02-05T01:30:00.346Z"
   },
   {
    "duration": 35,
    "start_time": "2023-02-05T01:30:00.400Z"
   },
   {
    "duration": 32,
    "start_time": "2023-02-05T01:30:00.437Z"
   },
   {
    "duration": 40,
    "start_time": "2023-02-05T01:30:00.471Z"
   },
   {
    "duration": 64,
    "start_time": "2023-02-05T01:30:00.513Z"
   },
   {
    "duration": 671,
    "start_time": "2023-02-05T01:30:00.579Z"
   },
   {
    "duration": 414,
    "start_time": "2023-02-05T01:30:01.252Z"
   },
   {
    "duration": 397,
    "start_time": "2023-02-05T01:30:01.669Z"
   },
   {
    "duration": 224,
    "start_time": "2023-02-05T01:30:02.070Z"
   },
   {
    "duration": 13,
    "start_time": "2023-02-05T01:30:02.296Z"
   },
   {
    "duration": 1087,
    "start_time": "2023-02-05T01:30:02.311Z"
   },
   {
    "duration": 170,
    "start_time": "2023-02-05T01:30:03.400Z"
   },
   {
    "duration": 141,
    "start_time": "2023-02-05T01:30:03.572Z"
   },
   {
    "duration": 313,
    "start_time": "2023-02-05T01:30:03.715Z"
   },
   {
    "duration": 150,
    "start_time": "2023-02-05T01:30:04.030Z"
   },
   {
    "duration": 137,
    "start_time": "2023-02-05T01:30:04.182Z"
   },
   {
    "duration": 173,
    "start_time": "2023-02-05T01:30:04.321Z"
   },
   {
    "duration": 21,
    "start_time": "2023-02-05T01:30:04.496Z"
   },
   {
    "duration": 152,
    "start_time": "2023-02-05T01:30:04.519Z"
   },
   {
    "duration": 170,
    "start_time": "2023-02-05T01:30:04.672Z"
   },
   {
    "duration": 17,
    "start_time": "2023-02-05T01:30:04.844Z"
   },
   {
    "duration": 159,
    "start_time": "2023-02-05T01:30:04.863Z"
   },
   {
    "duration": 30,
    "start_time": "2023-02-05T01:30:05.024Z"
   },
   {
    "duration": 143,
    "start_time": "2023-02-05T01:30:05.057Z"
   },
   {
    "duration": 37,
    "start_time": "2023-02-05T01:30:05.202Z"
   },
   {
    "duration": 186,
    "start_time": "2023-02-05T01:30:05.242Z"
   },
   {
    "duration": 156,
    "start_time": "2023-02-05T01:30:05.429Z"
   },
   {
    "duration": 183,
    "start_time": "2023-02-05T01:30:05.588Z"
   },
   {
    "duration": 106,
    "start_time": "2023-02-05T01:30:05.773Z"
   },
   {
    "duration": 26,
    "start_time": "2023-02-05T01:30:05.881Z"
   },
   {
    "duration": 1892,
    "start_time": "2023-02-05T01:30:05.909Z"
   },
   {
    "duration": 212,
    "start_time": "2023-02-05T01:30:07.803Z"
   },
   {
    "duration": 391,
    "start_time": "2023-02-05T01:30:08.017Z"
   },
   {
    "duration": 211,
    "start_time": "2023-02-05T01:30:08.410Z"
   },
   {
    "duration": 226,
    "start_time": "2023-02-05T01:30:08.622Z"
   },
   {
    "duration": 214,
    "start_time": "2023-02-05T01:30:08.850Z"
   },
   {
    "duration": 24,
    "start_time": "2023-02-05T01:30:09.066Z"
   },
   {
    "duration": 46,
    "start_time": "2023-02-05T01:30:09.092Z"
   },
   {
    "duration": 17,
    "start_time": "2023-02-05T01:30:09.140Z"
   },
   {
    "duration": 206,
    "start_time": "2023-02-05T01:30:09.160Z"
   },
   {
    "duration": 16,
    "start_time": "2023-02-05T01:32:38.983Z"
   },
   {
    "duration": 44,
    "start_time": "2023-02-05T01:33:07.096Z"
   },
   {
    "duration": 1492,
    "start_time": "2023-02-05T09:28:41.387Z"
   },
   {
    "duration": 15,
    "start_time": "2023-02-05T09:28:42.881Z"
   },
   {
    "duration": 13,
    "start_time": "2023-02-05T09:28:42.898Z"
   },
   {
    "duration": 2022,
    "start_time": "2023-02-05T09:28:42.913Z"
   },
   {
    "duration": 9,
    "start_time": "2023-02-05T09:28:44.937Z"
   },
   {
    "duration": 7,
    "start_time": "2023-02-05T09:28:44.948Z"
   },
   {
    "duration": 12,
    "start_time": "2023-02-05T09:28:44.956Z"
   },
   {
    "duration": 6,
    "start_time": "2023-02-05T09:28:44.970Z"
   },
   {
    "duration": 6,
    "start_time": "2023-02-05T09:28:44.977Z"
   },
   {
    "duration": 8,
    "start_time": "2023-02-05T09:28:44.986Z"
   },
   {
    "duration": 33,
    "start_time": "2023-02-05T09:28:44.995Z"
   },
   {
    "duration": 25,
    "start_time": "2023-02-05T09:28:45.030Z"
   },
   {
    "duration": 7,
    "start_time": "2023-02-05T09:28:45.057Z"
   },
   {
    "duration": 5,
    "start_time": "2023-02-05T09:28:45.066Z"
   },
   {
    "duration": 13,
    "start_time": "2023-02-05T09:28:45.072Z"
   },
   {
    "duration": 10,
    "start_time": "2023-02-05T09:28:45.086Z"
   },
   {
    "duration": 27,
    "start_time": "2023-02-05T09:28:45.097Z"
   },
   {
    "duration": 8,
    "start_time": "2023-02-05T09:28:45.125Z"
   },
   {
    "duration": 5,
    "start_time": "2023-02-05T09:28:45.134Z"
   },
   {
    "duration": 8,
    "start_time": "2023-02-05T09:28:45.141Z"
   },
   {
    "duration": 3,
    "start_time": "2023-02-05T09:28:45.151Z"
   },
   {
    "duration": 10,
    "start_time": "2023-02-05T09:28:45.155Z"
   },
   {
    "duration": 13,
    "start_time": "2023-02-05T09:28:45.166Z"
   },
   {
    "duration": 12,
    "start_time": "2023-02-05T09:28:45.180Z"
   },
   {
    "duration": 23,
    "start_time": "2023-02-05T09:28:45.227Z"
   },
   {
    "duration": 14,
    "start_time": "2023-02-05T09:28:45.253Z"
   },
   {
    "duration": 20,
    "start_time": "2023-02-05T09:28:45.269Z"
   },
   {
    "duration": 13,
    "start_time": "2023-02-05T09:28:45.293Z"
   },
   {
    "duration": 36,
    "start_time": "2023-02-05T09:28:45.308Z"
   },
   {
    "duration": 12,
    "start_time": "2023-02-05T09:28:45.346Z"
   },
   {
    "duration": 17,
    "start_time": "2023-02-05T09:28:45.359Z"
   },
   {
    "duration": 13,
    "start_time": "2023-02-05T09:28:45.377Z"
   },
   {
    "duration": 7,
    "start_time": "2023-02-05T09:28:45.392Z"
   },
   {
    "duration": 52,
    "start_time": "2023-02-05T09:28:45.400Z"
   },
   {
    "duration": 117,
    "start_time": "2023-02-05T09:28:45.454Z"
   },
   {
    "duration": 6,
    "start_time": "2023-02-05T09:28:45.573Z"
   },
   {
    "duration": 15,
    "start_time": "2023-02-05T09:28:45.580Z"
   },
   {
    "duration": 24,
    "start_time": "2023-02-05T09:28:45.596Z"
   },
   {
    "duration": 12,
    "start_time": "2023-02-05T09:28:45.627Z"
   },
   {
    "duration": 7,
    "start_time": "2023-02-05T09:28:45.640Z"
   },
   {
    "duration": 8,
    "start_time": "2023-02-05T09:28:45.648Z"
   },
   {
    "duration": 22,
    "start_time": "2023-02-05T09:28:45.658Z"
   },
   {
    "duration": 626,
    "start_time": "2023-02-05T09:28:45.682Z"
   },
   {
    "duration": 389,
    "start_time": "2023-02-05T09:28:46.310Z"
   },
   {
    "duration": 352,
    "start_time": "2023-02-05T09:28:46.701Z"
   },
   {
    "duration": 205,
    "start_time": "2023-02-05T09:28:47.055Z"
   },
   {
    "duration": 12,
    "start_time": "2023-02-05T09:28:47.262Z"
   },
   {
    "duration": 868,
    "start_time": "2023-02-05T09:28:47.276Z"
   },
   {
    "duration": 141,
    "start_time": "2023-02-05T09:28:48.146Z"
   },
   {
    "duration": 119,
    "start_time": "2023-02-05T09:28:48.288Z"
   },
   {
    "duration": 250,
    "start_time": "2023-02-05T09:28:48.409Z"
   },
   {
    "duration": 124,
    "start_time": "2023-02-05T09:28:48.661Z"
   },
   {
    "duration": 118,
    "start_time": "2023-02-05T09:28:48.787Z"
   },
   {
    "duration": 163,
    "start_time": "2023-02-05T09:28:48.906Z"
   },
   {
    "duration": 11,
    "start_time": "2023-02-05T09:28:49.071Z"
   },
   {
    "duration": 128,
    "start_time": "2023-02-05T09:28:49.083Z"
   },
   {
    "duration": 154,
    "start_time": "2023-02-05T09:28:49.212Z"
   },
   {
    "duration": 12,
    "start_time": "2023-02-05T09:28:49.368Z"
   },
   {
    "duration": 137,
    "start_time": "2023-02-05T09:28:49.382Z"
   },
   {
    "duration": 15,
    "start_time": "2023-02-05T09:28:49.521Z"
   },
   {
    "duration": 123,
    "start_time": "2023-02-05T09:28:49.538Z"
   },
   {
    "duration": 22,
    "start_time": "2023-02-05T09:28:49.663Z"
   },
   {
    "duration": 153,
    "start_time": "2023-02-05T09:28:49.686Z"
   },
   {
    "duration": 133,
    "start_time": "2023-02-05T09:28:49.840Z"
   },
   {
    "duration": 154,
    "start_time": "2023-02-05T09:28:49.974Z"
   },
   {
    "duration": 103,
    "start_time": "2023-02-05T09:28:50.130Z"
   },
   {
    "duration": 18,
    "start_time": "2023-02-05T09:28:50.235Z"
   },
   {
    "duration": 1705,
    "start_time": "2023-02-05T09:28:50.255Z"
   },
   {
    "duration": 166,
    "start_time": "2023-02-05T09:28:51.962Z"
   },
   {
    "duration": 285,
    "start_time": "2023-02-05T09:28:52.130Z"
   },
   {
    "duration": 211,
    "start_time": "2023-02-05T09:28:52.416Z"
   },
   {
    "duration": 198,
    "start_time": "2023-02-05T09:28:52.629Z"
   },
   {
    "duration": 165,
    "start_time": "2023-02-05T09:28:52.828Z"
   },
   {
    "duration": 32,
    "start_time": "2023-02-05T09:28:52.995Z"
   },
   {
    "duration": 12,
    "start_time": "2023-02-05T09:28:53.029Z"
   },
   {
    "duration": 7,
    "start_time": "2023-02-05T09:28:53.043Z"
   },
   {
    "duration": 137,
    "start_time": "2023-02-05T09:28:53.052Z"
   },
   {
    "duration": 46,
    "start_time": "2023-02-05T09:30:14.166Z"
   },
   {
    "duration": 5,
    "start_time": "2023-02-05T09:31:08.540Z"
   },
   {
    "duration": 6,
    "start_time": "2023-02-05T09:31:20.723Z"
   },
   {
    "duration": 54,
    "start_time": "2023-02-05T09:31:26.414Z"
   },
   {
    "duration": 7,
    "start_time": "2023-02-05T09:31:32.591Z"
   },
   {
    "duration": 6,
    "start_time": "2023-02-05T09:31:45.047Z"
   },
   {
    "duration": 6,
    "start_time": "2023-02-05T09:34:45.941Z"
   },
   {
    "duration": 5,
    "start_time": "2023-02-05T09:35:10.642Z"
   },
   {
    "duration": 7,
    "start_time": "2023-02-05T09:35:42.947Z"
   },
   {
    "duration": 9,
    "start_time": "2023-02-05T09:36:16.749Z"
   },
   {
    "duration": 6,
    "start_time": "2023-02-05T09:36:41.022Z"
   },
   {
    "duration": 1184,
    "start_time": "2023-02-05T09:38:15.354Z"
   },
   {
    "duration": 16,
    "start_time": "2023-02-05T09:38:16.540Z"
   },
   {
    "duration": 14,
    "start_time": "2023-02-05T09:38:16.558Z"
   },
   {
    "duration": 1997,
    "start_time": "2023-02-05T09:38:16.574Z"
   },
   {
    "duration": 9,
    "start_time": "2023-02-05T09:38:18.573Z"
   },
   {
    "duration": 6,
    "start_time": "2023-02-05T09:38:18.583Z"
   },
   {
    "duration": 8,
    "start_time": "2023-02-05T09:38:18.590Z"
   },
   {
    "duration": 5,
    "start_time": "2023-02-05T09:38:18.600Z"
   },
   {
    "duration": 6,
    "start_time": "2023-02-05T09:38:18.607Z"
   },
   {
    "duration": 8,
    "start_time": "2023-02-05T09:38:18.616Z"
   },
   {
    "duration": 6,
    "start_time": "2023-02-05T09:38:18.627Z"
   },
   {
    "duration": 8,
    "start_time": "2023-02-05T09:38:18.635Z"
   },
   {
    "duration": 9,
    "start_time": "2023-02-05T09:38:18.644Z"
   },
   {
    "duration": 5,
    "start_time": "2023-02-05T09:38:18.655Z"
   },
   {
    "duration": 6,
    "start_time": "2023-02-05T09:38:18.661Z"
   },
   {
    "duration": 9,
    "start_time": "2023-02-05T09:38:18.669Z"
   },
   {
    "duration": 48,
    "start_time": "2023-02-05T09:38:18.679Z"
   },
   {
    "duration": 8,
    "start_time": "2023-02-05T09:38:18.729Z"
   },
   {
    "duration": 5,
    "start_time": "2023-02-05T09:38:18.739Z"
   },
   {
    "duration": 8,
    "start_time": "2023-02-05T09:38:18.745Z"
   },
   {
    "duration": 3,
    "start_time": "2023-02-05T09:38:18.754Z"
   },
   {
    "duration": 9,
    "start_time": "2023-02-05T09:38:18.759Z"
   },
   {
    "duration": 12,
    "start_time": "2023-02-05T09:38:18.769Z"
   },
   {
    "duration": 11,
    "start_time": "2023-02-05T09:38:18.782Z"
   },
   {
    "duration": 51,
    "start_time": "2023-02-05T09:38:18.795Z"
   },
   {
    "duration": 13,
    "start_time": "2023-02-05T09:38:18.848Z"
   },
   {
    "duration": 5,
    "start_time": "2023-02-05T09:38:18.863Z"
   },
   {
    "duration": 13,
    "start_time": "2023-02-05T09:38:18.872Z"
   },
   {
    "duration": 50,
    "start_time": "2023-02-05T09:38:18.886Z"
   },
   {
    "duration": 12,
    "start_time": "2023-02-05T09:38:18.938Z"
   },
   {
    "duration": 17,
    "start_time": "2023-02-05T09:38:18.951Z"
   },
   {
    "duration": 13,
    "start_time": "2023-02-05T09:38:18.970Z"
   },
   {
    "duration": 7,
    "start_time": "2023-02-05T09:38:18.985Z"
   },
   {
    "duration": 58,
    "start_time": "2023-02-05T09:38:18.993Z"
   },
   {
    "duration": 123,
    "start_time": "2023-02-05T09:38:19.053Z"
   },
   {
    "duration": 6,
    "start_time": "2023-02-05T09:38:19.177Z"
   },
   {
    "duration": 5,
    "start_time": "2023-02-05T09:38:19.185Z"
   },
   {
    "duration": 36,
    "start_time": "2023-02-05T09:38:19.192Z"
   },
   {
    "duration": 15,
    "start_time": "2023-02-05T09:38:19.230Z"
   },
   {
    "duration": 8,
    "start_time": "2023-02-05T09:38:19.246Z"
   },
   {
    "duration": 12,
    "start_time": "2023-02-05T09:38:19.255Z"
   },
   {
    "duration": 25,
    "start_time": "2023-02-05T09:38:19.268Z"
   },
   {
    "duration": 651,
    "start_time": "2023-02-05T09:38:19.295Z"
   },
   {
    "duration": 436,
    "start_time": "2023-02-05T09:38:19.948Z"
   },
   {
    "duration": 400,
    "start_time": "2023-02-05T09:38:20.386Z"
   },
   {
    "duration": 220,
    "start_time": "2023-02-05T09:38:20.789Z"
   },
   {
    "duration": 17,
    "start_time": "2023-02-05T09:38:21.011Z"
   },
   {
    "duration": 898,
    "start_time": "2023-02-05T09:38:21.029Z"
   },
   {
    "duration": 162,
    "start_time": "2023-02-05T09:38:21.928Z"
   },
   {
    "duration": 130,
    "start_time": "2023-02-05T09:38:22.092Z"
   },
   {
    "duration": 251,
    "start_time": "2023-02-05T09:38:22.224Z"
   },
   {
    "duration": 130,
    "start_time": "2023-02-05T09:38:22.477Z"
   },
   {
    "duration": 130,
    "start_time": "2023-02-05T09:38:22.608Z"
   },
   {
    "duration": 169,
    "start_time": "2023-02-05T09:38:22.740Z"
   },
   {
    "duration": 22,
    "start_time": "2023-02-05T09:38:22.910Z"
   },
   {
    "duration": 131,
    "start_time": "2023-02-05T09:38:22.934Z"
   },
   {
    "duration": 155,
    "start_time": "2023-02-05T09:38:23.067Z"
   },
   {
    "duration": 14,
    "start_time": "2023-02-05T09:38:23.227Z"
   },
   {
    "duration": 134,
    "start_time": "2023-02-05T09:38:23.243Z"
   },
   {
    "duration": 15,
    "start_time": "2023-02-05T09:38:23.379Z"
   },
   {
    "duration": 141,
    "start_time": "2023-02-05T09:38:23.395Z"
   },
   {
    "duration": 26,
    "start_time": "2023-02-05T09:38:23.537Z"
   },
   {
    "duration": 158,
    "start_time": "2023-02-05T09:38:23.565Z"
   },
   {
    "duration": 141,
    "start_time": "2023-02-05T09:38:23.727Z"
   },
   {
    "duration": 162,
    "start_time": "2023-02-05T09:38:23.870Z"
   },
   {
    "duration": 98,
    "start_time": "2023-02-05T09:38:24.034Z"
   },
   {
    "duration": 22,
    "start_time": "2023-02-05T09:38:24.134Z"
   },
   {
    "duration": 1760,
    "start_time": "2023-02-05T09:38:24.157Z"
   },
   {
    "duration": 194,
    "start_time": "2023-02-05T09:38:25.919Z"
   },
   {
    "duration": 331,
    "start_time": "2023-02-05T09:38:26.115Z"
   },
   {
    "duration": 189,
    "start_time": "2023-02-05T09:38:26.448Z"
   },
   {
    "duration": 200,
    "start_time": "2023-02-05T09:38:26.639Z"
   },
   {
    "duration": 186,
    "start_time": "2023-02-05T09:38:26.841Z"
   },
   {
    "duration": 6,
    "start_time": "2023-02-05T09:38:27.029Z"
   },
   {
    "duration": 12,
    "start_time": "2023-02-05T09:38:27.036Z"
   },
   {
    "duration": 11,
    "start_time": "2023-02-05T09:38:27.049Z"
   },
   {
    "duration": 9,
    "start_time": "2023-02-05T09:38:27.062Z"
   },
   {
    "duration": 173,
    "start_time": "2023-02-05T09:38:27.073Z"
   },
   {
    "duration": 1317,
    "start_time": "2023-02-05T17:40:10.833Z"
   },
   {
    "duration": 17,
    "start_time": "2023-02-05T17:40:12.151Z"
   },
   {
    "duration": 37,
    "start_time": "2023-02-05T17:40:12.169Z"
   },
   {
    "duration": 2868,
    "start_time": "2023-02-05T17:40:12.208Z"
   },
   {
    "duration": 54,
    "start_time": "2023-02-05T17:40:15.080Z"
   },
   {
    "duration": 30,
    "start_time": "2023-02-05T17:40:15.136Z"
   },
   {
    "duration": 56,
    "start_time": "2023-02-05T17:40:15.168Z"
   },
   {
    "duration": 12,
    "start_time": "2023-02-05T17:40:15.226Z"
   },
   {
    "duration": 12,
    "start_time": "2023-02-05T17:40:15.240Z"
   },
   {
    "duration": 66,
    "start_time": "2023-02-05T17:40:15.256Z"
   },
   {
    "duration": 10,
    "start_time": "2023-02-05T17:40:15.325Z"
   },
   {
    "duration": 31,
    "start_time": "2023-02-05T17:40:15.337Z"
   },
   {
    "duration": 52,
    "start_time": "2023-02-05T17:40:15.370Z"
   },
   {
    "duration": 5,
    "start_time": "2023-02-05T17:40:15.424Z"
   },
   {
    "duration": 15,
    "start_time": "2023-02-05T17:40:15.431Z"
   },
   {
    "duration": 10,
    "start_time": "2023-02-05T17:40:15.448Z"
   },
   {
    "duration": 66,
    "start_time": "2023-02-05T17:40:15.460Z"
   },
   {
    "duration": 20,
    "start_time": "2023-02-05T17:40:15.528Z"
   },
   {
    "duration": 11,
    "start_time": "2023-02-05T17:40:15.549Z"
   },
   {
    "duration": 74,
    "start_time": "2023-02-05T17:40:15.562Z"
   },
   {
    "duration": 3,
    "start_time": "2023-02-05T17:40:15.639Z"
   },
   {
    "duration": 26,
    "start_time": "2023-02-05T17:40:15.644Z"
   },
   {
    "duration": 66,
    "start_time": "2023-02-05T17:40:15.672Z"
   },
   {
    "duration": 13,
    "start_time": "2023-02-05T17:40:15.740Z"
   },
   {
    "duration": 21,
    "start_time": "2023-02-05T17:40:15.755Z"
   },
   {
    "duration": 63,
    "start_time": "2023-02-05T17:40:15.778Z"
   },
   {
    "duration": 5,
    "start_time": "2023-02-05T17:40:15.843Z"
   },
   {
    "duration": 30,
    "start_time": "2023-02-05T17:40:15.852Z"
   },
   {
    "duration": 23,
    "start_time": "2023-02-05T17:40:15.884Z"
   },
   {
    "duration": 29,
    "start_time": "2023-02-05T17:40:15.908Z"
   },
   {
    "duration": 29,
    "start_time": "2023-02-05T17:40:15.939Z"
   },
   {
    "duration": 13,
    "start_time": "2023-02-05T17:40:15.970Z"
   },
   {
    "duration": 16,
    "start_time": "2023-02-05T17:40:15.984Z"
   },
   {
    "duration": 50,
    "start_time": "2023-02-05T17:40:16.001Z"
   },
   {
    "duration": 124,
    "start_time": "2023-02-05T17:40:16.053Z"
   },
   {
    "duration": 6,
    "start_time": "2023-02-05T17:40:16.179Z"
   },
   {
    "duration": 8,
    "start_time": "2023-02-05T17:40:16.187Z"
   },
   {
    "duration": 40,
    "start_time": "2023-02-05T17:40:16.197Z"
   },
   {
    "duration": 13,
    "start_time": "2023-02-05T17:40:16.239Z"
   },
   {
    "duration": 7,
    "start_time": "2023-02-05T17:40:16.253Z"
   },
   {
    "duration": 15,
    "start_time": "2023-02-05T17:40:16.261Z"
   },
   {
    "duration": 29,
    "start_time": "2023-02-05T17:40:16.278Z"
   },
   {
    "duration": 658,
    "start_time": "2023-02-05T17:40:16.309Z"
   },
   {
    "duration": 394,
    "start_time": "2023-02-05T17:40:16.969Z"
   },
   {
    "duration": 399,
    "start_time": "2023-02-05T17:40:17.365Z"
   },
   {
    "duration": 221,
    "start_time": "2023-02-05T17:40:17.766Z"
   },
   {
    "duration": 13,
    "start_time": "2023-02-05T17:40:17.989Z"
   },
   {
    "duration": 941,
    "start_time": "2023-02-05T17:40:18.004Z"
   },
   {
    "duration": 157,
    "start_time": "2023-02-05T17:40:18.947Z"
   },
   {
    "duration": 121,
    "start_time": "2023-02-05T17:40:19.106Z"
   },
   {
    "duration": 272,
    "start_time": "2023-02-05T17:40:19.233Z"
   },
   {
    "duration": 137,
    "start_time": "2023-02-05T17:40:19.507Z"
   },
   {
    "duration": 121,
    "start_time": "2023-02-05T17:40:19.645Z"
   },
   {
    "duration": 173,
    "start_time": "2023-02-05T17:40:19.768Z"
   },
   {
    "duration": 12,
    "start_time": "2023-02-05T17:40:19.942Z"
   },
   {
    "duration": 134,
    "start_time": "2023-02-05T17:40:19.956Z"
   },
   {
    "duration": 175,
    "start_time": "2023-02-05T17:40:20.092Z"
   },
   {
    "duration": 15,
    "start_time": "2023-02-05T17:40:20.268Z"
   },
   {
    "duration": 162,
    "start_time": "2023-02-05T17:40:20.284Z"
   },
   {
    "duration": 16,
    "start_time": "2023-02-05T17:40:20.449Z"
   },
   {
    "duration": 128,
    "start_time": "2023-02-05T17:40:20.466Z"
   },
   {
    "duration": 37,
    "start_time": "2023-02-05T17:40:20.596Z"
   },
   {
    "duration": 154,
    "start_time": "2023-02-05T17:40:20.635Z"
   },
   {
    "duration": 154,
    "start_time": "2023-02-05T17:40:20.791Z"
   },
   {
    "duration": 163,
    "start_time": "2023-02-05T17:40:20.947Z"
   },
   {
    "duration": 120,
    "start_time": "2023-02-05T17:40:21.112Z"
   },
   {
    "duration": 15,
    "start_time": "2023-02-05T17:40:21.233Z"
   },
   {
    "duration": 1841,
    "start_time": "2023-02-05T17:40:21.249Z"
   },
   {
    "duration": 202,
    "start_time": "2023-02-05T17:40:23.092Z"
   },
   {
    "duration": 351,
    "start_time": "2023-02-05T17:40:23.296Z"
   },
   {
    "duration": 201,
    "start_time": "2023-02-05T17:40:23.649Z"
   },
   {
    "duration": 209,
    "start_time": "2023-02-05T17:40:23.852Z"
   },
   {
    "duration": 191,
    "start_time": "2023-02-05T17:40:24.063Z"
   },
   {
    "duration": 6,
    "start_time": "2023-02-05T17:40:24.256Z"
   },
   {
    "duration": 7,
    "start_time": "2023-02-05T17:40:24.264Z"
   },
   {
    "duration": 9,
    "start_time": "2023-02-05T17:40:24.273Z"
   },
   {
    "duration": 8,
    "start_time": "2023-02-05T17:40:24.284Z"
   },
   {
    "duration": 196,
    "start_time": "2023-02-05T17:40:24.294Z"
   },
   {
    "duration": 17,
    "start_time": "2023-02-05T17:40:34.772Z"
   }
  ],
  "kernelspec": {
   "display_name": "Python 3 (ipykernel)",
   "language": "python",
   "name": "python3"
  },
  "language_info": {
   "codemirror_mode": {
    "name": "ipython",
    "version": 3
   },
   "file_extension": ".py",
   "mimetype": "text/x-python",
   "name": "python",
   "nbconvert_exporter": "python",
   "pygments_lexer": "ipython3",
   "version": "3.9.13"
  },
  "toc": {
   "base_numbering": 1,
   "nav_menu": {},
   "number_sections": true,
   "sideBar": true,
   "skip_h1_title": true,
   "title_cell": "Table of Contents",
   "title_sidebar": "Contents",
   "toc_cell": false,
   "toc_position": {},
   "toc_section_display": true,
   "toc_window_display": true
  }
 },
 "nbformat": 4,
 "nbformat_minor": 2
}
