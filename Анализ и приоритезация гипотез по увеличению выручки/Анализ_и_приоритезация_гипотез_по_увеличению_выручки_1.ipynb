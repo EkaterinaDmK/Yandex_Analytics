{
 "cells": [
  {
   "cell_type": "markdown",
   "id": "cb7158a7",
   "metadata": {},
   "source": [
    "<font color='#2F4F4F'>  \n",
    "    \n",
    "# Анализ и приоритезация гипотез по увеличению выручки"
   ]
  },
  {
   "cell_type": "markdown",
   "id": "7fefb4b6",
   "metadata": {},
   "source": [
    "    \n",
    "<font color='#2F4F4F'> \n",
    "    \n",
    "    \n",
    "## Описание исследования \n",
    "    \n",
    "    \n",
    "### Мне доступны 9 гипотез по увеличению выручки интернет-магазина. Анализ этих гипотез пройдет в два этапа, что позволит максимально точно и эффективно добиться желаемого результата. \n",
    "\n",
    "    \n",
    "### Цель исследования:\n",
    "    \n",
    "    \n",
    "   \n",
    "    \n",
    "- Выявить наиболее верные гипотезы, которые приведут к увеличению выручки интернет-магазина.\n",
    "    \n",
    "- Проанализировать A/B тест\n",
    "    \n",
    "    \n",
    "### Ход исследования\n",
    "    \n",
    "Данные я получу из файлов '/datasets/hypothesis.csv', '/datasets/orders.csv', '/datasets/visitors.csv', так как мне неизвестно ничего о качестве данных, перед тем, как  приступать к целям исследования, понадобится обзор данных.\n",
    "    \n",
    "Я проверю данные на ошибки и оценю их влияние на исследование. Затем, на этапе предобработки, я поищу возможность исправить все ошибки в данных, которые не приведут к искажению конечного результата. \n",
    "    \n",
    "### Таким образом, мое исследование пройдет в 5 этапов:\n",
    "\n",
    "* Обзор данных\n",
    "    \n",
    "* Предобработка данных \n",
    "    \n",
    "* Приоритезация гипотез\n",
    "    \n",
    "* Анализ A/B теста \n",
    "    \n",
    "* Вывод и рекомендации <font>"
   ]
  },
  {
   "cell_type": "markdown",
   "id": "649bca2d",
   "metadata": {},
   "source": [
    "<font color='#2F4F4F'>  \n",
    "    \n",
    "    \n",
    "## Приступим. Прочитаем данные, посмотрим информацию о них."
   ]
  },
  {
   "cell_type": "code",
   "execution_count": 1,
   "id": "319002f8",
   "metadata": {},
   "outputs": [],
   "source": [
    "import pandas as pd\n",
    "import numpy as np\n",
    "import matplotlib.pyplot as plt\n",
    "import seaborn as sns\n",
    "import math\n",
    "import datetime as dt\n",
    "import scipy.stats as st\n",
    "import warnings\n",
    "\n"
   ]
  },
  {
   "cell_type": "code",
   "execution_count": 2,
   "id": "4e02d505",
   "metadata": {},
   "outputs": [],
   "source": [
    "try:\n",
    "    hyp=pd.read_csv('/datasets/hypothesis.csv', sep=',')\n",
    "except:\n",
    "    hyp=pd.read_csv(r'C:\\Users\\kater\\Downloads\\hypothesis.csv', sep=',')\n",
    "try:\n",
    "    orders=pd.read_csv('/datasets/orders.csv', sep=',')\n",
    "except:\n",
    "    orders=pd.read_csv(r'C:\\Users\\kater\\Downloads\\orders.csv', sep=',')\n",
    "try:\n",
    "    visitors=pd.read_csv('/datasets/visitors.csv', sep=',')\n",
    "except:\n",
    "    visitors=pd.read_csv(r'C:\\Users\\kater\\Downloads\\visitors.csv', sep=',')"
   ]
  },
  {
   "cell_type": "code",
   "execution_count": 3,
   "id": "67b27116",
   "metadata": {},
   "outputs": [],
   "source": [
    "# снимаем ограничение на количество столбцов\n",
    "pd.set_option('display.max_columns', None)\n",
    "\n",
    "# снимаем ограничение на ширину столбцов\n",
    "pd.set_option('display.max_colwidth', None)\n",
    "\n",
    "# игнорируем предупреждения\n",
    "warnings.filterwarnings(action='ignore')\n",
    "\n",
    "# выставляем ограничение на показ знаков после запятой\n",
    "pd.options.display.float_format = '{:,.3f}'.format\n",
    "\n",
    "# задаем размер графика\n",
    "sns.set(rc={'figure.figsize':(9,5)})"
   ]
  },
  {
   "cell_type": "code",
   "execution_count": 4,
   "id": "950dd3ba",
   "metadata": {},
   "outputs": [
    {
     "data": {
      "text/html": [
       "<div>\n",
       "<style scoped>\n",
       "    .dataframe tbody tr th:only-of-type {\n",
       "        vertical-align: middle;\n",
       "    }\n",
       "\n",
       "    .dataframe tbody tr th {\n",
       "        vertical-align: top;\n",
       "    }\n",
       "\n",
       "    .dataframe thead th {\n",
       "        text-align: right;\n",
       "    }\n",
       "</style>\n",
       "<table border=\"1\" class=\"dataframe\">\n",
       "  <thead>\n",
       "    <tr style=\"text-align: right;\">\n",
       "      <th></th>\n",
       "      <th>Hypothesis</th>\n",
       "      <th>Reach</th>\n",
       "      <th>Impact</th>\n",
       "      <th>Confidence</th>\n",
       "      <th>Efforts</th>\n",
       "    </tr>\n",
       "  </thead>\n",
       "  <tbody>\n",
       "    <tr>\n",
       "      <th>0</th>\n",
       "      <td>Добавить два новых канала привлечения трафика, что позволит привлекать на 30% больше пользователей</td>\n",
       "      <td>3</td>\n",
       "      <td>10</td>\n",
       "      <td>8</td>\n",
       "      <td>6</td>\n",
       "    </tr>\n",
       "    <tr>\n",
       "      <th>1</th>\n",
       "      <td>Запустить собственную службу доставки, что сократит срок доставки заказов</td>\n",
       "      <td>2</td>\n",
       "      <td>5</td>\n",
       "      <td>4</td>\n",
       "      <td>10</td>\n",
       "    </tr>\n",
       "    <tr>\n",
       "      <th>2</th>\n",
       "      <td>Добавить блоки рекомендаций товаров на сайт интернет магазина, чтобы повысить конверсию и средний чек заказа</td>\n",
       "      <td>8</td>\n",
       "      <td>3</td>\n",
       "      <td>7</td>\n",
       "      <td>3</td>\n",
       "    </tr>\n",
       "    <tr>\n",
       "      <th>3</th>\n",
       "      <td>Изменить структура категорий, что увеличит конверсию, т.к. пользователи быстрее найдут нужный товар</td>\n",
       "      <td>8</td>\n",
       "      <td>3</td>\n",
       "      <td>3</td>\n",
       "      <td>8</td>\n",
       "    </tr>\n",
       "    <tr>\n",
       "      <th>4</th>\n",
       "      <td>Изменить цвет фона главной страницы, чтобы увеличить вовлеченность пользователей</td>\n",
       "      <td>3</td>\n",
       "      <td>1</td>\n",
       "      <td>1</td>\n",
       "      <td>1</td>\n",
       "    </tr>\n",
       "    <tr>\n",
       "      <th>5</th>\n",
       "      <td>Добавить страницу отзывов клиентов о магазине, что позволит увеличить количество заказов</td>\n",
       "      <td>3</td>\n",
       "      <td>2</td>\n",
       "      <td>2</td>\n",
       "      <td>3</td>\n",
       "    </tr>\n",
       "    <tr>\n",
       "      <th>6</th>\n",
       "      <td>Показать на главной странице баннеры с актуальными акциями и распродажами, чтобы увеличить конверсию</td>\n",
       "      <td>5</td>\n",
       "      <td>3</td>\n",
       "      <td>8</td>\n",
       "      <td>3</td>\n",
       "    </tr>\n",
       "    <tr>\n",
       "      <th>7</th>\n",
       "      <td>Добавить форму подписки на все основные страницы, чтобы собрать базу клиентов для email-рассылок</td>\n",
       "      <td>10</td>\n",
       "      <td>7</td>\n",
       "      <td>8</td>\n",
       "      <td>5</td>\n",
       "    </tr>\n",
       "    <tr>\n",
       "      <th>8</th>\n",
       "      <td>Запустить акцию, дающую скидку на товар в день рождения</td>\n",
       "      <td>1</td>\n",
       "      <td>9</td>\n",
       "      <td>9</td>\n",
       "      <td>5</td>\n",
       "    </tr>\n",
       "  </tbody>\n",
       "</table>\n",
       "</div>"
      ],
      "text/plain": [
       "                                                                                                     Hypothesis  \\\n",
       "0            Добавить два новых канала привлечения трафика, что позволит привлекать на 30% больше пользователей   \n",
       "1                                     Запустить собственную службу доставки, что сократит срок доставки заказов   \n",
       "2  Добавить блоки рекомендаций товаров на сайт интернет магазина, чтобы повысить конверсию и средний чек заказа   \n",
       "3           Изменить структура категорий, что увеличит конверсию, т.к. пользователи быстрее найдут нужный товар   \n",
       "4                              Изменить цвет фона главной страницы, чтобы увеличить вовлеченность пользователей   \n",
       "5                      Добавить страницу отзывов клиентов о магазине, что позволит увеличить количество заказов   \n",
       "6          Показать на главной странице баннеры с актуальными акциями и распродажами, чтобы увеличить конверсию   \n",
       "7              Добавить форму подписки на все основные страницы, чтобы собрать базу клиентов для email-рассылок   \n",
       "8                                                       Запустить акцию, дающую скидку на товар в день рождения   \n",
       "\n",
       "   Reach  Impact  Confidence  Efforts  \n",
       "0      3      10           8        6  \n",
       "1      2       5           4       10  \n",
       "2      8       3           7        3  \n",
       "3      8       3           3        8  \n",
       "4      3       1           1        1  \n",
       "5      3       2           2        3  \n",
       "6      5       3           8        3  \n",
       "7     10       7           8        5  \n",
       "8      1       9           9        5  "
      ]
     },
     "execution_count": 4,
     "metadata": {},
     "output_type": "execute_result"
    }
   ],
   "source": [
    "hyp.head(9)"
   ]
  },
  {
   "cell_type": "code",
   "execution_count": 5,
   "id": "3fc776b6",
   "metadata": {},
   "outputs": [
    {
     "name": "stdout",
     "output_type": "stream",
     "text": [
      "<class 'pandas.core.frame.DataFrame'>\n",
      "RangeIndex: 9 entries, 0 to 8\n",
      "Data columns (total 5 columns):\n",
      " #   Column      Non-Null Count  Dtype \n",
      "---  ------      --------------  ----- \n",
      " 0   Hypothesis  9 non-null      object\n",
      " 1   Reach       9 non-null      int64 \n",
      " 2   Impact      9 non-null      int64 \n",
      " 3   Confidence  9 non-null      int64 \n",
      " 4   Efforts     9 non-null      int64 \n",
      "dtypes: int64(4), object(1)\n",
      "memory usage: 488.0+ bytes\n"
     ]
    }
   ],
   "source": [
    "hyp.info()"
   ]
  },
  {
   "cell_type": "markdown",
   "id": "d0c835d9",
   "metadata": {},
   "source": [
    "<font color='#2F4F4F'> \n",
    "\n",
    "Итак, в датафрейме hyp нам представлены следующие параметры:\n",
    "  \n",
    "    \n",
    "<font color='#2F4F4F'>\n",
    "    \n",
    "    \n",
    "- Hypothesis — краткое описание гипотезы;\n",
    "    \n",
    "    \n",
    "- Reach — охват пользователей по 10-балльной шкале;\n",
    "    \n",
    "    \n",
    "- Impact — влияние на пользователей по 10-балльной шкале;\n",
    "    \n",
    "    \n",
    "- Confidence — уверенность в гипотезе по 10-балльной шкале;\n",
    "    \n",
    "    \n",
    "- Efforts — затраты ресурсов на проверку гипотезы по 10-балльной шкале. <font>"
   ]
  },
  {
   "cell_type": "code",
   "execution_count": 6,
   "id": "6093015a",
   "metadata": {},
   "outputs": [
    {
     "data": {
      "text/html": [
       "<div>\n",
       "<style scoped>\n",
       "    .dataframe tbody tr th:only-of-type {\n",
       "        vertical-align: middle;\n",
       "    }\n",
       "\n",
       "    .dataframe tbody tr th {\n",
       "        vertical-align: top;\n",
       "    }\n",
       "\n",
       "    .dataframe thead th {\n",
       "        text-align: right;\n",
       "    }\n",
       "</style>\n",
       "<table border=\"1\" class=\"dataframe\">\n",
       "  <thead>\n",
       "    <tr style=\"text-align: right;\">\n",
       "      <th></th>\n",
       "      <th>transactionId</th>\n",
       "      <th>visitorId</th>\n",
       "      <th>date</th>\n",
       "      <th>revenue</th>\n",
       "      <th>group</th>\n",
       "    </tr>\n",
       "  </thead>\n",
       "  <tbody>\n",
       "    <tr>\n",
       "      <th>0</th>\n",
       "      <td>3667963787</td>\n",
       "      <td>3312258926</td>\n",
       "      <td>2019-08-15</td>\n",
       "      <td>1650</td>\n",
       "      <td>B</td>\n",
       "    </tr>\n",
       "    <tr>\n",
       "      <th>1</th>\n",
       "      <td>2804400009</td>\n",
       "      <td>3642806036</td>\n",
       "      <td>2019-08-15</td>\n",
       "      <td>730</td>\n",
       "      <td>B</td>\n",
       "    </tr>\n",
       "    <tr>\n",
       "      <th>2</th>\n",
       "      <td>2961555356</td>\n",
       "      <td>4069496402</td>\n",
       "      <td>2019-08-15</td>\n",
       "      <td>400</td>\n",
       "      <td>A</td>\n",
       "    </tr>\n",
       "    <tr>\n",
       "      <th>3</th>\n",
       "      <td>3797467345</td>\n",
       "      <td>1196621759</td>\n",
       "      <td>2019-08-15</td>\n",
       "      <td>9759</td>\n",
       "      <td>B</td>\n",
       "    </tr>\n",
       "    <tr>\n",
       "      <th>4</th>\n",
       "      <td>2282983706</td>\n",
       "      <td>2322279887</td>\n",
       "      <td>2019-08-15</td>\n",
       "      <td>2308</td>\n",
       "      <td>B</td>\n",
       "    </tr>\n",
       "    <tr>\n",
       "      <th>5</th>\n",
       "      <td>182168103</td>\n",
       "      <td>935554773</td>\n",
       "      <td>2019-08-15</td>\n",
       "      <td>2210</td>\n",
       "      <td>B</td>\n",
       "    </tr>\n",
       "    <tr>\n",
       "      <th>6</th>\n",
       "      <td>398296753</td>\n",
       "      <td>2900797465</td>\n",
       "      <td>2019-08-15</td>\n",
       "      <td>1860</td>\n",
       "      <td>B</td>\n",
       "    </tr>\n",
       "    <tr>\n",
       "      <th>7</th>\n",
       "      <td>2626614568</td>\n",
       "      <td>78758296</td>\n",
       "      <td>2019-08-15</td>\n",
       "      <td>1044</td>\n",
       "      <td>A</td>\n",
       "    </tr>\n",
       "    <tr>\n",
       "      <th>8</th>\n",
       "      <td>1576988021</td>\n",
       "      <td>295230930</td>\n",
       "      <td>2019-08-15</td>\n",
       "      <td>13710</td>\n",
       "      <td>A</td>\n",
       "    </tr>\n",
       "    <tr>\n",
       "      <th>9</th>\n",
       "      <td>1506739906</td>\n",
       "      <td>1882260405</td>\n",
       "      <td>2019-08-15</td>\n",
       "      <td>1855</td>\n",
       "      <td>B</td>\n",
       "    </tr>\n",
       "    <tr>\n",
       "      <th>10</th>\n",
       "      <td>3649131742</td>\n",
       "      <td>879864040</td>\n",
       "      <td>2019-08-15</td>\n",
       "      <td>4008</td>\n",
       "      <td>A</td>\n",
       "    </tr>\n",
       "    <tr>\n",
       "      <th>11</th>\n",
       "      <td>1919444843</td>\n",
       "      <td>927791387</td>\n",
       "      <td>2019-08-15</td>\n",
       "      <td>4499</td>\n",
       "      <td>B</td>\n",
       "    </tr>\n",
       "    <tr>\n",
       "      <th>12</th>\n",
       "      <td>2809384911</td>\n",
       "      <td>3213223594</td>\n",
       "      <td>2019-08-15</td>\n",
       "      <td>7370</td>\n",
       "      <td>A</td>\n",
       "    </tr>\n",
       "    <tr>\n",
       "      <th>13</th>\n",
       "      <td>3044797713</td>\n",
       "      <td>728063420</td>\n",
       "      <td>2019-08-15</td>\n",
       "      <td>11985</td>\n",
       "      <td>B</td>\n",
       "    </tr>\n",
       "    <tr>\n",
       "      <th>14</th>\n",
       "      <td>3859315276</td>\n",
       "      <td>1565034404</td>\n",
       "      <td>2019-08-15</td>\n",
       "      <td>10980</td>\n",
       "      <td>A</td>\n",
       "    </tr>\n",
       "  </tbody>\n",
       "</table>\n",
       "</div>"
      ],
      "text/plain": [
       "    transactionId   visitorId        date  revenue group\n",
       "0      3667963787  3312258926  2019-08-15     1650     B\n",
       "1      2804400009  3642806036  2019-08-15      730     B\n",
       "2      2961555356  4069496402  2019-08-15      400     A\n",
       "3      3797467345  1196621759  2019-08-15     9759     B\n",
       "4      2282983706  2322279887  2019-08-15     2308     B\n",
       "5       182168103   935554773  2019-08-15     2210     B\n",
       "6       398296753  2900797465  2019-08-15     1860     B\n",
       "7      2626614568    78758296  2019-08-15     1044     A\n",
       "8      1576988021   295230930  2019-08-15    13710     A\n",
       "9      1506739906  1882260405  2019-08-15     1855     B\n",
       "10     3649131742   879864040  2019-08-15     4008     A\n",
       "11     1919444843   927791387  2019-08-15     4499     B\n",
       "12     2809384911  3213223594  2019-08-15     7370     A\n",
       "13     3044797713   728063420  2019-08-15    11985     B\n",
       "14     3859315276  1565034404  2019-08-15    10980     A"
      ]
     },
     "execution_count": 6,
     "metadata": {},
     "output_type": "execute_result"
    }
   ],
   "source": [
    "orders.head(15)"
   ]
  },
  {
   "cell_type": "code",
   "execution_count": 7,
   "id": "7dc48b74",
   "metadata": {},
   "outputs": [
    {
     "name": "stdout",
     "output_type": "stream",
     "text": [
      "<class 'pandas.core.frame.DataFrame'>\n",
      "RangeIndex: 1197 entries, 0 to 1196\n",
      "Data columns (total 5 columns):\n",
      " #   Column         Non-Null Count  Dtype \n",
      "---  ------         --------------  ----- \n",
      " 0   transactionId  1197 non-null   int64 \n",
      " 1   visitorId      1197 non-null   int64 \n",
      " 2   date           1197 non-null   object\n",
      " 3   revenue        1197 non-null   int64 \n",
      " 4   group          1197 non-null   object\n",
      "dtypes: int64(3), object(2)\n",
      "memory usage: 46.9+ KB\n"
     ]
    }
   ],
   "source": [
    "orders.info()"
   ]
  },
  {
   "cell_type": "code",
   "execution_count": 8,
   "id": "14df5049",
   "metadata": {},
   "outputs": [
    {
     "name": "stdout",
     "output_type": "stream",
     "text": [
      "максимальная дата: 2019-08-31\n",
      "минимальная дата: 2019-08-01\n"
     ]
    }
   ],
   "source": [
    "print('максимальная дата:', max(orders['date']))\n",
    "print('минимальная дата:', min(orders['date']))"
   ]
  },
  {
   "cell_type": "markdown",
   "id": "2e7ddc91",
   "metadata": {},
   "source": [
    "<font color='#2F4F4F'>  \n",
    "    \n",
    "В датафрейме orders нам представлены следующая информация о заказах:\n",
    "    \n",
    "- transactionId — идентификатор заказа;\n",
    "    \n",
    "- visitorId — идентификатор пользователя, совершившего заказ;\n",
    "    \n",
    "- date — дата, когда был совершён заказ;\n",
    "    \n",
    "- revenue — выручка заказа;\n",
    "    \n",
    "- group — группа A/B-теста, в которую попал заказ."
   ]
  },
  {
   "cell_type": "code",
   "execution_count": 9,
   "id": "e037a873",
   "metadata": {},
   "outputs": [
    {
     "data": {
      "text/html": [
       "<div>\n",
       "<style scoped>\n",
       "    .dataframe tbody tr th:only-of-type {\n",
       "        vertical-align: middle;\n",
       "    }\n",
       "\n",
       "    .dataframe tbody tr th {\n",
       "        vertical-align: top;\n",
       "    }\n",
       "\n",
       "    .dataframe thead th {\n",
       "        text-align: right;\n",
       "    }\n",
       "</style>\n",
       "<table border=\"1\" class=\"dataframe\">\n",
       "  <thead>\n",
       "    <tr style=\"text-align: right;\">\n",
       "      <th></th>\n",
       "      <th>date</th>\n",
       "      <th>group</th>\n",
       "      <th>visitors</th>\n",
       "    </tr>\n",
       "  </thead>\n",
       "  <tbody>\n",
       "    <tr>\n",
       "      <th>0</th>\n",
       "      <td>2019-08-01</td>\n",
       "      <td>A</td>\n",
       "      <td>719</td>\n",
       "    </tr>\n",
       "    <tr>\n",
       "      <th>1</th>\n",
       "      <td>2019-08-02</td>\n",
       "      <td>A</td>\n",
       "      <td>619</td>\n",
       "    </tr>\n",
       "    <tr>\n",
       "      <th>2</th>\n",
       "      <td>2019-08-03</td>\n",
       "      <td>A</td>\n",
       "      <td>507</td>\n",
       "    </tr>\n",
       "    <tr>\n",
       "      <th>3</th>\n",
       "      <td>2019-08-04</td>\n",
       "      <td>A</td>\n",
       "      <td>717</td>\n",
       "    </tr>\n",
       "    <tr>\n",
       "      <th>4</th>\n",
       "      <td>2019-08-05</td>\n",
       "      <td>A</td>\n",
       "      <td>756</td>\n",
       "    </tr>\n",
       "    <tr>\n",
       "      <th>5</th>\n",
       "      <td>2019-08-06</td>\n",
       "      <td>A</td>\n",
       "      <td>667</td>\n",
       "    </tr>\n",
       "    <tr>\n",
       "      <th>6</th>\n",
       "      <td>2019-08-07</td>\n",
       "      <td>A</td>\n",
       "      <td>644</td>\n",
       "    </tr>\n",
       "    <tr>\n",
       "      <th>7</th>\n",
       "      <td>2019-08-08</td>\n",
       "      <td>A</td>\n",
       "      <td>610</td>\n",
       "    </tr>\n",
       "    <tr>\n",
       "      <th>8</th>\n",
       "      <td>2019-08-09</td>\n",
       "      <td>A</td>\n",
       "      <td>617</td>\n",
       "    </tr>\n",
       "    <tr>\n",
       "      <th>9</th>\n",
       "      <td>2019-08-10</td>\n",
       "      <td>A</td>\n",
       "      <td>406</td>\n",
       "    </tr>\n",
       "    <tr>\n",
       "      <th>10</th>\n",
       "      <td>2019-08-11</td>\n",
       "      <td>A</td>\n",
       "      <td>718</td>\n",
       "    </tr>\n",
       "    <tr>\n",
       "      <th>11</th>\n",
       "      <td>2019-08-12</td>\n",
       "      <td>A</td>\n",
       "      <td>595</td>\n",
       "    </tr>\n",
       "    <tr>\n",
       "      <th>12</th>\n",
       "      <td>2019-08-13</td>\n",
       "      <td>A</td>\n",
       "      <td>748</td>\n",
       "    </tr>\n",
       "    <tr>\n",
       "      <th>13</th>\n",
       "      <td>2019-08-14</td>\n",
       "      <td>A</td>\n",
       "      <td>735</td>\n",
       "    </tr>\n",
       "    <tr>\n",
       "      <th>14</th>\n",
       "      <td>2019-08-15</td>\n",
       "      <td>A</td>\n",
       "      <td>628</td>\n",
       "    </tr>\n",
       "  </tbody>\n",
       "</table>\n",
       "</div>"
      ],
      "text/plain": [
       "          date group  visitors\n",
       "0   2019-08-01     A       719\n",
       "1   2019-08-02     A       619\n",
       "2   2019-08-03     A       507\n",
       "3   2019-08-04     A       717\n",
       "4   2019-08-05     A       756\n",
       "5   2019-08-06     A       667\n",
       "6   2019-08-07     A       644\n",
       "7   2019-08-08     A       610\n",
       "8   2019-08-09     A       617\n",
       "9   2019-08-10     A       406\n",
       "10  2019-08-11     A       718\n",
       "11  2019-08-12     A       595\n",
       "12  2019-08-13     A       748\n",
       "13  2019-08-14     A       735\n",
       "14  2019-08-15     A       628"
      ]
     },
     "execution_count": 9,
     "metadata": {},
     "output_type": "execute_result"
    }
   ],
   "source": [
    "visitors.head(15)"
   ]
  },
  {
   "cell_type": "code",
   "execution_count": 10,
   "id": "a8287873",
   "metadata": {},
   "outputs": [
    {
     "name": "stdout",
     "output_type": "stream",
     "text": [
      "<class 'pandas.core.frame.DataFrame'>\n",
      "RangeIndex: 62 entries, 0 to 61\n",
      "Data columns (total 3 columns):\n",
      " #   Column    Non-Null Count  Dtype \n",
      "---  ------    --------------  ----- \n",
      " 0   date      62 non-null     object\n",
      " 1   group     62 non-null     object\n",
      " 2   visitors  62 non-null     int64 \n",
      "dtypes: int64(1), object(2)\n",
      "memory usage: 1.6+ KB\n"
     ]
    }
   ],
   "source": [
    "visitors.info()"
   ]
  },
  {
   "cell_type": "code",
   "execution_count": 11,
   "id": "bff8680f",
   "metadata": {},
   "outputs": [
    {
     "name": "stdout",
     "output_type": "stream",
     "text": [
      "максимальная дата: 2019-08-31\n",
      "минимальная дата: 2019-08-01\n"
     ]
    }
   ],
   "source": [
    "print('максимальная дата:', max(visitors['date']))\n",
    "print('минимальная дата:', min(visitors['date']))"
   ]
  },
  {
   "cell_type": "markdown",
   "id": "9d356140",
   "metadata": {},
   "source": [
    "<font color='#2F4F4F'>  \n",
    "    \n",
    "В датафрейме orders нам представлены следующая информация о пользователях:\n",
    "    \n",
    "- date — дата;\n",
    "- group — группа A/B-теста;\n",
    "- visitors — количество пользователей в указанную дату в указанной группе A/B-теста"
   ]
  },
  {
   "cell_type": "markdown",
   "id": "462f1ed0",
   "metadata": {},
   "source": [
    "<font color='#2F4F4F'> \n",
    "    \n",
    "## Приступим к предобработке данных:\n",
    "    \n",
    "    \n",
    "Для удобства, я переведу название столбцов датафрейма hyp в нижний регистр и переименую некоторык столбцы датафрейма orders"
   ]
  },
  {
   "cell_type": "code",
   "execution_count": 12,
   "id": "96cef03e",
   "metadata": {},
   "outputs": [],
   "source": [
    "hyp.columns=hyp.columns.str.lower()\n",
    "orders=orders.rename(columns = {'transactionId':'transaction_id', 'visitorId':'visitor_id'})"
   ]
  },
  {
   "cell_type": "markdown",
   "id": "dc4ec6a9",
   "metadata": {},
   "source": [
    "<font color='#2F4F4F'>  Убедимся, что в данных нет дубликатов:"
   ]
  },
  {
   "cell_type": "code",
   "execution_count": 13,
   "id": "b9072df4",
   "metadata": {},
   "outputs": [
    {
     "data": {
      "text/plain": [
       "0"
      ]
     },
     "execution_count": 13,
     "metadata": {},
     "output_type": "execute_result"
    }
   ],
   "source": [
    "hyp.duplicated().sum()\n",
    "orders.duplicated().sum()\n",
    "visitors.duplicated().sum()"
   ]
  },
  {
   "cell_type": "markdown",
   "id": "8a980cf8",
   "metadata": {},
   "source": [
    "<font color='#2F4F4F'> И пропусков:"
   ]
  },
  {
   "cell_type": "code",
   "execution_count": 14,
   "id": "121b8f8d",
   "metadata": {},
   "outputs": [
    {
     "data": {
      "text/plain": [
       "date        0\n",
       "group       0\n",
       "visitors    0\n",
       "dtype: int64"
      ]
     },
     "execution_count": 14,
     "metadata": {},
     "output_type": "execute_result"
    }
   ],
   "source": [
    "hyp.isna().sum()\n",
    "orders.isna().sum()\n",
    "visitors.isna().sum()"
   ]
  },
  {
   "cell_type": "markdown",
   "id": "2b37f1d1",
   "metadata": {},
   "source": [
    "<font color='#2F4F4F'> \n",
    "\n",
    "Переведем столбцы с датой в нужный тип для удобства работы с ними:"
   ]
  },
  {
   "cell_type": "code",
   "execution_count": 15,
   "id": "7444ef28",
   "metadata": {},
   "outputs": [],
   "source": [
    "visitors['date'] = pd.to_datetime(visitors['date'])\n",
    "orders['date'] = pd.to_datetime(orders['date'])"
   ]
  },
  {
   "cell_type": "markdown",
   "id": "fb58b327",
   "metadata": {},
   "source": [
    "<font color='#2F4F4F'>  Исключим также тех пользователей, которые попали в две группы одновременно, чтобы выводы были максимально точным."
   ]
  },
  {
   "cell_type": "code",
   "execution_count": 16,
   "id": "1df97409",
   "metadata": {},
   "outputs": [],
   "source": [
    "dubls = orders.groupby('visitor_id').agg(\n",
    "    {'group': 'nunique'}).query('group == 2').reset_index()['visitor_id'].tolist() "
   ]
  },
  {
   "cell_type": "code",
   "execution_count": 17,
   "id": "a4ed6f88",
   "metadata": {},
   "outputs": [],
   "source": [
    "orders = orders.query('visitor_id not in @dubls').copy()"
   ]
  },
  {
   "cell_type": "markdown",
   "id": "eb12af9f",
   "metadata": {},
   "source": [
    "<font color='#2F4F4F'> \n",
    " \n",
    "## Итак, на этом этапе я:\n",
    "    \n",
    "    \n",
    "- Познакомилась со структурой данных, с которыми предстоит работать\n",
    "    \n",
    "    \n",
    "- Привела названия столбцов к нижнему регистру и поменяла названия некоторых столбцов для упрощения работы с ними\n",
    "    \n",
    "    \n",
    "- Убедилась в качестве данных\n",
    "    \n",
    "    \n",
    "- Поменяла тип данных в столбцах с датой для удобства работы с ними\n",
    "    \n",
    "    \n",
    "- Исключила пользователей, которые находятся в двух группах сразу"
   ]
  },
  {
   "cell_type": "markdown",
   "id": "64c04fb4",
   "metadata": {},
   "source": [
    "<font color='#2F4F4F'> \n",
    "    \n",
    "# Часть 1"
   ]
  },
  {
   "cell_type": "markdown",
   "id": "aa17d21a",
   "metadata": {},
   "source": [
    "<font color='#2F4F4F'> \n",
    "    \n",
    "## Приступим к приоритизации гипотез."
   ]
  },
  {
   "cell_type": "markdown",
   "id": "08c74ccb",
   "metadata": {},
   "source": [
    "<font color='#2F4F4F'>  Для начала применим фреймворк ICE и отсортируем результат по убыванию приоритета."
   ]
  },
  {
   "cell_type": "code",
   "execution_count": 18,
   "id": "95503212",
   "metadata": {},
   "outputs": [
    {
     "name": "stdout",
     "output_type": "stream",
     "text": [
      "                                                                                                     hypothesis  \\\n",
      "8                                                       Запустить акцию, дающую скидку на товар в день рождения   \n",
      "0            Добавить два новых канала привлечения трафика, что позволит привлекать на 30% больше пользователей   \n",
      "7              Добавить форму подписки на все основные страницы, чтобы собрать базу клиентов для email-рассылок   \n",
      "6          Показать на главной странице баннеры с актуальными акциями и распродажами, чтобы увеличить конверсию   \n",
      "2  Добавить блоки рекомендаций товаров на сайт интернет магазина, чтобы повысить конверсию и средний чек заказа   \n",
      "1                                     Запустить собственную службу доставки, что сократит срок доставки заказов   \n",
      "5                      Добавить страницу отзывов клиентов о магазине, что позволит увеличить количество заказов   \n",
      "3           Изменить структура категорий, что увеличит конверсию, т.к. пользователи быстрее найдут нужный товар   \n",
      "4                              Изменить цвет фона главной страницы, чтобы увеличить вовлеченность пользователей   \n",
      "\n",
      "     ICE  \n",
      "8 16.200  \n",
      "0 13.330  \n",
      "7 11.200  \n",
      "6  8.000  \n",
      "2  7.000  \n",
      "1  2.000  \n",
      "5  1.330  \n",
      "3  1.120  \n",
      "4  1.000  \n"
     ]
    }
   ],
   "source": [
    "hyp['ICE']=round(hyp['impact']*hyp['confidence']/hyp['efforts'],2)\n",
    "print(hyp[['hypothesis','ICE']].sort_values(by='ICE', ascending=False))"
   ]
  },
  {
   "cell_type": "markdown",
   "id": "664e231c",
   "metadata": {},
   "source": [
    "<font color='#2F4F4F'> \n",
    "    \n",
    "### Итак, мы можем сделать вывод (исходя из параметра ICE), что наиболее правильно будет приоритезировать гипотезу номер 8, то есть запустить акцию, дающую скидку на товар в день рождения. Достаточно логично, так как влияние у нее довольно большое, как и уверенность в данной гипотезе, а затраты ресурсов относительно маленькие. Посмотрим, что нам покажут другой способ приоритезации гипотез."
   ]
  },
  {
   "cell_type": "markdown",
   "id": "3d039273",
   "metadata": {},
   "source": [
    "<font color='#2F4F4F'> Далее применим фреймворк RICE и также отсортируем результат по убыванию приоритета."
   ]
  },
  {
   "cell_type": "code",
   "execution_count": 19,
   "id": "1dd4b7f4",
   "metadata": {},
   "outputs": [
    {
     "name": "stdout",
     "output_type": "stream",
     "text": [
      "                                                                                                     hypothesis  \\\n",
      "7              Добавить форму подписки на все основные страницы, чтобы собрать базу клиентов для email-рассылок   \n",
      "2  Добавить блоки рекомендаций товаров на сайт интернет магазина, чтобы повысить конверсию и средний чек заказа   \n",
      "0            Добавить два новых канала привлечения трафика, что позволит привлекать на 30% больше пользователей   \n",
      "6          Показать на главной странице баннеры с актуальными акциями и распродажами, чтобы увеличить конверсию   \n",
      "8                                                       Запустить акцию, дающую скидку на товар в день рождения   \n",
      "3           Изменить структура категорий, что увеличит конверсию, т.к. пользователи быстрее найдут нужный товар   \n",
      "1                                     Запустить собственную службу доставки, что сократит срок доставки заказов   \n",
      "5                      Добавить страницу отзывов клиентов о магазине, что позволит увеличить количество заказов   \n",
      "4                              Изменить цвет фона главной страницы, чтобы увеличить вовлеченность пользователей   \n",
      "\n",
      "     RICE  \n",
      "7 112.000  \n",
      "2  56.000  \n",
      "0  40.000  \n",
      "6  40.000  \n",
      "8  16.200  \n",
      "3   9.000  \n",
      "1   4.000  \n",
      "5   4.000  \n",
      "4   3.000  \n"
     ]
    }
   ],
   "source": [
    "hyp['RICE']=(hyp['reach']*hyp['impact']*hyp['confidence'])/hyp['efforts']\n",
    "print(hyp[['hypothesis','RICE']].sort_values(by='RICE', ascending=False))"
   ]
  },
  {
   "cell_type": "markdown",
   "id": "e4443f66",
   "metadata": {},
   "source": [
    "<font color='#2F4F4F'> Здесь мы видим некоторые изменения, приоритет стоит отдать гипотезе номер 7, то есть стоит добавить форму подписки на все основные страницы, чтобы собрать базу клиентов для email-рассылок. Более того, приоритетная задача из предыдущего вывода находится на пятом месте из девяти возможных. Эта разница объясняется тем, что фреймворк RICE, помимо всего прочего, берет во внимание параметр reach, который обозначает охват пользователей. У предыдущей гипотезы охват минимальный, у гипотезы номер 7,в свою очередь, охват максимальный из возможных."
   ]
  },
  {
   "cell_type": "markdown",
   "id": "6ee71153",
   "metadata": {},
   "source": [
    "<font color='#2F4F4F'> \n",
    "    \n",
    "# Какой вывод мы можем сделать по результатам первой части нашего исследования?\n",
    "    \n",
    "## Я бы рекомендовала отдать приоритет гипотезам 7, 2, 0, 6, то есть тем, которые заняли лидирующие позиции фреймворка RICE, так как он охватывает большее количество параметров и, соответственно, более точный в результатах."
   ]
  },
  {
   "cell_type": "markdown",
   "id": "6ead0cb8",
   "metadata": {},
   "source": [
    "<font color='#2F4F4F'> \n",
    "    \n",
    "# Часть 2"
   ]
  },
  {
   "cell_type": "markdown",
   "id": "4b4ef33c",
   "metadata": {},
   "source": [
    "<font color='#2F4F4F'>  \n",
    "    \n",
    "## Для того, чтобы построить нужные нам графики, нам нужно собрать кумулятивные данные. Создадим датафрейм cumulative, в котором соберем все нужные значения со столбцами: \n",
    "    \n",
    "    \n",
    "- date — дата;\n",
    "    \n",
    "    \n",
    "- group — группа A/B-теста (A или B);\n",
    "    \n",
    "    \n",
    "- orders — кумулятивное количество заказов на указанную дату в указанной группе;\n",
    "    \n",
    "    \n",
    "- buyers — кумулятивное количество пользователей, совершивших хотя бы один заказ, на указанную дату в указанной группе;\n",
    "    \n",
    "    \n",
    "- revenue — кумулятивная выручка на указанную дату в указанной группе (средний чек);\n",
    "    \n",
    "    \n",
    "- visitors — кумулятивное количество посетителей интернет-магазина на указанную дату в определённой группе."
   ]
  },
  {
   "cell_type": "markdown",
   "id": "938e9e1a",
   "metadata": {},
   "source": [
    "<font color='#2F4F4F'>  Для этого сначала оставим только уникальные пары значений дат и групп теста"
   ]
  },
  {
   "cell_type": "code",
   "execution_count": 20,
   "id": "ca205eab",
   "metadata": {},
   "outputs": [],
   "source": [
    "dates_groups = orders[['date','group']].drop_duplicates() "
   ]
  },
  {
   "cell_type": "markdown",
   "id": "fda1a18a",
   "metadata": {},
   "source": [
    "<font color='#2F4F4F'> Далее создадим код, который выведет ежедневно обновляющиеся результаты теста по группам до максимальной даты в датафрейме включительно, поместим их в переменную orders_agg:"
   ]
  },
  {
   "cell_type": "code",
   "execution_count": 21,
   "id": "86d67a4c",
   "metadata": {},
   "outputs": [],
   "source": [
    "orders_agg = dates_groups.apply(lambda x: orders[np.logical_and(orders['date'] <= x['date'], orders['group'] == x['group'])]\\\n",
    ".agg({'date' : 'max', 'group' : 'max', 'transaction_id' : 'nunique', 'visitor_id' : 'nunique', 'revenue' : 'sum'}), axis=1).sort_values(by=['date','group'])"
   ]
  },
  {
   "cell_type": "markdown",
   "id": "0938dccb",
   "metadata": {},
   "source": [
    "<font color='#2F4F4F'> Аналогично получим агрегированные кумулятивные по дням данные о посетителях интернет-магазина: "
   ]
  },
  {
   "cell_type": "code",
   "execution_count": 22,
   "id": "acb76b2a",
   "metadata": {},
   "outputs": [],
   "source": [
    "visitors_agg = dates_groups.apply(lambda x: visitors[np.logical_and(visitors['date'] <= x['date'], visitors['group'] == x['group'])].agg({'date' : 'max', 'group' : 'max', 'visitors' : 'sum'}), axis=1).sort_values(by=['date','group'])"
   ]
  },
  {
   "cell_type": "markdown",
   "id": "4dde87a2",
   "metadata": {},
   "source": [
    "<font color='#2F4F4F'> Объединим обе таблицы в одну: "
   ]
  },
  {
   "cell_type": "code",
   "execution_count": 23,
   "id": "313a5651",
   "metadata": {
    "scrolled": true
   },
   "outputs": [
    {
     "name": "stdout",
     "output_type": "stream",
     "text": [
      "        date group  orders  buyers  revenue  visitors\n",
      "0 2019-08-01     A      23      19   142779       719\n",
      "1 2019-08-01     B      17      17    59758       713\n",
      "2 2019-08-02     A      42      36   234381      1338\n",
      "3 2019-08-02     B      40      39   221801      1294\n",
      "4 2019-08-03     A      66      60   346854      1845\n",
      "5 2019-08-03     B      54      53   288850      1803\n",
      "6 2019-08-04     A      77      71   388030      2562\n",
      "7 2019-08-04     B      68      66   385740      2573\n",
      "8 2019-08-05     A      99      92   474413      3318\n",
      "9 2019-08-05     B      89      87   475648      3280\n"
     ]
    }
   ],
   "source": [
    "cumulative = orders_agg.merge(visitors_agg, left_on=['date', 'group'], right_on=['date', 'group'])\n",
    "cumulative.columns = ['date', 'group', 'orders', 'buyers', 'revenue', 'visitors']\n",
    "\n",
    "print(cumulative.head(10)) \n"
   ]
  },
  {
   "cell_type": "code",
   "execution_count": 24,
   "id": "d3564f1f",
   "metadata": {},
   "outputs": [
    {
     "name": "stdout",
     "output_type": "stream",
     "text": [
      "максимальная дата: 2019-08-31 00:00:00\n",
      "минимальная дата: 2019-08-01 00:00:00\n"
     ]
    }
   ],
   "source": [
    "print('максимальная дата:', max(cumulative['date']))\n",
    "print('минимальная дата:', min(cumulative['date']))"
   ]
  },
  {
   "cell_type": "markdown",
   "id": "f66d89b6",
   "metadata": {},
   "source": [
    "<font color='#2F4F4F'>  \n",
    "    \n",
    "## Отлично, теперь можем приступать к построению графиков. Первым построим график кумулятивной выручки по группам. "
   ]
  },
  {
   "cell_type": "code",
   "execution_count": 25,
   "id": "1cc3ec1c",
   "metadata": {},
   "outputs": [
    {
     "data": {
      "image/png": "[encoded data removed]",
      "text/plain": [
       "<Figure size 648x360 with 1 Axes>"
      ]
     },
     "metadata": {},
     "output_type": "display_data"
    }
   ],
   "source": [
    "cumulative_revenueA= cumulative[cumulative['group']=='A'][['date', 'revenue', 'orders']]\n",
    "cumulative_revenueB=cumulative[cumulative['group']=='B'][['date','revenue','orders']]\n",
    "plt.plot(cumulative_revenueA['date'], cumulative_revenueA['revenue'], label='\"А\"')\n",
    "plt.plot(cumulative_revenueB['date'], cumulative_revenueB['revenue'], label= '\"B\"')\n",
    "plt.grid()\n",
    "plt.title(r'График кумулятивной выручки по группам')\n",
    "plt.ylabel(\"Выручка, млн.\")\n",
    "plt.xticks(rotation=30)\n",
    "plt.legend() ;"
   ]
  },
  {
   "cell_type": "markdown",
   "id": "2fba3b54",
   "metadata": {},
   "source": [
    "<font color='#2F4F4F'> \n",
    "    \n",
    "### Выручка увеличивается в течение всего теста, это, безусловно, хороший знак, однако, группа \"B\" довольно заметно вырывается вперед на ~середине теста. Также резкие точки роста могут сигнализировать о выбросах, либо о резком увеличении числа заказов."
   ]
  },
  {
   "cell_type": "markdown",
   "id": "c3e0f4e1",
   "metadata": {},
   "source": [
    "<font color='#2F4F4F'> \n",
    "\n",
    "## Следующим построим график кумулятивного среднего чека по группам:"
   ]
  },
  {
   "cell_type": "code",
   "execution_count": 26,
   "id": "f5055c8e",
   "metadata": {},
   "outputs": [
    {
     "data": {
      "image/png": "[encoded data removed]",
      "text/plain": [
       "<Figure size 648x360 with 1 Axes>"
      ]
     },
     "metadata": {},
     "output_type": "display_data"
    }
   ],
   "source": [
    "plt.plot(cumulative_revenueA['date'], cumulative_revenueA['revenue']/cumulative_revenueA['orders'], label='A')\n",
    "plt.plot(cumulative_revenueB['date'], cumulative_revenueB['revenue']/cumulative_revenueB['orders'], label='B')\n",
    "plt.grid()\n",
    "plt.title(r'График кумулятивного среднего чека по группам')\n",
    "plt.ylabel(\"Сумма\")\n",
    "plt.xticks(rotation=30)\n",
    "plt.legend() ;\n",
    "plt.legend() ;"
   ]
  },
  {
   "cell_type": "markdown",
   "id": "c8bcb549",
   "metadata": {},
   "source": [
    "<font color='#2F4F4F'>  \n",
    "    \n",
    "### Гипотеза о том, что в группе В есть выброс- значение, сильно выделяющееся на фоне других, подтверждается резким скачком на графике. Однако, на протяжении всего теста средний чек в обеих группах растет."
   ]
  },
  {
   "cell_type": "markdown",
   "id": "3d4d92a4",
   "metadata": {},
   "source": [
    "<font color='#2F4F4F'> \n",
    "\n",
    "## Следующим построим график относительного изменения кумулятивного среднего чека группы B к группе A. "
   ]
  },
  {
   "cell_type": "code",
   "execution_count": 27,
   "id": "98e100ba",
   "metadata": {},
   "outputs": [
    {
     "data": {
      "image/png": "[encoded data removed]",
      "text/plain": [
       "<Figure size 648x360 with 1 Axes>"
      ]
     },
     "metadata": {},
     "output_type": "display_data"
    }
   ],
   "source": [
    "cumulative_revenueAB= cumulative_revenueA.merge(cumulative_revenueB, left_on='date', right_on='date', how='left', suffixes=['A', 'B'])\n",
    "\n",
    "plt.plot(cumulative_revenueAB['date'], (cumulative_revenueAB['revenueB']/cumulative_revenueAB['ordersB'])/(cumulative_revenueAB['revenueA']/cumulative_revenueAB['ordersA'])-1)\n",
    "plt.grid()\n",
    "plt.title(r'График изменения кумулятивного среднего чека группы А к группе B')\n",
    "plt.xticks(rotation=30)\n",
    "plt.axhline(y=0, color='black', linestyle='--');"
   ]
  },
  {
   "cell_type": "markdown",
   "id": "6e4d63ec",
   "metadata": {},
   "source": [
    "<font color='#2F4F4F'>  \n",
    "    \n",
    "## В некоторых точках особенно заметны выбросы - значения, слишком выбивающиеся из числа остальных. От них мы избавимся чуть позже."
   ]
  },
  {
   "cell_type": "markdown",
   "id": "3c544473",
   "metadata": {},
   "source": [
    "<font color='#2F4F4F'>   \n",
    "\n",
    "### Cледующим построим график кумулятивного среднего количества заказов на посетителя по группам, то есть конверсию"
   ]
  },
  {
   "cell_type": "code",
   "execution_count": 28,
   "id": "827a000f",
   "metadata": {},
   "outputs": [
    {
     "data": {
      "image/png": "[encoded data removed]",
      "text/plain": [
       "<Figure size 648x360 with 1 Axes>"
      ]
     },
     "metadata": {},
     "output_type": "display_data"
    }
   ],
   "source": [
    "cumulative['conversion'] = cumulative['orders']/cumulative['visitors']\n",
    "\n",
    "cumulative_dataA = cumulative[cumulative['group']=='A']\n",
    "cumulative_dataB = cumulative[cumulative['group']=='B']\n",
    "\n",
    "plt.plot(cumulative_dataA['date'], cumulative_dataA['conversion'], label='A')\n",
    "plt.plot(cumulative_dataB['date'], cumulative_dataB['conversion'], label='B')\n",
    "plt.grid()\n",
    "plt.title(r'График кумулятивного среднего количества заказов на посетителя по группам')\n",
    "plt.xticks(rotation=30)\n",
    "plt.legend();\n"
   ]
  },
  {
   "cell_type": "markdown",
   "id": "a8d9bb82",
   "metadata": {},
   "source": [
    "<font color='#2F4F4F'>  \n",
    "\n",
    "Этот график наиболее ярко показывает наличие выбросов в данных. \n",
    "    \n",
    "Несмотря на скачки в начале, обе группы стабилизировались к концу теста. \n",
    "    \n",
    "Конверсия группы А стабильно ниже конверсии группы B. "
   ]
  },
  {
   "cell_type": "markdown",
   "id": "01610d8f",
   "metadata": {},
   "source": [
    "<font color='#2F4F4F'>  \n",
    "\n",
    "### Построим график относительного различия кумулятивных конверсий:"
   ]
  },
  {
   "cell_type": "code",
   "execution_count": 29,
   "id": "31e59fd3",
   "metadata": {},
   "outputs": [
    {
     "data": {
      "image/png": "[encoded data removed]",
      "text/plain": [
       "<Figure size 648x360 with 1 Axes>"
      ]
     },
     "metadata": {},
     "output_type": "display_data"
    }
   ],
   "source": [
    "cumulative_conversionsAB = (\n",
    "cumulative_dataA[['date','conversion']]\n",
    "    .merge(cumulative_dataB[['date','conversion']], \n",
    "           left_on='date', \n",
    "           right_on='date',\n",
    "           how='left', \n",
    "           suffixes=['A', 'B'])\n",
    ")\n",
    "plt.plot(cumulative_conversionsAB['date'],\n",
    "         cumulative_conversionsAB['conversionB']/\n",
    "         cumulative_conversionsAB['conversionA']-1)\n",
    "plt.title(r'Относительное изменение кумулятивного среднего количества заказов группы B относительно группы A')\n",
    "plt.axhline(y=0, color='black', linestyle='--')\n",
    "plt.axhline(y=0.15, color='grey', linestyle='--')\n",
    "plt.xticks(rotation=30);\n"
   ]
  },
  {
   "cell_type": "markdown",
   "id": "c558fb4e",
   "metadata": {},
   "source": [
    "<font color='#2F4F4F'>  \n",
    "    \n",
    "### В начале теста группа B проигрывала группе А, но потом значительно вырвалась вперед. Но делать какие-либо выводы рано, сначала нужно избавиться от выбросов. "
   ]
  },
  {
   "cell_type": "markdown",
   "id": "307e157f",
   "metadata": {},
   "source": [
    "<font color='#2F4F4F'> \n",
    "\n",
    "## Далее посмотрим на распределение количества заказов по пользователям. Это необходимо для того, чтобы исключить тех пользователей, которые делали заказов больше, чем 90-95% пользователей. \n",
    " \n",
    "    \n",
    "## Это поможет нам избавиться от значений, которые искажают результат теста."
   ]
  },
  {
   "cell_type": "code",
   "execution_count": 30,
   "id": "33276fd6",
   "metadata": {},
   "outputs": [
    {
     "data": {
      "text/plain": [
       "count   973.000\n",
       "mean      1.044\n",
       "std       0.238\n",
       "min       1.000\n",
       "25%       1.000\n",
       "50%       1.000\n",
       "75%       1.000\n",
       "max       3.000\n",
       "Name: orders, dtype: float64"
      ]
     },
     "metadata": {},
     "output_type": "display_data"
    },
    {
     "data": {
      "image/png": "[encoded data removed]",
      "text/plain": [
       "<Figure size 648x360 with 1 Axes>"
      ]
     },
     "metadata": {},
     "output_type": "display_data"
    }
   ],
   "source": [
    "orders_by_users = (\n",
    "    orders.groupby('visitor_id', as_index=False)\n",
    "    .agg({'transaction_id': 'nunique'})\n",
    ")\n",
    "orders_by_users.columns =  ['visitor_id', 'orders']\n",
    "display(orders_by_users['orders'].describe())\n",
    "\n",
    "plt.hist(orders_by_users['orders'], alpha=0.5) \n",
    "plt.title('Распределение количества заказов по пользователям')\n",
    "plt.xlabel('Количество заказов')\n",
    "plt.ylabel('Количество пользователей')\n",
    "plt.show()"
   ]
  },
  {
   "cell_type": "markdown",
   "id": "7e7f77c2",
   "metadata": {},
   "source": [
    "<font color='#2F4F4F'> \n",
    "В основном делают 1 заказ, но есть и те, кто делает 3 заказа в месяц. От этих значений мы тоже избавимся."
   ]
  },
  {
   "cell_type": "markdown",
   "id": "5d7984ed",
   "metadata": {},
   "source": [
    "<font color='#2F4F4F'> \n",
    "Для более наглядной визуализации построим точечный график"
   ]
  },
  {
   "cell_type": "code",
   "execution_count": 31,
   "id": "6d0d9d9f",
   "metadata": {},
   "outputs": [
    {
     "data": {
      "image/png": "[encoded data removed]",
      "text/plain": [
       "<Figure size 648x360 with 1 Axes>"
      ]
     },
     "metadata": {},
     "output_type": "display_data"
    }
   ],
   "source": [
    "x_values = pd.Series(range(0,len(orders_by_users)))\n",
    "plt.scatter(x_values, orders_by_users['orders'], color='purple', alpha=0.5)\n",
    "plt.title('Распределение количества заказов по пользователям')\n",
    "plt.show()"
   ]
  },
  {
   "cell_type": "markdown",
   "id": "a4598856",
   "metadata": {},
   "source": [
    "<font color='#2F4F4F'> \n",
    "    \n",
    "### Посчитаем 95-й и 99-й перцентили количества заказов на пользователя, чтобы точно определиться с долей пользователей с тем или иным количеством заказов."
   ]
  },
  {
   "cell_type": "code",
   "execution_count": 32,
   "id": "4eb02bf9",
   "metadata": {},
   "outputs": [
    {
     "data": {
      "text/plain": [
       "array([1., 2.])"
      ]
     },
     "execution_count": 32,
     "metadata": {},
     "output_type": "execute_result"
    }
   ],
   "source": [
    "np.percentile(orders_by_users['orders'], [95, 99])"
   ]
  },
  {
   "cell_type": "markdown",
   "id": "bb423604",
   "metadata": {},
   "source": [
    "<font color='#2F4F4F'> \n",
    "\n",
    "## Не более 1 процента пользователей делали более 2 заказов в месяц. Возьмем 2 за верхнюю границу в данном критерии."
   ]
  },
  {
   "cell_type": "markdown",
   "id": "5b173b09",
   "metadata": {},
   "source": [
    "<font color='#2F4F4F'> \n",
    "\n",
    "## Посмотрим на стоимость заказов по пользователям."
   ]
  },
  {
   "cell_type": "code",
   "execution_count": 33,
   "id": "72029cd1",
   "metadata": {},
   "outputs": [
    {
     "data": {
      "text/plain": [
       "count       1,016.000\n",
       "mean        8,300.815\n",
       "std        42,121.992\n",
       "min            50.000\n",
       "25%         1,190.000\n",
       "50%         2,955.000\n",
       "75%         8,134.250\n",
       "max     1,294,500.000\n",
       "Name: revenue, dtype: float64"
      ]
     },
     "metadata": {},
     "output_type": "display_data"
    },
    {
     "data": {
      "image/png": "[encoded data removed]",
      "text/plain": [
       "<Figure size 648x360 with 1 Axes>"
      ]
     },
     "metadata": {},
     "output_type": "display_data"
    }
   ],
   "source": [
    "display(orders['revenue'].describe())\n",
    "plt.hist(orders['revenue'], alpha=0.5) \n",
    "plt.title('Распределение стоимости заказов по пользователям')\n",
    "plt.xlabel('Стоимость заказов')\n",
    "plt.ylabel('Количество пользователей')\n",
    "plt.show()"
   ]
  },
  {
   "cell_type": "markdown",
   "id": "d206f58a",
   "metadata": {},
   "source": [
    "<font color='#2F4F4F'>  \n",
    "   \n",
    "### Один из заказов значительно отличается от остальных, почти 1.3 миллиона.. Конечно, этот заказ сильно повлияет на графики, от него нужно избавиться, иначе все результаты будут недостоверными."
   ]
  },
  {
   "cell_type": "code",
   "execution_count": 34,
   "id": "9560472f",
   "metadata": {},
   "outputs": [
    {
     "data": {
      "image/png": "[encoded data removed]",
      "text/plain": [
       "<Figure size 648x360 with 1 Axes>"
      ]
     },
     "metadata": {},
     "output_type": "display_data"
    }
   ],
   "source": [
    "x_values = pd.Series(range(0,len(orders)))\n",
    "plt.scatter(x_values, orders['revenue'], color='purple', alpha=0.5)\n",
    "plt.title('Распределение стоимости заказов по пользователям')\n",
    "plt.show()"
   ]
  },
  {
   "cell_type": "markdown",
   "id": "5db31455",
   "metadata": {},
   "source": [
    "<font color='#2F4F4F'> \n",
    "\n",
    "### На графике снова видно 1 выбивающееся значение-то самое, которое искажает все графики. Есть еще несколько значений, отличающихся от других. Посмотрим, что скажут проценты."
   ]
  },
  {
   "cell_type": "code",
   "execution_count": 35,
   "id": "4f50088a",
   "metadata": {},
   "outputs": [
    {
     "data": {
      "text/plain": [
       "array([26785., 53904.])"
      ]
     },
     "execution_count": 35,
     "metadata": {},
     "output_type": "execute_result"
    }
   ],
   "source": [
    "np.percentile(orders['revenue'], [95, 99])"
   ]
  },
  {
   "cell_type": "markdown",
   "id": "fdcd4212",
   "metadata": {},
   "source": [
    "<font color='#2F4F4F'> \n",
    "    \n",
    "### Определим верхней границей значение 99%, то есть 53000."
   ]
  },
  {
   "cell_type": "markdown",
   "id": "af14e843",
   "metadata": {},
   "source": [
    "<font color='#2F4F4F'>\n",
    "    \n",
    "## Посчитаем статистическую значимость различий в среднем количестве заказов на посетителя между группами по «сырым» данным, то есть не удаляя пользователей, которые значительно выбиваются из числа остальных.\n",
    "    \n",
    "Использовать для этого мы будем тест Манна-Уитни, так как он непараметрический, то есть работает с рангами, — номерами значений в упорядоченном ряду, — никак не учитывая сами значения. Это подойдет и нам, так как работа с самими значениями невозможна из-за выбросов, сильно сдвигающих параметрические результаты."
   ]
  },
  {
   "cell_type": "markdown",
   "id": "358134da",
   "metadata": {},
   "source": [
    "<font color='#2F4F4F'> \n",
    "\n",
    "### Начнём с подготовки данных. "
   ]
  },
  {
   "cell_type": "code",
   "execution_count": 36,
   "id": "67bf49c3",
   "metadata": {},
   "outputs": [
    {
     "name": "stdout",
     "output_type": "stream",
     "text": [
      "        date  orders_per_dateA  revenue_per_dateA  orders_per_dateB  \\\n",
      "0 2019-08-01                23             142779                17   \n",
      "1 2019-08-02                19              91602                23   \n",
      "2 2019-08-03                24             112473                14   \n",
      "3 2019-08-04                11              41176                14   \n",
      "4 2019-08-05                22              86383                21   \n",
      "\n",
      "   revenue_per_dateB  orders_cummulativeA  revenue_cummulativeA  \\\n",
      "0              59758                   23                142779   \n",
      "1             162043                   42                234381   \n",
      "2              67049                   66                346854   \n",
      "3              96890                   77                388030   \n",
      "4              89908                   99                474413   \n",
      "\n",
      "   orders_cummulativeB  revenue_cummulativeB  visitors_per_dateA  \\\n",
      "0                   17                 59758                 719   \n",
      "1                   40                221801                 619   \n",
      "2                   54                288850                 507   \n",
      "3                   68                385740                 717   \n",
      "4                   89                475648                 756   \n",
      "\n",
      "   visitors_per_dateB  visitors_cummulativeA  visitors_cummulativeB  \n",
      "0                 713                    719                    713  \n",
      "1                 581                   1338                   1294  \n",
      "2                 509                   1845                   1803  \n",
      "3                 770                   2562                   2573  \n",
      "4                 707                   3318                   3280  \n"
     ]
    }
   ],
   "source": [
    "visitors_dailyA = visitors[visitors['group'] == 'A'][['date', 'visitors']]\n",
    "visitors_dailyA.columns = ['date', 'visitors_per_dateA']\n",
    "\n",
    "visitors_cummulativeA = visitors_dailyA.apply(\n",
    "    lambda x: visitors_dailyA[visitors_dailyA['date'] <= x['date']].agg(\n",
    "        {'date': 'max', 'visitors_per_dateA': 'sum'}\n",
    "    ),\n",
    "    axis=1,\n",
    ")\n",
    "visitors_cummulativeA.columns = ['date', 'visitors_cummulativeA']\n",
    "\n",
    "visitors_dailyB = visitors[visitors['group'] == 'B'][['date', 'visitors']]\n",
    "visitors_dailyB.columns = ['date', 'visitors_per_dateB']\n",
    "\n",
    "visitors_cummulativeB = visitors_dailyB.apply(\n",
    "    lambda x: visitors_dailyB[visitors_dailyB['date'] <= x['date']].agg(\n",
    "        {'date': 'max', 'visitors_per_dateB': 'sum'}\n",
    "    ),\n",
    "    axis=1,\n",
    ")\n",
    "visitors_cummulativeB.columns = ['date', 'visitors_cummulativeB']\n",
    "\n",
    "orders_dailyA = (\n",
    "    orders[orders['group'] == 'A'][['date', 'transaction_id', 'visitor_id', 'revenue']]\n",
    "    .groupby('date', as_index=False)\n",
    "    .agg({'transaction_id': pd.Series.nunique, 'revenue': 'sum'})\n",
    ")\n",
    "orders_dailyA.columns = ['date', 'orders_per_dateA', 'revenue_per_dateA']\n",
    "\n",
    "orders_cummulativeA = orders_dailyA.apply(\n",
    "    lambda x: orders_dailyA[orders_dailyA['date'] <= x['date']].agg(\n",
    "        {'date': 'max', 'orders_per_dateA': 'sum', 'revenue_per_dateA': 'sum'}\n",
    "     ),\n",
    "    axis=1,\n",
    ").sort_values(by=['date'])\n",
    "orders_cummulativeA.columns = [\n",
    "    'date',\n",
    "    'orders_cummulativeA',\n",
    "    'revenue_cummulativeA',\n",
    "]\n",
    "\n",
    "orders_dailyB = (\n",
    "    orders[orders['group'] == 'B'][['date', 'transaction_id', 'visitor_id', 'revenue']]\n",
    "    .groupby('date', as_index=False)\n",
    "    .agg({'transaction_id': pd.Series.nunique, 'revenue': 'sum'})\n",
    ")\n",
    "orders_dailyB.columns = ['date', 'orders_per_dateB', 'revenue_per_dateB']\n",
    "\n",
    "orders_cummulativeB = orders_dailyB.apply(\n",
    "    lambda x: orders_dailyB[orders_dailyB['date'] <= x['date']].agg(\n",
    "        {'date': 'max', 'orders_per_dateB': 'sum', 'revenue_per_dateB': 'sum'}\n",
    "    ),\n",
    "    axis=1,\n",
    ").sort_values(by=['date'])\n",
    "orders_cummulativeB.columns = [\n",
    "    'date',\n",
    "    'orders_cummulativeB',\n",
    "    'revenue_cummulativeB',\n",
    "]\n",
    "\n",
    "data = (\n",
    "    orders_dailyA.merge(\n",
    "        orders_dailyB, left_on='date', right_on='date', how='left'\n",
    "    )\n",
    "    .merge(orders_cummulativeA, left_on='date', right_on='date', how='left')\n",
    "    .merge(orders_cummulativeB, left_on='date', right_on='date', how='left')\n",
    "    .merge(visitors_dailyA, left_on='date', right_on='date', how='left')\n",
    "    .merge(visitors_dailyB, left_on='date', right_on='date', how='left')\n",
    "    .merge(visitors_cummulativeA, left_on='date', right_on='date', how='left')\n",
    "    .merge(visitors_cummulativeB, left_on='date', right_on='date', how='left')\n",
    ")\n",
    "\n",
    "print(data.head(5)) "
   ]
  },
  {
   "cell_type": "markdown",
   "id": "cb4f27b5",
   "metadata": {},
   "source": [
    "<font color='#2F4F4F'>  \n",
    "\n",
    "### Получилась у нас следующая таблица:\n",
    "    \n",
    "    \n",
    "- date — дата;\n",
    "    \n",
    "    \n",
    "- orders_per_dateA — количество заказов в выбранную дату в группе A;\n",
    "    \n",
    "    \n",
    "- revenue_per_dateA — суммарная выручка в выбранную дату в группе A;\n",
    "    \n",
    "    \n",
    "- orders_per_dateB — количество заказов в выбранную дату в группе B;\n",
    "    \n",
    "    \n",
    "- revenue_per_dateB — суммарная выручка в выбранную дату в группе B;\n",
    "    \n",
    "    \n",
    "- orders_cummulativeA — суммарное число заказов до выбранной даты включительно в группе A;\n",
    "    \n",
    "    \n",
    "- revenue_cummulativeA — суммарная выручка до выбранной даты включительно в группе A;\n",
    "    \n",
    "    \n",
    "- orders_cummulativeB — суммарное количество заказов до выбранной даты включительно в группе B;\n",
    "    \n",
    "    \n",
    "\n",
    "- revenue_cummulativeB — суммарная выручка до выбранной даты включительно в группе B;\n",
    "    \n",
    "    \n",
    "- visitors_per_dateA — количество пользователей в выбранную дату в группе A;\n",
    "    \n",
    "    \n",
    "- visitors_per_dateB — количество пользователей в выбранную дату в группе B;\n",
    "    \n",
    "    \n",
    "- visitors_cummulativeA — количество пользователей до выбранной даты включительно в группе A;\n",
    "    \n",
    "    \n",
    "- visitors_cummulativeB — количество пользователей до выбранной даты включительно в группе B.date — дата;\n"
   ]
  },
  {
   "cell_type": "markdown",
   "id": "a69db933",
   "metadata": {},
   "source": [
    "<font color='#2F4F4F'>  \n",
    "\n",
    "## Теперь посчитаем статистическую значимость различия в среднем количестве заказов между группами.\n",
    "     \n",
    "    \n",
    "Для этого сформируем основную и альтернативную гипотезу.\n",
    "    \n",
    "Нулевая гипотеза будет звучать следующим образом:\n",
    "    \n",
    "\"Разницы в среднем количестве заказов на посетителя между группами нет\"\n",
    "    \n",
    "    \n",
    "Альтернативной гипотезой будет:\n",
    "    \n",
    "    \n",
    "\"Разница в среднем количестве заказов на посетителя между группами есть\"\n",
    "    \n",
    "Уровень статистической значимости я поставлю 0.05"
   ]
  },
  {
   "cell_type": "markdown",
   "id": "f12fba92",
   "metadata": {},
   "source": [
    "<font color='#2F4F4F'>\n",
    "    \n",
    "Создадим переменные orders_by_usersA и orders_by_usersA. В них для пользователей, которые заказывали хотя бы 1 раз, укажем число совершённых заказов. "
   ]
  },
  {
   "cell_type": "code",
   "execution_count": 37,
   "id": "294c2857",
   "metadata": {},
   "outputs": [],
   "source": [
    "orders_by_usersA = (\n",
    "    orders[orders['group'] == 'A']\n",
    "    .groupby('visitor_id', as_index=False)\n",
    "    .agg({'transaction_id': 'nunique'})\n",
    ")\n",
    "orders_by_usersA.columns =  ['visitor_id', 'orders']\n",
    "\n",
    "orders_by_usersB = (\n",
    "    orders[orders['group'] == 'B']\n",
    "    .groupby('visitor_id', as_index=False)\n",
    "    .agg({'transaction_id': 'nunique'})\n",
    ")\n",
    "orders_by_usersB.columns =  ['visitor_id', 'orders']"
   ]
  },
  {
   "cell_type": "markdown",
   "id": "e0bd0967",
   "metadata": {},
   "source": [
    "<font color='#2F4F4F'>\n",
    "    \n",
    "Объявим переменные sampleA и sampleB, в которых пользователям из разных групп будет соответствовать количество заказов. Тем, кто ничего не заказал, будут соответствовать нули. "
   ]
  },
  {
   "cell_type": "code",
   "execution_count": 38,
   "id": "117c8ee4",
   "metadata": {},
   "outputs": [],
   "source": [
    "sampleA = pd.concat([orders_by_usersA['orders'],pd.Series(0, index=np.arange(data['visitors_per_dateA'].sum() - len(orders_by_usersA['orders'])), name='orders')],axis=0)\n",
    "\n",
    "sampleB = pd.concat([orders_by_usersB['orders'],pd.Series(0, index=np.arange(data['visitors_per_dateB'].sum() - len(orders_by_usersB['orders'])), name='orders')],axis=0)"
   ]
  },
  {
   "cell_type": "code",
   "execution_count": 39,
   "id": "d17f18b9",
   "metadata": {},
   "outputs": [
    {
     "name": "stdout",
     "output_type": "stream",
     "text": [
      "P-value: 0.011\n",
      "Относительный прирост В к А: 15.980%\n"
     ]
    }
   ],
   "source": [
    "print(\"P-value: {0:.3f}\".format(st.mannwhitneyu(sampleA, sampleB)[1]))\n",
    "\n",
    "print(\"Относительный прирост В к А: {0:.3%}\".format(sampleB.mean() / sampleA.mean() - 1))"
   ]
  },
  {
   "cell_type": "markdown",
   "id": "31e9541e",
   "metadata": {},
   "source": [
    "<font color='#2F4F4F'>\n",
    "\n",
    "### Итак, p-value меньше 0.5, потому нулевую гипотезу \"Разницы в среднем количестве заказов на посетителя между группами нет\" мы отвергаем.\n",
    "    \n",
    "### При этом выигрыш группы B равен 15.98%"
   ]
  },
  {
   "cell_type": "markdown",
   "id": "6aab59b4",
   "metadata": {},
   "source": [
    "<font color='#2F4F4F'>\n",
    "\n",
    "## Далее посчитаем статистическую значимость различий в среднем чеке заказа между группами по «сырым» данным. \n",
    "    \n",
    "Нулевая гипотеза будет звучать следующим образом:\n",
    "    \n",
    "\"Разницы в среднем чеке заказа между группами нет\"\n",
    "    \n",
    "    \n",
    "Альтернативной гипотезой будет:\n",
    "    \n",
    "    \n",
    "\"Разница в среднем чеке заказа между группами есть\""
   ]
  },
  {
   "cell_type": "code",
   "execution_count": 40,
   "id": "d45d0851",
   "metadata": {},
   "outputs": [
    {
     "name": "stdout",
     "output_type": "stream",
     "text": [
      "P-value: 0.829\n",
      "Относительный прирост В к А: 28.660%\n"
     ]
    }
   ],
   "source": [
    "print('P-value: {0:.3f}'.format(st.mannwhitneyu(orders[orders['group']=='A']['revenue'], orders[orders['group']=='B']['revenue'])[1]))\n",
    "print('Относительный прирост В к А: {0:.3%}'.format(orders[orders['group']=='B']['revenue'].mean()/orders[orders['group']=='A']['revenue'].mean()-1))"
   ]
  },
  {
   "cell_type": "markdown",
   "id": "0bbbba57",
   "metadata": {},
   "source": [
    "<font color='#2F4F4F'>\n",
    "\n",
    "### Итак, p-value значительно больше 0.5, потому основную гипотезу \"Разницы в среднем чеке заказа между группами нет\" мы отвергнуть не можем, на это нет оснований.\n",
    "    \n",
    "    \n",
    "### Однако средний чек группы B выше на 28.6%"
   ]
  },
  {
   "cell_type": "markdown",
   "id": "37f695e5",
   "metadata": {},
   "source": [
    "<font color='#2F4F4F'>\n",
    "\n",
    "## Сделаем то же самое с очищенными данными, то есть исключив все выбросы."
   ]
  },
  {
   "cell_type": "markdown",
   "id": "32897d2a",
   "metadata": {},
   "source": [
    "<font color='#2F4F4F'>\n",
    "    \n",
    "Примем за аномальных пользователей тех, кто совершил от 2 заказов или совершил заказ дороже 53000. Сделаем срезы пользователей с числом заказов больше 2 — too_many_orders и пользователей, совершивших заказы дороже 53000 — too_expensive. Объединим их в таблице abnormalUsers."
   ]
  },
  {
   "cell_type": "code",
   "execution_count": 41,
   "id": "40a7e5a7",
   "metadata": {
    "scrolled": true
   },
   "outputs": [
    {
     "name": "stdout",
     "output_type": "stream",
     "text": [
      "1099    148427295\n",
      "33      249864742\n",
      "58      611059232\n",
      "949     887908475\n",
      "744     888512513\n",
      "Name: visitor_id, dtype: int64\n"
     ]
    }
   ],
   "source": [
    "too_many_orders = pd.concat(\n",
    "    [\n",
    "        orders_by_usersA[orders_by_usersA['orders'] > 2]['visitor_id'],\n",
    "        orders_by_usersB[orders_by_usersB['orders'] > 2]['visitor_id'],\n",
    "    ],\n",
    "    axis=0,\n",
    ")\n",
    "too_expensive = orders[orders['revenue'] > 53000]['visitor_id']\n",
    "abnormalUsers = (\n",
    "    pd.concat([too_many_orders, too_expensive], axis=0)\n",
    "    .drop_duplicates()\n",
    "    .sort_values()\n",
    ")\n",
    "print(abnormalUsers.head(5)) "
   ]
  },
  {
   "cell_type": "code",
   "execution_count": 42,
   "id": "fbffd3df",
   "metadata": {},
   "outputs": [],
   "source": [
    "sampleA_filtered = pd.concat(\n",
    "    [\n",
    "        orders_by_usersA[\n",
    "            np.logical_not(orders_by_usersA['visitor_id'].isin(abnormalUsers))\n",
    "        ]['orders'],\n",
    "        pd.Series(\n",
    "            0,\n",
    "            index=np.arange(\n",
    "                data['visitors_per_dateA'].sum() - len(orders_by_usersA['orders'])\n",
    "            ),\n",
    "            name='orders',\n",
    "        ),\n",
    "    ],\n",
    "    axis=0,\n",
    ")\n",
    "\n",
    "sampleB_filtered = pd.concat(\n",
    "    [\n",
    "        orders_by_usersB[\n",
    "            np.logical_not(orders_by_usersB['visitor_id'].isin(abnormalUsers))\n",
    "        ]['orders'],\n",
    "        pd.Series(\n",
    "            0,\n",
    "            index=np.arange(\n",
    "                data['visitors_per_dateB'].sum() - len(orders_by_usersB['orders'])\n",
    "            ),\n",
    "            name='orders',\n",
    "        ),\n",
    "    ],\n",
    "    axis=0,\n",
    ")"
   ]
  },
  {
   "cell_type": "markdown",
   "id": "c58c8f29",
   "metadata": {},
   "source": [
    "<font color='#2F4F4F'>\n",
    "\n",
    "\n",
    "Нулевая гипотеза будет звучать следующим образом:\n",
    "    \n",
    "\"Разницы в среднем количестве заказов на посетителя между группами в очищенных данных нет\"\n",
    "    \n",
    "    \n",
    "Альтернативной гипотезой будет:\n",
    "    \n",
    "    \n",
    "\"Разница в среднем количестве заказов на посетителя между группами в очищенных данных есть\""
   ]
  },
  {
   "cell_type": "code",
   "execution_count": 43,
   "id": "d6077dc5",
   "metadata": {},
   "outputs": [
    {
     "name": "stdout",
     "output_type": "stream",
     "text": [
      "P-value: 0.006\n",
      "Относительный прирост В к А: 19.226%\n"
     ]
    }
   ],
   "source": [
    "print('P-value: {0:.3f}'.format(st.mannwhitneyu(sampleA_filtered, sampleB_filtered)[1]))\n",
    "print('Относительный прирост В к А: {0:.3%}'.format(sampleB_filtered.mean()/sampleA_filtered.mean()-1))"
   ]
  },
  {
   "cell_type": "markdown",
   "id": "eec9bdbf",
   "metadata": {},
   "source": [
    "<font color='#2F4F4F'> \n",
    "\n",
    "### Разница между группами по-прежнему есть, прирост группы B увеличился на 4 процентных пункта."
   ]
  },
  {
   "cell_type": "markdown",
   "id": "43c54a8a",
   "metadata": {},
   "source": [
    "<font color='#2F4F4F'>\n",
    "\n",
    "## Далее посчитаем статистическую значимость различий в среднем чеке заказа между группами по очищенным данным. \n",
    "    \n",
    "нулевая гипотеза будет звучать следующим образом:\n",
    "    \n",
    "\"Разницы в среднем чеке заказа между группами в очищенных данных нет\"\n",
    "    \n",
    "    \n",
    "Альтернативной гипотезой будет:\n",
    "    \n",
    "    \n",
    "\"Разница в среднем чеке заказа между группами в очищенных данных есть\""
   ]
  },
  {
   "cell_type": "code",
   "execution_count": 44,
   "id": "5ed17d41",
   "metadata": {},
   "outputs": [
    {
     "name": "stdout",
     "output_type": "stream",
     "text": [
      "P-value: 0.842\n",
      "Относительный прирост В к А: -1.368%\n"
     ]
    }
   ],
   "source": [
    "print(\n",
    "    'P-value: {0:.3f}'.format(\n",
    "        st.mannwhitneyu(\n",
    "            orders[\n",
    "                np.logical_and(\n",
    "                    orders['group'] == 'A',\n",
    "                    np.logical_not(orders['visitor_id'].isin(abnormalUsers)),\n",
    "                )\n",
    "            ]['revenue'],\n",
    "            orders[\n",
    "                np.logical_and(\n",
    "                    orders['group'] == 'B',\n",
    "                    np.logical_not(orders['visitor_id'].isin(abnormalUsers)),\n",
    "                )\n",
    "            ]['revenue'],\n",
    "        )[1]\n",
    "    )\n",
    ")\n",
    "\n",
    "print(\n",
    "    \"Относительный прирост В к А: {0:.3%}\".format(\n",
    "        orders[\n",
    "            np.logical_and(\n",
    "                orders['group'] == 'B',\n",
    "                np.logical_not(orders['visitor_id'].isin(abnormalUsers)),\n",
    "            )\n",
    "        ]['revenue'].mean()\n",
    "        / orders[\n",
    "            np.logical_and(\n",
    "                orders['group'] == 'A',\n",
    "                np.logical_not(orders['visitor_id'].isin(abnormalUsers)),\n",
    "            )\n",
    "        ]['revenue'].mean()\n",
    "        - 1\n",
    "    )\n",
    ")"
   ]
  },
  {
   "cell_type": "markdown",
   "id": "ee787484",
   "metadata": {},
   "source": [
    "<font color='#2F4F4F'>\n",
    "    \n",
    "    \n",
    "P-value значительно больше 0.05. Значит, причин отвергать нулевую гипотезу \"Разницы в среднем чеке заказа между группами в очищенных данных нет\" нет. Различие в средних чеках минимально."
   ]
  },
  {
   "cell_type": "markdown",
   "id": "da32dc64",
   "metadata": {},
   "source": [
    "<font color='#2F4F4F'>\n",
    "\n",
    "## Вывод данного этапа:\n",
    "    \n",
    "Я проанализировала очищенные и сырые данные, посчитала статистическую значимость различий в среднем чеке и средней конверсии для групп на очищенных и сырых данных.\n",
    "    \n",
    "И на очищенных, и на сырых данных мы можем сделать одинаковый вывод:\n",
    "    \n",
    "- Разница в конверсиях есть, у группы B конверсия выше.\n",
    "    \n",
    "- Разницы в среднем чеке заказа между группами нет, различие в средних чеках минимально."
   ]
  },
  {
   "cell_type": "markdown",
   "id": "2fb05273",
   "metadata": {},
   "source": [
    "<font color='#2F4F4F'>\n",
    "    \n",
    "# Вывод исследования:\n",
    "    \n",
    "В рамках данного исследования я проанализировала 9 гипотез, а также запустила A/B тест и проанализировала его результаты.\n",
    "    \n",
    "    \n",
    "Исследование проходило в несколько этапов, и я сделала следующие шаги и получила следующие выводы:\n",
    "    \n",
    "- Изучила данные и информацию о них, необходимую для анализа\n",
    "    \n",
    " \n",
    "- Сделала предобработку данных для удобного и корректного их использования (изменила тип данных, отсеяла пользователей, которые попали в обе группы)\n",
    "    \n",
    "\n",
    "- Применила фреймворки ICE и RICE к 9 гипотезам и выявила приоритетные\n",
    "    \n",
    "    \n",
    "- Проанализировала A/B тест, а именно проанализировала следующие параметры по группам:\n",
    "    \n",
    "    \n",
    "* кумулятивную выручку\n",
    "    \n",
    "    \n",
    "* кумулятивный средний чек\n",
    "    \n",
    "\n",
    "* кумулятивное среднее количество заказов на посетителя по группам\n",
    "    \n",
    "    \n",
    "* стоимость заказов\n",
    "    \n",
    "    \n",
    "- Посчитатала статистическую значимость различий в среднем количестве заказов на посетителя по группам на \"сырых\" и \"очищенных\" данных\n",
    "    \n",
    "    \n",
    "- Посчитала статистическую значимость различий в среднем чеке заказа на посетителя по группам на \"сырых\" и \"очищенных\" данных\n",
    "    \n",
    "    \n",
    "    \n",
    "## Рекомендации по результатам данного исследования:\n",
    "    \n",
    " \n",
    "### Приоритет стоит отдать следующим гипотезам: \n",
    "    \n",
    "    \n",
    "- \"Запустить акцию, дающую скидку на товар в день рождения\",\n",
    "- \"Добавить два новых канала привлечения трафика, что позволит привлекать на 30% больше пользователей\",\n",
    "- \"Добавить форму подписки на все основные страницы, чтобы собрать базу клиентов для email-рассылок\"\n",
    "    \n",
    "    \n",
    "### Если ранжирование гипотез должно включать в себя и охват пользователей интернет-магазина, то приоритет стоит отдать следующим гипотезам:\n",
    "\n",
    "- \"Добавить форму подписки на все основные страницы, чтобы собрать базу клиентов для email-рассылок\",\n",
    "- \"Добавить блоки рекомендаций товаров на сайт интернет магазина, чтобы повысить конверсию и средний чек заказа\",\n",
    "- \"Добавить два новых канала привлечения трафика, что позволит привлекать на 30% больше пользователей\".\n",
    "    \n",
    "    \n",
    "## A/B тест\n",
    "    \n",
    "     \n",
    "И на очищенных, и на сырых данных мы можем сделать одинаковый вывод:\n",
    "    \n",
    "- Разница в конверсиях есть, у группы B конверсия выше.\n",
    "    \n",
    "- Разницы в среднем чеке заказа между группами нет, различие в средних чеках минимально.\n",
    "    \n",
    "    \n",
    "График относительного изменения кумулятивной конверсии группы B к группе A показывает, что результаты группы В стабильно лучше группы А\n",
    "\n",
    "### Учитывая все вышеперечисленные выводы, наиболее верным мне кажется решение остановить тест, зафиксировав победу группы B, так как ее конверсия значительно выше группы А."
   ]
  }
 ],
 "metadata": {
  "ExecuteTimeLog": [
   {
    "duration": 1094,
    "start_time": "2023-04-21T20:00:34.423Z"
   },
   {
    "duration": 79,
    "start_time": "2023-04-21T20:00:35.519Z"
   },
   {
    "duration": 4,
    "start_time": "2023-04-21T20:00:35.600Z"
   },
   {
    "duration": 16,
    "start_time": "2023-04-21T20:00:35.605Z"
   },
   {
    "duration": 10,
    "start_time": "2023-04-21T20:00:35.623Z"
   },
   {
    "duration": 10,
    "start_time": "2023-04-21T20:00:35.635Z"
   },
   {
    "duration": 18,
    "start_time": "2023-04-21T20:00:35.646Z"
   },
   {
    "duration": 10,
    "start_time": "2023-04-21T20:00:35.670Z"
   },
   {
    "duration": 8,
    "start_time": "2023-04-21T20:00:35.681Z"
   },
   {
    "duration": 12,
    "start_time": "2023-04-21T20:00:35.691Z"
   },
   {
    "duration": 4,
    "start_time": "2023-04-21T20:00:35.705Z"
   },
   {
    "duration": 6,
    "start_time": "2023-04-21T20:00:35.710Z"
   },
   {
    "duration": 8,
    "start_time": "2023-04-21T20:00:35.718Z"
   },
   {
    "duration": 28,
    "start_time": "2023-04-21T20:00:35.729Z"
   },
   {
    "duration": 13,
    "start_time": "2023-04-21T20:00:35.762Z"
   },
   {
    "duration": 10,
    "start_time": "2023-04-21T20:00:35.777Z"
   },
   {
    "duration": 5,
    "start_time": "2023-04-21T20:00:35.788Z"
   },
   {
    "duration": 11,
    "start_time": "2023-04-21T20:00:35.794Z"
   },
   {
    "duration": 10,
    "start_time": "2023-04-21T20:00:35.807Z"
   },
   {
    "duration": 11,
    "start_time": "2023-04-21T20:00:35.819Z"
   },
   {
    "duration": 184,
    "start_time": "2023-04-21T20:00:35.831Z"
   },
   {
    "duration": 123,
    "start_time": "2023-04-21T20:00:36.017Z"
   },
   {
    "duration": 21,
    "start_time": "2023-04-21T20:00:36.142Z"
   },
   {
    "duration": 11,
    "start_time": "2023-04-21T20:00:36.164Z"
   },
   {
    "duration": 339,
    "start_time": "2023-04-21T20:00:36.177Z"
   },
   {
    "duration": 291,
    "start_time": "2023-04-21T20:00:36.518Z"
   },
   {
    "duration": 339,
    "start_time": "2023-04-21T20:00:36.811Z"
   },
   {
    "duration": 263,
    "start_time": "2023-04-21T20:00:37.152Z"
   },
   {
    "duration": 412,
    "start_time": "2023-04-21T20:00:37.417Z"
   },
   {
    "duration": 202,
    "start_time": "2023-04-21T20:00:37.830Z"
   },
   {
    "duration": 202,
    "start_time": "2023-04-21T20:00:38.034Z"
   },
   {
    "duration": 5,
    "start_time": "2023-04-21T20:00:38.237Z"
   },
   {
    "duration": 260,
    "start_time": "2023-04-21T20:00:38.244Z"
   },
   {
    "duration": 165,
    "start_time": "2023-04-21T20:00:38.506Z"
   },
   {
    "duration": 4,
    "start_time": "2023-04-21T20:00:38.676Z"
   },
   {
    "duration": 222,
    "start_time": "2023-04-21T20:00:38.682Z"
   },
   {
    "duration": 11,
    "start_time": "2023-04-21T20:00:38.905Z"
   },
   {
    "duration": 10,
    "start_time": "2023-04-21T20:00:38.918Z"
   },
   {
    "duration": 30,
    "start_time": "2023-04-21T20:00:38.929Z"
   },
   {
    "duration": 20,
    "start_time": "2023-04-21T20:00:38.960Z"
   },
   {
    "duration": 10,
    "start_time": "2023-04-21T20:00:38.985Z"
   },
   {
    "duration": 10,
    "start_time": "2023-04-21T20:00:38.997Z"
   },
   {
    "duration": 31,
    "start_time": "2023-04-21T20:00:39.009Z"
   },
   {
    "duration": 22,
    "start_time": "2023-04-21T20:00:39.056Z"
   },
   {
    "duration": 54,
    "start_time": "2023-04-22T06:27:03.439Z"
   },
   {
    "duration": 1512,
    "start_time": "2023-04-22T06:27:11.365Z"
   },
   {
    "duration": 201,
    "start_time": "2023-04-22T06:27:12.879Z"
   },
   {
    "duration": 8,
    "start_time": "2023-04-22T06:27:13.082Z"
   },
   {
    "duration": 46,
    "start_time": "2023-04-22T06:27:13.095Z"
   },
   {
    "duration": 13,
    "start_time": "2023-04-22T06:27:13.144Z"
   },
   {
    "duration": 34,
    "start_time": "2023-04-22T06:27:13.159Z"
   },
   {
    "duration": 35,
    "start_time": "2023-04-22T06:27:13.195Z"
   },
   {
    "duration": 15,
    "start_time": "2023-04-22T06:27:13.232Z"
   },
   {
    "duration": 56,
    "start_time": "2023-04-22T06:27:13.249Z"
   },
   {
    "duration": 22,
    "start_time": "2023-04-22T06:27:13.308Z"
   },
   {
    "duration": 33,
    "start_time": "2023-04-22T06:27:13.332Z"
   },
   {
    "duration": 35,
    "start_time": "2023-04-22T06:27:13.367Z"
   },
   {
    "duration": 14,
    "start_time": "2023-04-22T06:27:13.404Z"
   },
   {
    "duration": 9,
    "start_time": "2023-04-22T06:27:13.420Z"
   },
   {
    "duration": 7,
    "start_time": "2023-04-22T06:27:13.431Z"
   },
   {
    "duration": 15,
    "start_time": "2023-04-22T06:27:13.440Z"
   },
   {
    "duration": 6,
    "start_time": "2023-04-22T06:27:13.457Z"
   },
   {
    "duration": 11,
    "start_time": "2023-04-22T06:27:13.464Z"
   },
   {
    "duration": 21,
    "start_time": "2023-04-22T06:27:13.476Z"
   },
   {
    "duration": 14,
    "start_time": "2023-04-22T06:27:13.499Z"
   },
   {
    "duration": 168,
    "start_time": "2023-04-22T06:27:13.515Z"
   },
   {
    "duration": 147,
    "start_time": "2023-04-22T06:27:13.685Z"
   },
   {
    "duration": 13,
    "start_time": "2023-04-22T06:27:13.835Z"
   },
   {
    "duration": 5,
    "start_time": "2023-04-22T06:27:13.850Z"
   },
   {
    "duration": 380,
    "start_time": "2023-04-22T06:27:13.857Z"
   },
   {
    "duration": 297,
    "start_time": "2023-04-22T06:27:14.239Z"
   },
   {
    "duration": 474,
    "start_time": "2023-04-22T06:27:14.538Z"
   },
   {
    "duration": 302,
    "start_time": "2023-04-22T06:27:15.015Z"
   },
   {
    "duration": 413,
    "start_time": "2023-04-22T06:27:15.319Z"
   },
   {
    "duration": 220,
    "start_time": "2023-04-22T06:27:15.734Z"
   },
   {
    "duration": 195,
    "start_time": "2023-04-22T06:27:15.955Z"
   },
   {
    "duration": 5,
    "start_time": "2023-04-22T06:27:16.152Z"
   },
   {
    "duration": 287,
    "start_time": "2023-04-22T06:27:16.159Z"
   },
   {
    "duration": 175,
    "start_time": "2023-04-22T06:27:16.447Z"
   },
   {
    "duration": 6,
    "start_time": "2023-04-22T06:27:16.624Z"
   },
   {
    "duration": 263,
    "start_time": "2023-04-22T06:27:16.632Z"
   },
   {
    "duration": 17,
    "start_time": "2023-04-22T06:27:16.897Z"
   },
   {
    "duration": 8,
    "start_time": "2023-04-22T06:27:16.916Z"
   },
   {
    "duration": 34,
    "start_time": "2023-04-22T06:27:16.926Z"
   },
   {
    "duration": 32,
    "start_time": "2023-04-22T06:27:16.963Z"
   },
   {
    "duration": 28,
    "start_time": "2023-04-22T06:27:16.996Z"
   },
   {
    "duration": 16,
    "start_time": "2023-04-22T06:27:17.026Z"
   },
   {
    "duration": 31,
    "start_time": "2023-04-22T06:27:17.044Z"
   },
   {
    "duration": 23,
    "start_time": "2023-04-22T06:27:17.077Z"
   },
   {
    "duration": 10,
    "start_time": "2023-04-22T06:27:39.527Z"
   },
   {
    "duration": 107,
    "start_time": "2023-04-22T06:28:06.056Z"
   },
   {
    "duration": 8,
    "start_time": "2023-04-22T06:28:29.523Z"
   },
   {
    "duration": 7,
    "start_time": "2023-04-22T06:29:34.662Z"
   },
   {
    "duration": 115,
    "start_time": "2023-04-22T06:32:11.746Z"
   },
   {
    "duration": 3,
    "start_time": "2023-04-22T06:32:31.647Z"
   },
   {
    "duration": 17,
    "start_time": "2023-04-22T06:32:38.947Z"
   },
   {
    "duration": 6,
    "start_time": "2023-04-22T06:32:49.342Z"
   },
   {
    "duration": 11,
    "start_time": "2023-04-22T06:33:02.982Z"
   },
   {
    "duration": 314,
    "start_time": "2023-04-22T06:34:01.811Z"
   },
   {
    "duration": 129,
    "start_time": "2023-04-22T06:34:13.856Z"
   },
   {
    "duration": 368,
    "start_time": "2023-04-22T06:35:20.797Z"
   },
   {
    "duration": 386,
    "start_time": "2023-04-22T06:36:13.597Z"
   },
   {
    "duration": 421,
    "start_time": "2023-04-22T06:36:31.771Z"
   },
   {
    "duration": 113,
    "start_time": "2023-04-22T06:38:11.200Z"
   },
   {
    "duration": 90,
    "start_time": "2023-04-22T06:39:13.656Z"
   },
   {
    "duration": 1063,
    "start_time": "2023-04-22T09:39:32.752Z"
   },
   {
    "duration": 77,
    "start_time": "2023-04-22T09:39:33.816Z"
   },
   {
    "duration": 4,
    "start_time": "2023-04-22T09:39:33.894Z"
   },
   {
    "duration": 15,
    "start_time": "2023-04-22T09:39:33.900Z"
   },
   {
    "duration": 10,
    "start_time": "2023-04-22T09:39:33.916Z"
   },
   {
    "duration": 9,
    "start_time": "2023-04-22T09:39:33.927Z"
   },
   {
    "duration": 10,
    "start_time": "2023-04-22T09:39:33.937Z"
   },
   {
    "duration": 25,
    "start_time": "2023-04-22T09:39:33.949Z"
   },
   {
    "duration": 19,
    "start_time": "2023-04-22T09:39:33.975Z"
   },
   {
    "duration": 22,
    "start_time": "2023-04-22T09:39:33.996Z"
   },
   {
    "duration": 5,
    "start_time": "2023-04-22T09:39:34.020Z"
   },
   {
    "duration": 14,
    "start_time": "2023-04-22T09:39:34.027Z"
   },
   {
    "duration": 13,
    "start_time": "2023-04-22T09:39:34.043Z"
   },
   {
    "duration": 8,
    "start_time": "2023-04-22T09:39:34.057Z"
   },
   {
    "duration": 8,
    "start_time": "2023-04-22T09:39:34.066Z"
   },
   {
    "duration": 21,
    "start_time": "2023-04-22T09:39:34.075Z"
   },
   {
    "duration": 6,
    "start_time": "2023-04-22T09:39:34.097Z"
   },
   {
    "duration": 16,
    "start_time": "2023-04-22T09:39:34.104Z"
   },
   {
    "duration": 9,
    "start_time": "2023-04-22T09:39:34.121Z"
   },
   {
    "duration": 11,
    "start_time": "2023-04-22T09:39:34.131Z"
   },
   {
    "duration": 147,
    "start_time": "2023-04-22T09:39:34.143Z"
   },
   {
    "duration": 118,
    "start_time": "2023-04-22T09:39:34.291Z"
   },
   {
    "duration": 10,
    "start_time": "2023-04-22T09:39:34.410Z"
   },
   {
    "duration": 14,
    "start_time": "2023-04-22T09:39:34.421Z"
   },
   {
    "duration": 339,
    "start_time": "2023-04-22T09:39:34.437Z"
   },
   {
    "duration": 261,
    "start_time": "2023-04-22T09:39:34.778Z"
   },
   {
    "duration": 344,
    "start_time": "2023-04-22T09:39:35.041Z"
   },
   {
    "duration": 257,
    "start_time": "2023-04-22T09:39:35.388Z"
   },
   {
    "duration": 363,
    "start_time": "2023-04-22T09:39:35.647Z"
   },
   {
    "duration": 187,
    "start_time": "2023-04-22T09:39:36.011Z"
   },
   {
    "duration": 161,
    "start_time": "2023-04-22T09:39:36.199Z"
   },
   {
    "duration": 4,
    "start_time": "2023-04-22T09:39:36.362Z"
   },
   {
    "duration": 268,
    "start_time": "2023-04-22T09:39:36.368Z"
   },
   {
    "duration": 166,
    "start_time": "2023-04-22T09:39:36.637Z"
   },
   {
    "duration": 6,
    "start_time": "2023-04-22T09:39:36.805Z"
   },
   {
    "duration": 276,
    "start_time": "2023-04-22T09:39:36.813Z"
   },
   {
    "duration": 9,
    "start_time": "2023-04-22T09:39:37.090Z"
   },
   {
    "duration": 8,
    "start_time": "2023-04-22T09:39:37.101Z"
   },
   {
    "duration": 40,
    "start_time": "2023-04-22T09:39:37.111Z"
   },
   {
    "duration": 11,
    "start_time": "2023-04-22T09:39:37.153Z"
   },
   {
    "duration": 8,
    "start_time": "2023-04-22T09:39:37.166Z"
   },
   {
    "duration": 8,
    "start_time": "2023-04-22T09:39:37.176Z"
   },
   {
    "duration": 51,
    "start_time": "2023-04-22T09:39:37.185Z"
   },
   {
    "duration": 14,
    "start_time": "2023-04-22T09:39:37.238Z"
   }
  ],
  "kernelspec": {
   "display_name": "Python 3 (ipykernel)",
   "language": "python",
   "name": "python3"
  },
  "language_info": {
   "codemirror_mode": {
    "name": "ipython",
    "version": 3
   },
   "file_extension": ".py",
   "mimetype": "text/x-python",
   "name": "python",
   "nbconvert_exporter": "python",
   "pygments_lexer": "ipython3",
   "version": "3.9.13"
  },
  "toc": {
   "base_numbering": 1,
   "nav_menu": {},
   "number_sections": true,
   "sideBar": true,
   "skip_h1_title": true,
   "title_cell": "Table of Contents",
   "title_sidebar": "Contents",
   "toc_cell": false,
   "toc_position": {},
   "toc_section_display": true,
   "toc_window_display": false
  }
 },
 "nbformat": 4,
 "nbformat_minor": 5
}
